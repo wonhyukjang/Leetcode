{
 "cells": [
  {
   "cell_type": "markdown",
   "metadata": {},
   "source": [
    "# 279. Perfect Squares\n"
   ]
  },
  {
   "cell_type": "markdown",
   "metadata": {},
   "source": [
    "Given a positive integer n, find the least number of perfect square numbers (for example, 1, 4, 9, 16, ...) which sum to n.\n",
    "\n"
   ]
  },
  {
   "cell_type": "markdown",
   "metadata": {},
   "source": [
    "<b>Example 1:</b><br>\n",
    "\n",
    "<b>Input:</b> n = 12<br>\n",
    "<b>Output:</b> 3 <br>\n",
    "<b>Explanation:</b> 12 = 4 + 4 + 4.<br>\n",
    "\n",
    "<b>Example 2:</b>\n",
    "\n",
    "<b>Input:</b> n = 13<br>\n",
    "<b>Output:</b> 2<br>\n",
    "<b>Explanation:</b> 13 = 4 + 9."
   ]
  },
  {
   "cell_type": "markdown",
   "metadata": {},
   "source": [
    "# Queue"
   ]
  },
  {
   "cell_type": "code",
   "execution_count": 54,
   "metadata": {},
   "outputs": [],
   "source": [
    "class Solution:\n",
    "    def numSquares(self, n):\n",
    "\n",
    "        # list of square numbers that are less than `n`\n",
    "        square_nums = [i * i for i in range(1, int(n**0.5)+1)]\n",
    "    \n",
    "        level = 0\n",
    "        queue = {n}  \n",
    "        \n",
    "        while queue:\n",
    "            level += 1            \n",
    "            nextTarget = set()\n",
    "            for remainder in queue:\n",
    "                for square_num in square_nums:\n",
    "                    if square_num == remainder:\n",
    "                        return level\n",
    "                    elif remainder < square_num:\n",
    "                        break\n",
    "                    else:\n",
    "                        nextTarget.add(remainder - square_num)\n",
    "            queue = nextTarget\n",
    "        return level"
   ]
  },
  {
   "cell_type": "markdown",
   "metadata": {},
   "source": [
    "# Dynamic Programming"
   ]
  },
  {
   "cell_type": "code",
   "execution_count": 52,
   "metadata": {},
   "outputs": [],
   "source": [
    "class Solution:\n",
    "    def numSquares(self, n):\n",
    "\n",
    "        # list of square numbers that are less than `n`\n",
    "        square_nums = [i * i for i in range(1, int(n**0.5)+1)]\n",
    "        arr = [n+1] * (n+1)\n",
    "        \n",
    "        for square_num in square_nums:\n",
    "            arr[square_num] = 1\n",
    "        for i in range(1, n+1):\n",
    "            for square_num in square_nums:\n",
    "                if i < square_num:\n",
    "                    break\n",
    "                arr[i] = min(arr[i], arr[i - square_num] + 1)\n",
    "        return arr[-1]\n"
   ]
  },
  {
   "cell_type": "code",
   "execution_count": 55,
   "metadata": {},
   "outputs": [
    {
     "data": {
      "text/plain": [
       "3"
      ]
     },
     "execution_count": 55,
     "metadata": {},
     "output_type": "execute_result"
    }
   ],
   "source": [
    "sol = Solution()\n",
    "sol.numSquares(12)"
   ]
  },
  {
   "cell_type": "code",
   "execution_count": null,
   "metadata": {},
   "outputs": [],
   "source": []
  }
 ],
 "metadata": {
  "kernelspec": {
   "display_name": "twitter",
   "language": "python",
   "name": "twitter"
  },
  "language_info": {
   "codemirror_mode": {
    "name": "ipython",
    "version": 3
   },
   "file_extension": ".py",
   "mimetype": "text/x-python",
   "name": "python",
   "nbconvert_exporter": "python",
   "pygments_lexer": "ipython3",
   "version": "3.6.10"
  }
 },
 "nbformat": 4,
 "nbformat_minor": 2
}
