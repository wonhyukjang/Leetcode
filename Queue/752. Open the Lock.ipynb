{
 "cells": [
  {
   "cell_type": "markdown",
   "metadata": {},
   "source": [
    "#  752. Open the Lock\n",
    "\n"
   ]
  },
  {
   "cell_type": "markdown",
   "metadata": {},
   "source": [
    "You have a lock in front of you with 4 circular wheels. Each wheel has 10 slots: '0', '1', '2', '3', '4', '5', '6', '7', '8', '9'. The wheels can rotate freely and wrap around: for example we can turn '9' to be '0', or '0' to be '9'. Each move consists of turning one wheel one slot.\n",
    "\n",
    "The lock initially starts at '0000', a string representing the state of the 4 wheels.\n",
    "\n",
    "You are given a list of deadends dead ends, meaning if the lock displays any of these codes, the wheels of the lock will stop turning and you will be unable to open it.\n",
    "\n",
    "Given a target representing the value of the wheels that will unlock the lock, return the minimum total number of turns required to open the lock, or -1 if it is impossible."
   ]
  },
  {
   "cell_type": "markdown",
   "metadata": {},
   "source": [
    "<b>Example 1:</b><br>\n",
    "<b>Input:</b> deadends = [\"0201\",\"0101\",\"0102\",\"1212\",\"2002\"], target = \"0202\"<br>\n",
    "<b>Output:</b> 6<br>\n",
    "<b>Explanation:</b><br>\n",
    "A sequence of valid moves would be \"0000\" -> \"1000\" -> \"1100\" -> \"1200\" -> \"1201\" -> \"1202\" -> \"0202\".\n",
    "Note that a sequence like \"0000\" -> \"0001\" -> \"0002\" -> \"0102\" -> \"0202\" would be invalid,\n",
    "because the wheels of the lock become stuck after the display becomes the dead end \"0102\".\n"
   ]
  },
  {
   "cell_type": "markdown",
   "metadata": {},
   "source": [
    "<b>Example 2:</b><br>\n",
    "<b>Input:</b> deadends = [\"8888\"], target = \"0009\"<br>\n",
    "<b>Output: 1</b><br>\n",
    "<b>Explanation:</b><br>\n",
    "We can turn the last wheel in reverse to move from \"0000\" -> \"0009\"."
   ]
  },
  {
   "cell_type": "markdown",
   "metadata": {},
   "source": [
    "<b>Example 3:</b>\n",
    "<b>Input:</b><br> deadends = [\"8887\",\"8889\",\"8878\",\"8898\",\"8788\",\"8988\",\"7888\",\"9888\"], <b>target</b> = \"8888\"<br>\n",
    "<b>Output:</b> -1<br>\n",
    "<b>Explanation:</b><br>\n",
    "We can't reach the target without getting stuck.<br>\n",
    "\n",
    "\n",
    "<b>Example 4:</b><br>\n",
    "<b>Input:</b> deadends = [\"0000\"], target = \"8888\"<br>\n",
    "<b>Output:</b> -1<br>\n",
    "\n",
    "<b>Note:</b><br>\n",
    "\n",
    "<li>The length of deadends will be in the range [1, 500].</li>\n",
    "<li>target will not be in the list deadends.</li>\n",
    "<li>Every string in deadends and the string target will be a string of 4 digits from the 10,000 possibilities '0000' to '9999'.</li>"
   ]
  },
  {
   "cell_type": "code",
   "execution_count": 3,
   "metadata": {},
   "outputs": [
    {
     "data": {
      "text/plain": [
       "9"
      ]
     },
     "execution_count": 3,
     "metadata": {},
     "output_type": "execute_result"
    }
   ],
   "source": [
    "-1 % 10"
   ]
  },
  {
   "cell_type": "code",
   "execution_count": 4,
   "metadata": {},
   "outputs": [],
   "source": [
    "class Solution(object):\n",
    "    def openLock(self, deadends, target):\n",
    "        def neighbors(node):\n",
    "            for i in xrange(4):\n",
    "                x = int(node[i])\n",
    "                for d in (-1, 1):\n",
    "                    y = (x + d) % 10\n",
    "                    yield node[:i] + str(y) + node[i+1:]\n",
    "        dead = set(deadends)\n",
    "        queue = collections.deque([('0000', 0)])\n",
    "        seen = {}\n",
    "        while queue:\n",
    "            tmp, depth = queue.popleft()\n",
    "            if tmp in dead:\n",
    "                continue\n",
    "            if poss == target:\n",
    "                return depth\n",
    "\n",
    "                \n",
    "            for poss in neighbors(tmp):\n",
    "                if poss not in seen:\n",
    "                    seen.add(poss)\n",
    "                    queue.append((poss, depth + 1))\n",
    "        return -1"
   ]
  },
  {
   "cell_type": "code",
   "execution_count": null,
   "metadata": {},
   "outputs": [],
   "source": [
    "class Solution:\n",
    "    def openLock(self, deadends, target):\n",
    "        moved, q = set(deadends), [\"0000\"]\n",
    "        cnt, move = 0, {str(i): [str((i + 1) % 10), str((i - 1) % 10)] for i in range(10)}\n",
    "\n",
    "        if \"0000\" in moved:\n",
    "            return -1\n",
    "        \n",
    "        while q:\n",
    "            new = []\n",
    "            cnt += 1\n",
    "            for s in q:\n",
    "                for i, c in enumerate(s):\n",
    "                    for cur in (s[:i] + move[c][0] + s[i + 1:], s[:i] + move[c][1] + s[i + 1:]):\n",
    "                        if cur not in moved:\n",
    "                            if cur == target:\n",
    "                                return cnt\n",
    "                            new.append(cur)\n",
    "                            moved.add(cur)\n",
    "            q = new\n",
    "        return -1"
   ]
  }
 ],
 "metadata": {
  "kernelspec": {
   "display_name": "twitter",
   "language": "python",
   "name": "twitter"
  },
  "language_info": {
   "codemirror_mode": {
    "name": "ipython",
    "version": 3
   },
   "file_extension": ".py",
   "mimetype": "text/x-python",
   "name": "python",
   "nbconvert_exporter": "python",
   "pygments_lexer": "ipython3",
   "version": "3.6.10"
  }
 },
 "nbformat": 4,
 "nbformat_minor": 2
}
