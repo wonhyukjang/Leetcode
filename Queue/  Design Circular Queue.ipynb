{
 "cells": [
  {
   "cell_type": "markdown",
   "metadata": {},
   "source": [
    "#  Design Circular Queue\n",
    "\n"
   ]
  },
  {
   "cell_type": "markdown",
   "metadata": {},
   "source": [
    "Design your implementation of the circular queue. The circular queue is a linear data structure in which the operations are performed based on FIFO (First In First Out) principle and the last position is connected back to the first position to make a circle. It is also called \"Ring Buffer\".\n",
    "\n",
    "One of the benefits of the circular queue is that we can make use of the spaces in front of the queue. In a normal queue, once the queue becomes full, we cannot insert the next element even if there is a space in front of the queue. But using the circular queue, we can use the space to store new values.\n",
    "\n",
    "Your implementation should support following operations:\n",
    "\n",
    "<li>MyCircularQueue(k): Constructor, set the size of the queue to be k.<br>\n",
    "<li>Front: Get the front item from the queue. If the queue is empty, return -1.<br>\n",
    "<li>Rear: Get the last item from the queue. If the queue is empty, return -1.<br>\n",
    "<li>enQueue(value): Insert an element into the circular queue. Return true if the operation is successful.<br>\n",
    "<li>deQueue(): Delete an element from the circular queue. Return true if the operation is successful.<br>\n",
    "<li>isEmpty(): Checks whether the circular queue is empty or not.<br>\n",
    "<li>isFull(): Checks whether the circular queue is full or not."
   ]
  },
  {
   "cell_type": "markdown",
   "metadata": {},
   "source": [
    "<b>Example:</b><br>\n",
    "\n",
    "MyCircularQueue circularQueue = new MyCircularQueue(3); // set the size to be 3<br>\n",
    "circularQueue.enQueue(1);  // return true <br>\n",
    "circularQueue.enQueue(2);  // return true <br>\n",
    "circularQueue.enQueue(3);  // return true <br>\n",
    "circularQueue.enQueue(4);  // return false, the queue is full <br>\n",
    "circularQueue.Rear();  // return 3 <br>\n",
    "circularQueue.isFull();  // return true <br>\n",
    "circularQueue.deQueue();  // return true <br>\n",
    "circularQueue.enQueue(4);  // return true <br>\n",
    "circularQueue.Rear();  // return 4"
   ]
  },
  {
   "cell_type": "markdown",
   "metadata": {},
   "source": [
    "<b>Note:</b>\n",
    "\n",
    "<li>All values will be in the range of [0, 1000].<br>\n",
    "<li>The number of operations will be in the range of [1, 1000].<br>\n",
    "<li>Please do not use the built-in Queue library."
   ]
  },
  {
   "cell_type": "code",
   "execution_count": 2,
   "metadata": {},
   "outputs": [],
   "source": [
    "class MyCircularQueue(object):\n",
    "    # O(k)\n",
    "    def __init__(self, k):\n",
    "        \"\"\"\n",
    "        Initialize your data structure here. Set the size of the queue to be k.\n",
    "        :type k: int\n",
    "        \"\"\"\n",
    "        self.size = k\n",
    "        self.queue = []\n",
    "\n",
    "    # O(1)\n",
    "    def enQueue(self, value):\n",
    "        \"\"\"\n",
    "        Insert an element into the circular queue. Return true if the operation is successful.\n",
    "        :type value: int\n",
    "        :rtype: bool\n",
    "        \"\"\"\n",
    "        if len(self.queue) < self.size:        \n",
    "            self.queue.append(value)\n",
    "            return True\n",
    "        else:\n",
    "            return False\n",
    "    # O(1)    \n",
    "    \n",
    "    def deQueue(self):\n",
    "        \"\"\"\n",
    "        Delete an element from the circular queue. Return true if the operation is successful.\n",
    "        :rtype: bool\n",
    "        \"\"\"\n",
    "        if len(self.queue) == 0:\n",
    "            return False\n",
    "        self.queue.remove(self.queue[0])\n",
    "        return True\n",
    "    \n",
    "    # O(1)\n",
    "    \n",
    "    def Front(self):\n",
    "        \"\"\"\n",
    "        Get the front item from the queue.\n",
    "        :rtype: int\n",
    "        \"\"\"\n",
    "        if self.queue:\n",
    "            return self.queue[0]\n",
    "        return -1\n",
    "\n",
    "    # O(1)\n",
    "    \n",
    "    def Rear(self):\n",
    "        \"\"\"\n",
    "        Get the last item from the queue.\n",
    "        :rtype: int\n",
    "        \"\"\"\n",
    "        if self.queue:\n",
    "            return self.queue[-1]\n",
    "        return -1\n",
    "        \n",
    "    # O(1)\n",
    "\n",
    "    def isEmpty(self):\n",
    "        \"\"\"\n",
    "        Checks whether the circular queue is empty or not.\n",
    "        :rtype: bool\n",
    "        \"\"\"\n",
    "        return len(self.queue) == 0\n",
    "\n",
    "    # O(1)\n",
    "\n",
    "    def isFull(self):\n",
    "        \"\"\"\n",
    "        Checks whether the circular queue is full or not.\n",
    "        :rtype: bool\n",
    "        \"\"\"\n",
    "        return len(self.queue) == self.size\n",
    "\n",
    "\n",
    "# Your MyCircularQueue object will be instantiated and called as such:\n",
    "# obj = MyCircularQueue(k)\n",
    "# param_1 = obj.enQueue(value)\n",
    "# param_2 = obj.deQueue()\n",
    "# param_3 = obj.Front()\n",
    "# param_4 = obj.Rear()\n",
    "# param_5 = obj.isEmpty()\n",
    "# param_6 = obj.isFull()"
   ]
  },
  {
   "cell_type": "code",
   "execution_count": null,
   "metadata": {},
   "outputs": [],
   "source": []
  }
 ],
 "metadata": {
  "kernelspec": {
   "display_name": "twitter",
   "language": "python",
   "name": "twitter"
  },
  "language_info": {
   "codemirror_mode": {
    "name": "ipython",
    "version": 3
   },
   "file_extension": ".py",
   "mimetype": "text/x-python",
   "name": "python",
   "nbconvert_exporter": "python",
   "pygments_lexer": "ipython3",
   "version": "3.6.10"
  }
 },
 "nbformat": 4,
 "nbformat_minor": 2
}
