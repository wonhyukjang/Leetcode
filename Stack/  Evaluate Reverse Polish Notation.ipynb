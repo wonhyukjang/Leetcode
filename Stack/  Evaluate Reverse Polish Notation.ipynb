{
 "cells": [
  {
   "cell_type": "markdown",
   "metadata": {},
   "source": [
    "#  Evaluate Reverse Polish Notation\n",
    "\n"
   ]
  },
  {
   "cell_type": "markdown",
   "metadata": {},
   "source": [
    "Evaluate the value of an arithmetic expression in Reverse Polish Notation.\n",
    "\n",
    "Valid operators are +, -, *, /. Each operand may be an integer or another expression.\n",
    "\n",
    "Note:\n",
    "\n",
    "<li>Division between two integers should truncate toward zero.</li>\n",
    "<li>The given RPN expression is always valid. That means the expression would always evaluate to a result and there won't be any divide by zero operation.</li>\n",
    "\n",
    "<b>Example 1:</b>\n",
    "\n",
    "<b>Input:</b> [\"2\", \"1\", \"+\", \"3\", \"*\"]<br>\n",
    "<b>Output:</b> 9<br>\n",
    "<b>Explanation:</b> ((2 + 1) * 3) = 9<br>\n",
    "\n",
    "<b>Example 2:</b><br>\n",
    "\n",
    "<b>Input:</b> [\"4\", \"13\", \"5\", \"/\", \"+\"]<br>\n",
    "<b>Output:</b> 6<br>\n",
    "<b>Explanation:</b> (4 + (13 / 5)) = 6<br>\n",
    "\n",
    "<b>Example 3:</b>\n",
    "\n",
    "<b>Input:</b> [\"10\", \"6\", \"9\", \"3\", \"+\", \"-11\", \"*\", \"/\", \"*\", \"17\", \"+\", \"5\", \"+\"]<br>\n",
    "<b>Output:</b> 22<br>\n",
    "<b>Explanation: </b><br>\n",
    "  ((10 * (6 / ((9 + 3) * -11))) + 17) + 5<br>\n",
    "= ((10 * (6 / (12 * -11))) + 17) + 5<br>\n",
    "= ((10 * (6 / -132)) + 17) + 5<br>\n",
    "= ((10 * 0) + 17) + 5<br>\n",
    "= (0 + 17) + 5<br>\n",
    "= 17 + 5<br>\n",
    "= 22<br>"
   ]
  },
  {
   "cell_type": "code",
   "execution_count": 1,
   "metadata": {},
   "outputs": [],
   "source": [
    "class Solution(object):\n",
    "    def evalRPN(self, tokens):\n",
    "        \"\"\"\n",
    "        :type tokens: List[str]\n",
    "        :rtype: int\n",
    "        \"\"\"\n",
    "        operators = ['+', '-','*','/']\n",
    "        stack = []\n",
    "        \n",
    "        for token in tokens:\n",
    "            # Do Operation\n",
    "            if token in operators:\n",
    "                num1 = int(stack.pop())\n",
    "                num2 = int(stack.pop())\n",
    "                if token == '+':\n",
    "                    stack.append(num1 + num2)\n",
    "                elif token == '-':\n",
    "                    stack.append(num2 - num1)\n",
    "                \n",
    "                elif token == '*':\n",
    "                    stack.append(num1 * num2)                \n",
    "                # Division\n",
    "                else:\n",
    "                    # One of number is (-)\n",
    "                    flag = num2 * num1 < 0\n",
    "                    \n",
    "                    # Division is possible\n",
    "                    if abs(num2) > abs(num1):\n",
    "                        # Handle case when one of number < 0                        \n",
    "                        if flag:\n",
    "                            stack.append(-1 * (abs(num2) / abs(num1)))\n",
    "                        # Handle case when two numbers have same sign                                                    \n",
    "                        else:\n",
    "                            stack.append(num2 / num1)\n",
    "                            \n",
    "                    # Division is always 0                            \n",
    "                    else:\n",
    "                        stack.append(0)\n",
    "                        \n",
    "            # Add numbers to the Stack                        \n",
    "            else:\n",
    "                stack.append(token)\n",
    "        return stack[-1]"
   ]
  },
  {
   "cell_type": "code",
   "execution_count": 2,
   "metadata": {},
   "outputs": [
    {
     "data": {
      "text/plain": [
       "22"
      ]
     },
     "execution_count": 2,
     "metadata": {},
     "output_type": "execute_result"
    }
   ],
   "source": [
    "sol = Solution()\n",
    "sol.evalRPN([\"10\", \"6\", \"9\", \"3\", \"+\", \"-11\", \"*\", \"/\", \"*\", \"17\", \"+\", \"5\", \"+\"])"
   ]
  },
  {
   "cell_type": "markdown",
   "metadata": {},
   "source": [
    "# Analysis\n",
    "### Time Complexity: O(n)\n",
    "### Time Complexity: O(n)"
   ]
  }
 ],
 "metadata": {
  "kernelspec": {
   "display_name": "twitter",
   "language": "python",
   "name": "twitter"
  },
  "language_info": {
   "codemirror_mode": {
    "name": "ipython",
    "version": 3
   },
   "file_extension": ".py",
   "mimetype": "text/x-python",
   "name": "python",
   "nbconvert_exporter": "python",
   "pygments_lexer": "ipython3",
   "version": "3.6.10"
  }
 },
 "nbformat": 4,
 "nbformat_minor": 2
}
