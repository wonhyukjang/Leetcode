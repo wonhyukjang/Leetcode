{
 "cells": [
  {
   "cell_type": "markdown",
   "metadata": {},
   "source": [
    "# 567. Permutation in String\n"
   ]
  },
  {
   "cell_type": "markdown",
   "metadata": {},
   "source": [
    "#### Given two strings s1 and s2, write a function to return true if s2 contains the permutation of s1. In other words, one of the first string's permutations is the substring of the second string."
   ]
  },
  {
   "cell_type": "markdown",
   "metadata": {},
   "source": [
    "##### Example 1:\n",
    "\n",
    "Input: s1 = \"ab\" s2 = \"eidbaooo\" <br/>\n",
    "Output: True <br/>\n",
    "Explanation: s2 contains one permutation of s1 (\"ba\")."
   ]
  },
  {
   "cell_type": "markdown",
   "metadata": {},
   "source": [
    "##### Example 2:\n",
    "\n",
    "Input:s1= \"ab\" s2 = \"eidboaoo\" <br/>\n",
    "Output: False"
   ]
  },
  {
   "cell_type": "code",
   "execution_count": 3,
   "metadata": {},
   "outputs": [],
   "source": [
    "class Solution:\n",
    "    def checkInclusion(self, s1: str, s2: str) -> bool:\n",
    "\n",
    "        s1_dic = {}\n",
    "        s2_dic = {}\n",
    "\n",
    "        if len(s1) > len(s2):\n",
    "            return False\n",
    "        \n",
    "        for i in range(len(s1)):\n",
    "            if s1_dic.get(s1[i],0) == 0:\n",
    "                s1_dic[s1[i]] = 1\n",
    "            else:\n",
    "                s1_dic[s1[i]] += 1\n",
    "\n",
    "            if s2_dic.get(s2[i],0) == 0:\n",
    "                s2_dic[s2[i]] = 1\n",
    "            else:\n",
    "                s2_dic[s2[i]] += 1\n",
    "                \n",
    "        if s1_dic == s2_dic:\n",
    "            return True\n",
    "        \n",
    "        for i in range(len(s2) - len(s1)):\n",
    "            if s2_dic.get(s2[i], 1) == 1:\n",
    "                del s2_dic[s2[i]]\n",
    "            else:\n",
    "                s2_dic[s2[i]] -= 1\n",
    "            \n",
    "            if s2_dic.get(s2[i+len(s1)], 0) == 0:\n",
    "                s2_dic[s2[i+len(s1)]] = 1\n",
    "            else:\n",
    "                s2_dic[s2[i+len(s1)]] += 1\n",
    "\n",
    "            if s1_dic == s2_dic:\n",
    "                return True\n",
    "        return False\n"
   ]
  },
  {
   "cell_type": "markdown",
   "metadata": {},
   "source": [
    "# Analysis\n"
   ]
  },
  {
   "cell_type": "markdown",
   "metadata": {},
   "source": [
    "### Time Complexity: O(n)\n",
    "### Space Complexity: O(n)"
   ]
  },
  {
   "cell_type": "code",
   "execution_count": null,
   "metadata": {},
   "outputs": [],
   "source": []
  }
 ],
 "metadata": {
  "kernelspec": {
   "display_name": "Python 3",
   "language": "python",
   "name": "python3"
  },
  "language_info": {
   "codemirror_mode": {
    "name": "ipython",
    "version": 3
   },
   "file_extension": ".py",
   "mimetype": "text/x-python",
   "name": "python",
   "nbconvert_exporter": "python",
   "pygments_lexer": "ipython3",
   "version": "3.5.4"
  }
 },
 "nbformat": 4,
 "nbformat_minor": 2
}
