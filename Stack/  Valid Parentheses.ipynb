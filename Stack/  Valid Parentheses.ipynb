{
 "cells": [
  {
   "cell_type": "markdown",
   "metadata": {},
   "source": [
    "# Valid Parentheses"
   ]
  },
  {
   "cell_type": "markdown",
   "metadata": {},
   "source": [
    "Given a string containing just the characters '(', ')', '{', '}', '[' and ']', determine if the input string is valid.\n",
    "\n",
    "An input string is valid if:<br>\n",
    "\n",
    "<li>Open brackets must be closed by the same type of brackets.</li>\n",
    "<li>Open brackets must be closed in the correct order.</li>\n",
    "<li>Note that an empty string is also considered valid.</li>"
   ]
  },
  {
   "cell_type": "markdown",
   "metadata": {},
   "source": [
    "<b>Example 1:</b><br>\n",
    "<b>Input:</b> \"( )\"<br>\n",
    "<b>Output:</b> true\n"
   ]
  },
  {
   "cell_type": "markdown",
   "metadata": {},
   "source": [
    "<b>Example 2:</b>\n",
    "\n",
    "<b>Input:</b> \"()[]{}\"<br>\n",
    "<b>Output:</b> true<br>\n",
    "    \n",
    "    \n",
    "<b>Example 3:</b>\n",
    "\n",
    "<b>Input:</b> \"(]\"<br>\n",
    "<b>Output:</b> false<br>\n",
    "    \n",
    "    \n",
    "<b>Example 4:</b>\n",
    "\n",
    "<b>Input:</b> \"([)]\"<br>\n",
    "<b>Output:</b> false<br>\n",
    "\n",
    "    \n",
    "<b>Example 5:</b>\n",
    "\n",
    "<b>Input:</b> \"{[]}\"<br>\n",
    "<b>Output:</b> true"
   ]
  },
  {
   "cell_type": "code",
   "execution_count": 2,
   "metadata": {},
   "outputs": [],
   "source": [
    "class Solution(object):\n",
    "    def isValid(self, s):\n",
    "        \"\"\"\n",
    "        :type s: str\n",
    "        :rtype: bool\n",
    "        \"\"\"\n",
    "\n",
    "        openBraket = ['(','{','[']\n",
    "        braket_map = {'{': '}','(':')', '[': ']'}\n",
    "        \n",
    "        stack = []\n",
    "        \n",
    "        for braket in s:\n",
    "            if braket in openBraket:\n",
    "                stack.append(braket)\n",
    "            elif stack and braket == braket_map[stack[-1]]:\n",
    "                stack.pop()\n",
    "            else:\n",
    "                return False\n",
    "        return stack == []"
   ]
  },
  {
   "cell_type": "code",
   "execution_count": 4,
   "metadata": {},
   "outputs": [
    {
     "data": {
      "text/plain": [
       "True"
      ]
     },
     "execution_count": 4,
     "metadata": {},
     "output_type": "execute_result"
    }
   ],
   "source": [
    "sol = Solution()\n",
    "sol.isValid('{[]}')"
   ]
  },
  {
   "cell_type": "markdown",
   "metadata": {},
   "source": [
    "# Analysis"
   ]
  },
  {
   "cell_type": "markdown",
   "metadata": {},
   "source": [
    "### Time Complexity: O(n)\n",
    "### Space Complexity: O(1)\n",
    "\n"
   ]
  },
  {
   "cell_type": "code",
   "execution_count": null,
   "metadata": {},
   "outputs": [],
   "source": []
  }
 ],
 "metadata": {
  "kernelspec": {
   "display_name": "twitter",
   "language": "python",
   "name": "twitter"
  },
  "language_info": {
   "codemirror_mode": {
    "name": "ipython",
    "version": 3
   },
   "file_extension": ".py",
   "mimetype": "text/x-python",
   "name": "python",
   "nbconvert_exporter": "python",
   "pygments_lexer": "ipython3",
   "version": "3.6.10"
  }
 },
 "nbformat": 4,
 "nbformat_minor": 2
}
