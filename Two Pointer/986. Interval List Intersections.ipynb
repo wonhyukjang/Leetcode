{
 "cells": [
  {
   "cell_type": "markdown",
   "metadata": {},
   "source": [
    "# 986. Interval List Intersections\n"
   ]
  },
  {
   "cell_type": "markdown",
   "metadata": {},
   "source": [
    "# Given two lists of closed intervals, each list of intervals is pairwise disjoint and in sorted order.\n",
    "\n",
    "Return the intersection of these two interval lists.\n",
    "\n",
    "(Formally, a closed interval [a, b] (with a <= b) denotes the set of real numbers x with a <= x <= b.  The intersection of two closed intervals is a set of real numbers that is either empty, or can be represented as a closed interval.  For example, the intersection of [1, 3] and [2, 4] is [2, 3].)<br/>\n",
    "Input: <br/>\n",
    "A = [[0,2],[5,10],[13,23],[24,25]], <br/>\n",
    "B = [[1,5],[8,12],[15,24],[25,26]]<br/>\n",
    "Output: [[1,2],[5,5],[8,10],[15,23],[24,24],[25,25]]\n",
    " "
   ]
  },
  {
   "cell_type": "markdown",
   "metadata": {},
   "source": [
    "##### case 1.  \n",
    "    ————\n",
    "\t           \t\t————\n",
    "\n",
    "smallArr[1] < bigArr[0]\n",
    "-> None\n",
    "\n",
    "###### case 2.  \n",
    "        ————\n",
    "\t      ————\n",
    "\n",
    "smallArr[0] < bigArr[0] <= smallArr[1] and smallArr[1] <bigArr[1]\n",
    "-> bigArr[0] & smallArr[1]\n",
    "\n",
    "###### case3.  \n",
    "            ————\n",
    "            ——\n",
    "smallArr[0] < bigArr[0]  and bigArr[1] < smallArr[1]\n",
    "-> bigArr[0] & bigArr[1]\n",
    "\n",
    "###### case 4. \t \n",
    "             ————\n",
    "            ——\n",
    "\n",
    "smallArr[0] <= bigArr[1] < smallArr[1] and smallArr[1] > bigArr[1]\n",
    "-> smallArr[0] & bigArr[1]\n",
    "\n",
    "###### case 5. \t\t\n",
    "            ————\n",
    "     ——\n",
    "\n",
    "smallArr[0] < bigArr[1]\n",
    "-> None\n",
    "\n",
    "###### case 6.     \n",
    "           —\n",
    "         ————\n",
    "bigArr[0] < smallArr[0] and smallArr[1] < bigArr[1]\n",
    "-> smallArr[0] & smallArr[1]\n"
   ]
  },
  {
   "cell_type": "code",
   "execution_count": 4,
   "metadata": {},
   "outputs": [],
   "source": [
    "class Solution(object):\n",
    "    def intervalIntersection(self, A, B):\n",
    "        \"\"\"\n",
    "        :type A: List[List[int]]\n",
    "        :type B: List[List[int]]\n",
    "        :rtype: List[List[int]]\n",
    "        \"\"\"\n",
    "        ptrA = 0\n",
    "        ptrB = 0\n",
    "        lenA = len(A)\n",
    "        lenB = len(B)\n",
    "\n",
    "        \n",
    "        arr = []\n",
    "        \n",
    "        while ptrA <= lenA - 1 and ptrB <= lenB - 1:                \n",
    "            if A[ptrA][1] < B[ptrB][0]:\n",
    "                ptrA += 1\n",
    "            \n",
    "            elif A[ptrA][0] < B[ptrB][0] and A[ptrA][1] >= B[ptrB][0] and A[ptrA][1] < B[ptrB][1]:\n",
    "                arr.append([B[ptrB][0], A[ptrA][1]])\n",
    "                ptrA += 1\n",
    "                \n",
    "            elif A[ptrA][0] <= B[ptrB][0] and B[ptrB][1] <= A[ptrA][1]:\n",
    "                arr.append([B[ptrB][0], B[ptrB][1]])\n",
    "                ptrB += 1\n",
    "                \n",
    "            elif A[ptrA][0] <= B[ptrB][1] and B[ptrB][1] < A[ptrA][1] and A[ptrA][1] > B[ptrB][1]:\n",
    "                arr.append([A[ptrA][0],B[ptrB][1]])\n",
    "                ptrB += 1\n",
    "            elif A[ptrA][0] > B[ptrB][1]:\n",
    "                ptrB += 1\n",
    "                \n",
    "            elif A[ptrA][0] >= B[ptrB][0] and A[ptrA][1] <= B[ptrB][1]:\n",
    "                arr.append([A[ptrA][0],A[ptrA][1]])\n",
    "                ptrA += 1 \n",
    "        return arr"
   ]
  },
  {
   "cell_type": "code",
   "execution_count": 2,
   "metadata": {},
   "outputs": [
    {
     "data": {
      "text/plain": [
       "[[1, 2], [5, 5], [8, 10], [15, 23], [24, 24], [25, 25]]"
      ]
     },
     "execution_count": 2,
     "metadata": {},
     "output_type": "execute_result"
    }
   ],
   "source": [
    "sol = Solution()\n",
    "sol.intervalIntersection([[0,2],[5,10],[13,23],[24,25]], \n",
    "                         [[1,5],[8,12],[15,24],[25,26]])"
   ]
  },
  {
   "cell_type": "code",
   "execution_count": 3,
   "metadata": {},
   "outputs": [
    {
     "data": {
      "text/plain": [
       "[[5, 10]]"
      ]
     },
     "execution_count": 3,
     "metadata": {},
     "output_type": "execute_result"
    }
   ],
   "source": [
    "sol = Solution()\n",
    "sol.intervalIntersection([[3,10]], \n",
    "                         [[5,10]])"
   ]
  },
  {
   "cell_type": "markdown",
   "metadata": {},
   "source": [
    "# Analysis"
   ]
  },
  {
   "cell_type": "markdown",
   "metadata": {},
   "source": [
    "### Time Complexity: O(n)\n",
    "### Space Complexity: O(1)\n",
    "\n"
   ]
  },
  {
   "cell_type": "code",
   "execution_count": null,
   "metadata": {},
   "outputs": [],
   "source": []
  }
 ],
 "metadata": {
  "kernelspec": {
   "display_name": "Python 3",
   "language": "python",
   "name": "python3"
  },
  "language_info": {
   "codemirror_mode": {
    "name": "ipython",
    "version": 3
   },
   "file_extension": ".py",
   "mimetype": "text/x-python",
   "name": "python",
   "nbconvert_exporter": "python",
   "pygments_lexer": "ipython3",
   "version": "3.5.4"
  }
 },
 "nbformat": 4,
 "nbformat_minor": 2
}
