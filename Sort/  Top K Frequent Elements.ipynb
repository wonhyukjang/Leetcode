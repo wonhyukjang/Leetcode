{
 "cells": [
  {
   "cell_type": "markdown",
   "metadata": {},
   "source": [
    "#   Top K Frequent Elements\n",
    "\n",
    "Given a non-empty array of integers, return the k most frequent elements.\n",
    "\n",
    "<b>Example 1:</b>\n",
    "\n",
    "<b>Input:</b> nums = [1,1,1,2,2,3], k = 2<br>\n",
    "<b>Output:</b> [1,2]<br>\n",
    "\n",
    "<b>Example 2:</b>\n",
    "\n",
    "<b>Input:</b> nums = [1], k = 1<br>\n",
    "<b>Output:</b> [1]<br>\n",
    "<b>Note:</b><br>\n",
    "\n",
    "<li>You may assume k is always valid, 1 ≤ k ≤ number of unique elements.</li>\n",
    "<li>Your algorithm's time complexity must be better than O(n log n), where n is the array's size.</li>\n",
    "<li>It's guaranteed that the answer is unique, in other words the set of the top k frequent elements is unique.</li>\n",
    "<li>You can return the answer in any order.</li>"
   ]
  },
  {
   "cell_type": "code",
   "execution_count": 35,
   "metadata": {},
   "outputs": [],
   "source": [
    "class Solution(object):\n",
    "    def topKFrequent(self, nums, k):\n",
    "        \"\"\"\n",
    "        :type nums: List[int]\n",
    "        :type k: int\n",
    "        :rtype: List[int]\n",
    "        \"\"\"\n",
    "        result = []\n",
    "        dic = {}\n",
    "        \n",
    "        for num in nums:\n",
    "            if num in dic:\n",
    "                dic[num] += 1\n",
    "                for res in result:\n",
    "                    if res == num:\n",
    "                        continue\n",
    "                    else:\n",
    "                        if dic[res] < dic[num]:\n",
    "                            if num not in result:\n",
    "                                result.remove(res)\n",
    "                                result.append(num)\n",
    "            else:\n",
    "                dic[num] = 1\n",
    "                if len(result) < k:\n",
    "                    if num not in result:\n",
    "                        result.append(num)\n",
    "#             print(result)\n",
    "        return (result)"
   ]
  },
  {
   "cell_type": "markdown",
   "metadata": {},
   "source": [
    "# Complexity Analysis\n",
    "### Time Complexity: O(n^2)\n",
    "### Space Complexity: O(n)\n",
    "\n"
   ]
  },
  {
   "cell_type": "code",
   "execution_count": 53,
   "metadata": {},
   "outputs": [],
   "source": [
    "import heapq\n",
    "class Solution(object):\n",
    "    def topKFrequent(self, nums, k):\n",
    "        \"\"\"\n",
    "        :type nums: List[int]\n",
    "        :type k: int\n",
    "        :rtype: List[int]\n",
    "        \"\"\"\n",
    "        result = []\n",
    "        dic = {}\n",
    "        \n",
    "        for num in nums:\n",
    "            if num in dic:\n",
    "                dic[num] += 1\n",
    "            else:\n",
    "                dic[num] = 1\n",
    "        return heapq.nlargest(k, dic.keys(), key=dic.get)             \n"
   ]
  },
  {
   "cell_type": "markdown",
   "metadata": {},
   "source": [
    "# Complexity Analysis\n",
    "### Time Complexity: O(nlogk)\n",
    "### Time Complexity: O(n)"
   ]
  },
  {
   "cell_type": "code",
   "execution_count": 54,
   "metadata": {},
   "outputs": [
    {
     "data": {
      "text/plain": [
       "[1, 2]"
      ]
     },
     "execution_count": 54,
     "metadata": {},
     "output_type": "execute_result"
    }
   ],
   "source": [
    "sol = Solution()\n",
    "sol.topKFrequent([1,1,1,2,2,3],2)"
   ]
  },
  {
   "cell_type": "code",
   "execution_count": 55,
   "metadata": {},
   "outputs": [
    {
     "data": {
      "text/plain": [
       "[1]"
      ]
     },
     "execution_count": 55,
     "metadata": {},
     "output_type": "execute_result"
    }
   ],
   "source": [
    "sol = Solution()\n",
    "sol.topKFrequent([1],1)"
   ]
  },
  {
   "cell_type": "code",
   "execution_count": 56,
   "metadata": {},
   "outputs": [
    {
     "data": {
      "text/plain": [
       "[1, 3]"
      ]
     },
     "execution_count": 56,
     "metadata": {},
     "output_type": "execute_result"
    }
   ],
   "source": [
    "sol = Solution()\n",
    "sol.topKFrequent([5,3,1,1,1,3,73,1], 2)"
   ]
  }
 ],
 "metadata": {
  "kernelspec": {
   "display_name": "Python 3",
   "language": "python",
   "name": "python3"
  },
  "language_info": {
   "codemirror_mode": {
    "name": "ipython",
    "version": 3
   },
   "file_extension": ".py",
   "mimetype": "text/x-python",
   "name": "python",
   "nbconvert_exporter": "python",
   "pygments_lexer": "ipython3",
   "version": "3.5.4"
  }
 },
 "nbformat": 4,
 "nbformat_minor": 2
}
