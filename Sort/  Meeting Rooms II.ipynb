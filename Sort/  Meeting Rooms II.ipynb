{
 "cells": [
  {
   "cell_type": "markdown",
   "metadata": {},
   "source": [
    "#  Meeting Rooms II\n",
    "\n",
    "Given an array of meeting time intervals consisting of start and end times [[s1,e1],[s2,e2],...] (si < ei), find the minimum number of conference rooms required.\n",
    "\n",
    "<b>Example 1:</b>\n",
    "\n",
    "<b>Input:</b> [[0, 30],[5, 10],[15, 20]]<br>\n",
    "<b>Output:</b> 2<br>\n",
    "\n",
    "<b>Example 2:</b>\n",
    "\n",
    "<b>Input:</b> [[7,10],[2,4]]<br>\n",
    "<b>Output:</b> 1<br>\n",
    "<b>NOTE:</b> input types have been changed on April 15, 2019. Please reset to default code definition to get new method signature."
   ]
  },
  {
   "cell_type": "code",
   "execution_count": 1,
   "metadata": {},
   "outputs": [],
   "source": [
    "from heapq import heapify, heappop, heappush\n",
    "\n",
    "class Solution(object):\n",
    "    def minMeetingRooms(self, intervals):\n",
    "        \"\"\"\n",
    "        :type intervals: List[List[int]]\n",
    "        :rtype: int\n",
    "        \"\"\"\n",
    "        if not intervals:\n",
    "            return 0\n",
    "        \n",
    "        intervals.sort(key = lambda x: x[0])\n",
    "        heap = []\n",
    "        \n",
    "        for i,interval in enumerate(intervals):\n",
    "            if i == 0:    \n",
    "                heappush(heap, interval[1])\n",
    "            else:\n",
    "                if heap[0] <= interval[0]:\n",
    "                    heappop(heap)\n",
    "                    heappush(heap, interval[1])\n",
    "                else:\n",
    "                    heappush(heap, interval[1])\n",
    "        return len(heap)"
   ]
  },
  {
   "cell_type": "code",
   "execution_count": 2,
   "metadata": {},
   "outputs": [
    {
     "data": {
      "text/plain": [
       "2"
      ]
     },
     "execution_count": 2,
     "metadata": {},
     "output_type": "execute_result"
    }
   ],
   "source": [
    "sol = Solution()\n",
    "sol.minMeetingRooms([[0, 30],[5, 10],[15, 20]])"
   ]
  },
  {
   "cell_type": "code",
   "execution_count": 3,
   "metadata": {},
   "outputs": [
    {
     "data": {
      "text/plain": [
       "1"
      ]
     },
     "execution_count": 3,
     "metadata": {},
     "output_type": "execute_result"
    }
   ],
   "source": [
    "sol = Solution()\n",
    "sol.minMeetingRooms([[7,10],[2,4]])"
   ]
  },
  {
   "cell_type": "markdown",
   "metadata": {},
   "source": [
    "# Complexity Analysis\n",
    "### Time Complexity: O(nlogn)\n",
    "### Space Complexity: O(n)"
   ]
  }
 ],
 "metadata": {
  "kernelspec": {
   "display_name": "twitter",
   "language": "python",
   "name": "twitter"
  },
  "language_info": {
   "codemirror_mode": {
    "name": "ipython",
    "version": 3
   },
   "file_extension": ".py",
   "mimetype": "text/x-python",
   "name": "python",
   "nbconvert_exporter": "python",
   "pygments_lexer": "ipython3",
   "version": "3.6.10"
  }
 },
 "nbformat": 4,
 "nbformat_minor": 2
}
