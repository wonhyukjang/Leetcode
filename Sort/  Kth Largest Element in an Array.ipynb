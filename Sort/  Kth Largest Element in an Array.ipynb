{
 "cells": [
  {
   "cell_type": "markdown",
   "metadata": {},
   "source": [
    "#  Kth Largest Element in an Array\n",
    "\n",
    "Find the kth largest element in an unsorted array. Note that it is the kth largest element in the sorted order, not the kth distinct element.\n",
    "\n",
    "<b>Example 1:</b>\n",
    "\n",
    "<b>Input:</b> [3,2,1,5,6,4] and k = 2<br>\n",
    "<b>Output:</b> 5<br>\n",
    "<b>Example 2:</b><br>\n",
    "\n",
    "<b>Input:</b> [3,2,3,1,2,4,5,5,6] and k = 4<br>\n",
    "<b>Output:</b> 4<br>\n",
    "<b>Note:</b><br>\n",
    "You may assume k is always valid, 1 ≤ k ≤ array's length."
   ]
  },
  {
   "cell_type": "code",
   "execution_count": 17,
   "metadata": {},
   "outputs": [],
   "source": [
    "class Solution(object):\n",
    "    def findKthLargest(self, nums, k):\n",
    "        \"\"\"\n",
    "        :type nums: List[int]\n",
    "        :type k: int\n",
    "        :rtype: int\n",
    "        \"\"\"\n",
    "        if not nums:\n",
    "            return None\n",
    "        result = nums[0]\n",
    "        \n",
    "        dum = []\n",
    "        for num in nums:\n",
    "            if num not in dum:\n",
    "                if len(dum) < k:\n",
    "                    dum.append(num)\n",
    "                else:\n",
    "                    if num > result: \n",
    "                        dum.remove(result)\n",
    "                        dum.append(num)\n",
    "                dum.sort()\n",
    "                result = dum[0]\n",
    "        return result"
   ]
  },
  {
   "cell_type": "code",
   "execution_count": 40,
   "metadata": {},
   "outputs": [],
   "source": [
    "import heapq\n",
    "\n",
    "class Solution(object):\n",
    "    def findKthLargest(self, nums, k):\n",
    "        \"\"\"\n",
    "        :type nums: List[int]\n",
    "        :type k: int\n",
    "        :rtype: int\n",
    "        \"\"\"\n",
    "        if not nums:\n",
    "            return None\n",
    "        uniqueNum = [-1 * x for x in nums]\n",
    "        \n",
    "        for i in range(k):\n",
    "            heapq.heapify(uniqueNum)            \n",
    "            result = -1 * (heapq.heappop(uniqueNum))            \n",
    "        return result\n",
    "        \n",
    "        result = nums[0]\n",
    "        \n",
    "        dum = []\n",
    "        for num in nums:\n",
    "            if num not in dum:\n",
    "                if len(dum) < k:\n",
    "                    dum.append(num)\n",
    "                else:\n",
    "                    if num > result: \n",
    "                        dum.remove(result)\n",
    "                        dum.append(num)\n",
    "                dum.sort()\n",
    "                result = dum[0]\n",
    "        return result"
   ]
  },
  {
   "cell_type": "code",
   "execution_count": 41,
   "metadata": {},
   "outputs": [
    {
     "data": {
      "text/plain": [
       "5"
      ]
     },
     "execution_count": 41,
     "metadata": {},
     "output_type": "execute_result"
    }
   ],
   "source": [
    "sol = Solution()\n",
    "sol.findKthLargest([3,2,1,5,6,4],2)"
   ]
  },
  {
   "cell_type": "code",
   "execution_count": null,
   "metadata": {},
   "outputs": [],
   "source": []
  }
 ],
 "metadata": {
  "kernelspec": {
   "display_name": "Python 3",
   "language": "python",
   "name": "python3"
  },
  "language_info": {
   "codemirror_mode": {
    "name": "ipython",
    "version": 3
   },
   "file_extension": ".py",
   "mimetype": "text/x-python",
   "name": "python",
   "nbconvert_exporter": "python",
   "pygments_lexer": "ipython3",
   "version": "3.5.4"
  }
 },
 "nbformat": 4,
 "nbformat_minor": 2
}
