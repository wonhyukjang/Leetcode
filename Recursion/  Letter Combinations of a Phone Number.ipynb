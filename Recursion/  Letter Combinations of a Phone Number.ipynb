{
 "cells": [
  {
   "cell_type": "markdown",
   "metadata": {},
   "source": [
    "#  Letter Combinations of a Phone Number\n",
    "\n"
   ]
  },
  {
   "cell_type": "markdown",
   "metadata": {},
   "source": [
    "Given a string containing digits from 2-9 inclusive, return all possible letter combinations that the number could represent.\n",
    "\n",
    "A mapping of digit to letters (just like on the telephone buttons) is given below. Note that 1 does not map to any letters.\n",
    "\n"
   ]
  },
  {
   "cell_type": "code",
   "execution_count": 1,
   "metadata": {},
   "outputs": [],
   "source": [
    "class Solution(object):\n",
    "    def letterCombinations(self, digits):\n",
    "        \"\"\"\n",
    "        :type digits: str\n",
    "        :rtype: List[str]\n",
    "        \"\"\"\n",
    "        codes = {\n",
    "            \"2\": ['a','b','c'],\n",
    "            \"3\": ['d','e','f'],\n",
    "            \"4\": ['g','h','i'],\n",
    "            \"5\": ['j','k','l'],\n",
    "            \"6\": ['m','n','o'],\n",
    "            \"7\": ['p','q','r','s'],\n",
    "            \"8\": ['t','u','v'],\n",
    "            \"9\": ['w','x','y','z']\n",
    "        }\n",
    "        result = []\n",
    "        if len(digits) == 0:\n",
    "            return []\n",
    "        def backtrack(pos, sequence):\n",
    "            if len(sequence) == len(digits):\n",
    "                result.append(sequence)\n",
    "                return \n",
    "            \n",
    "            for code in codes[digits[pos]]:\n",
    "                newCode = sequence + code\n",
    "                backtrack(pos+1, newCode)\n",
    "        backtrack(0, \"\")       \n",
    "        return result"
   ]
  },
  {
   "cell_type": "markdown",
   "metadata": {},
   "source": [
    "# Analysis"
   ]
  },
  {
   "cell_type": "markdown",
   "metadata": {},
   "source": [
    "### Time Complexity: $O(3^{N} * 4^{M})$\n",
    "### Space Complexity: $O(3^{N} * 4^{M})$\n",
    "\n",
    "## where N is the number of digits in the input that maps to 3 letters (e.g. 2, 3, 4, 5, 6, 8) and M is the number of digits in the input that maps to 4 letters (e.g. 7, 9), and N+M is the total number digits in the input.\n",
    "\n"
   ]
  },
  {
   "cell_type": "code",
   "execution_count": null,
   "metadata": {},
   "outputs": [],
   "source": []
  }
 ],
 "metadata": {
  "kernelspec": {
   "display_name": "twitter",
   "language": "python",
   "name": "twitter"
  },
  "language_info": {
   "codemirror_mode": {
    "name": "ipython",
    "version": 3
   },
   "file_extension": ".py",
   "mimetype": "text/x-python",
   "name": "python",
   "nbconvert_exporter": "python",
   "pygments_lexer": "ipython3",
   "version": "3.6.10"
  }
 },
 "nbformat": 4,
 "nbformat_minor": 2
}
