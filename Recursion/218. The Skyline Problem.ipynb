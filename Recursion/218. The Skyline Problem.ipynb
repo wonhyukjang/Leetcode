{
 "cells": [
  {
   "cell_type": "code",
   "execution_count": 6,
   "metadata": {
    "scrolled": true
   },
   "outputs": [
    {
     "name": "stdout",
     "output_type": "stream",
     "text": [
      "1 True 6\n",
      "1 True 4\n",
      "2 True 2\n",
      "3 True 4\n",
      "3 False 4\n",
      "3 False 6\n",
      "4 False 4\n",
      "6 False 2\n",
      "7 True 3\n",
      "8 True 4\n",
      "9 False 3\n",
      "10 True 2\n",
      "11 False 2\n",
      "11 False 4\n",
      "[[1, 6], [3, 4], [4, 2], [6, 0], [7, 3], [8, 4], [11, 0]]\n"
     ]
    }
   ],
   "source": [
    "# https://leetcode.com/problems/the-skyline-problem/\n",
    "\n",
    "class BuildingPoint(object):\n",
    "\n",
    "    def __init__(self, point, is_start, height):\n",
    "        self.point = point;\n",
    "        self.is_start = is_start\n",
    "        self.height = height\n",
    "    \n",
    "    # first compare by other\n",
    "    # If two starts are compared, higher height building should be picked first\n",
    "    # If two ends are compared, lower height building should be picked first\n",
    "    # If one start and end is compared, start should appear before end\n",
    "    \n",
    "    def __lt__(self, other):\n",
    "        if self.point != other.point:\n",
    "            return self.point < other.point\n",
    "        else:\n",
    "            if self.is_start:\n",
    "                h1 = -self.height\n",
    "            else:\n",
    "                h1 = self.height\n",
    "\n",
    "            if other.is_start:\n",
    "                h2 = -other.height;\n",
    "            else:\n",
    "                h2 = other.height\n",
    "\n",
    "            return h1 < h2\n",
    "    \n",
    "def get_skyline(buildings):\n",
    "\n",
    "    building_points = []\n",
    "    \n",
    "    for building in buildings:\n",
    "        building_points.append(BuildingPoint(building[0], True, building[2]))\n",
    "        building_points.append(BuildingPoint(building[1], False, building[2]))\n",
    "\n",
    "    building_points = sorted(building_points)\n",
    "    \n",
    "    for x in building_points:\n",
    "        print(x.point, x.is_start, x.height)\n",
    "        \n",
    "    queue = {}\n",
    "    queue[0] = 1\n",
    "    prev_max_height = 0\n",
    "    result = []\n",
    "    \n",
    "    for building_point in building_points:\n",
    "        if building_point.is_start:\n",
    "            if building_point.height in queue:\n",
    "                queue[building_point.height] = queue[building_point.height] + 1\n",
    "            else:\n",
    "                queue[building_point.height] = 1\n",
    "    \n",
    "        else:\n",
    "            if queue[building_point.height] == 1:\n",
    "                del queue[building_point.height]\n",
    "            else:\n",
    "                queue[building_point.height] = queue[building_point.height] - 1\n",
    "\n",
    "        current_max_height = max(queue.keys())\n",
    "\n",
    "        if prev_max_height != current_max_height:\n",
    "            result.append([building_point.point, current_max_height])\n",
    "            prev_max_height = current_max_height\n",
    "    return result\n",
    "\n",
    "if __name__ == '__main__':\n",
    "    buildings = [[1, 3, 4],[1,3,6], [3, 4, 4], [2, 6, 2], [8, 11, 4], [7, 9, 3], [10, 11, 2]]\n",
    "    print(get_skyline(buildings))"
   ]
  },
  {
   "cell_type": "code",
   "execution_count": 13,
   "metadata": {},
   "outputs": [],
   "source": [
    "from heapq import heappush, heappop\n",
    "class Solution(object):\n",
    "    def getSkyline(self, buildings):\n",
    "        # add start-building events\n",
    "        # also add end-building events(acts as buildings with 0 height)\n",
    "        # and sort the events in left -> right order\n",
    "        events = [(L, -H, R) for L, R, H in buildings]\n",
    "        events += list({(R, 0, 0) for _, R, _ in buildings})\n",
    "        events.sort()\n",
    "        print(events)\n",
    "        # res: result, [x, height]\n",
    "        # live: heap, [-height, ending position]\n",
    "        res = [[0, 0]]\n",
    "        live = [(0, float(\"inf\"))]\n",
    "        for pos, negH, R in events:\n",
    "            # 1, pop buildings that are already ended\n",
    "            # 2, if it's the start-building event, make the building alive\n",
    "            # 3, if previous keypoint height != current highest height, edit the result\n",
    "            while live[0][1] <= pos: heappop(live)\n",
    "            if negH: heappush(live, (negH, R))\n",
    "            if res[-1][1] != -live[0][0]:\n",
    "                res += [ [pos, -live[0][0]] ]\n",
    "        return res[1:]"
   ]
  },
  {
   "cell_type": "markdown",
   "metadata": {},
   "source": [
    "### ref: https://www.youtube.com/watch?v=GSBLe8cKu0s&feature=emb_logo"
   ]
  },
  {
   "cell_type": "code",
   "execution_count": 14,
   "metadata": {},
   "outputs": [
    {
     "name": "stdout",
     "output_type": "stream",
     "text": [
      "[(2, -10, 9), (3, -15, 7), (5, -12, 12), (7, 0, 0), (9, 0, 0), (12, 0, 0), (15, -10, 20), (19, -8, 24), (20, 0, 0), (24, 0, 0)]\n"
     ]
    },
    {
     "data": {
      "text/plain": [
       "[[2, 10], [3, 15], [7, 12], [12, 0], [15, 10], [20, 8], [24, 0]]"
      ]
     },
     "execution_count": 14,
     "metadata": {},
     "output_type": "execute_result"
    }
   ],
   "source": [
    "sol = Solution()\n",
    "sol.getSkyline([[2,9,10],[3,7,15],[5,12,12],[15,20,10],[19,24,8]])"
   ]
  },
  {
   "cell_type": "code",
   "execution_count": null,
   "metadata": {},
   "outputs": [],
   "source": []
  }
 ],
 "metadata": {
  "kernelspec": {
   "display_name": "twitter",
   "language": "python",
   "name": "twitter"
  },
  "language_info": {
   "codemirror_mode": {
    "name": "ipython",
    "version": 3
   },
   "file_extension": ".py",
   "mimetype": "text/x-python",
   "name": "python",
   "nbconvert_exporter": "python",
   "pygments_lexer": "ipython3",
   "version": "3.6.10"
  }
 },
 "nbformat": 4,
 "nbformat_minor": 2
}
