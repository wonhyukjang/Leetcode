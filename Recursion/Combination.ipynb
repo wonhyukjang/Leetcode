{
 "cells": [
  {
   "cell_type": "markdown",
   "metadata": {},
   "source": [
    "# Combination"
   ]
  },
  {
   "cell_type": "markdown",
   "metadata": {},
   "source": [
    "#### Given two integers n and k, return all possible combinations of k numbers out of 1 ... n.\n",
    "\n",
    "##### Example:\n",
    "\n",
    "<b> Input: n = 4, k = 2</b> <br>\n",
    "<b>Output:</b><br>\n",
    "[<br>\n",
    "  [2,4], <br>\n",
    "  [3,4],<br>\n",
    "  [2,3],<br>\n",
    "  [1,2],<br>\n",
    "  [1,3],<br>\n",
    "  [1,4],<br>\n",
    "]"
   ]
  },
  {
   "cell_type": "code",
   "execution_count": null,
   "metadata": {},
   "outputs": [],
   "source": [
    "class Solution(object):\n",
    "    def combine(self, n, k):\n",
    "        \"\"\"\n",
    "        :type n: int\n",
    "        :type k: int\n",
    "        :rtype: List[List[int]]\n",
    "        \"\"\"\n",
    "        def backtrack(first = 1, curr = []):\n",
    "            if len(curr) == k:\n",
    "                output.append(curr[:])\n",
    "            \n",
    "            for i in range(first, n+1):\n",
    "                curr.append(i)\n",
    "                backtrack(i+1, curr)\n",
    "                curr.pop()\n",
    "    \n",
    "    \n",
    "        output = []\n",
    "        backtrack()\n",
    "        return output"
   ]
  }
 ],
 "metadata": {
  "kernelspec": {
   "display_name": "twitter",
   "language": "python",
   "name": "twitter"
  },
  "language_info": {
   "codemirror_mode": {
    "name": "ipython",
    "version": 3
   },
   "file_extension": ".py",
   "mimetype": "text/x-python",
   "name": "python",
   "nbconvert_exporter": "python",
   "pygments_lexer": "ipython3",
   "version": "3.6.10"
  }
 },
 "nbformat": 4,
 "nbformat_minor": 2
}
