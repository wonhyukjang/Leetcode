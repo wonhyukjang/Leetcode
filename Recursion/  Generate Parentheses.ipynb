{
 "cells": [
  {
   "cell_type": "markdown",
   "metadata": {},
   "source": [
    "#  Generate Parentheses\n",
    "\n"
   ]
  },
  {
   "cell_type": "markdown",
   "metadata": {},
   "source": [
    "Given n pairs of parentheses, write a function to generate all combinations of well-formed parentheses.\n",
    "\n",
    "For example, given n = 3, a solution set is:"
   ]
  },
  {
   "cell_type": "markdown",
   "metadata": {},
   "source": [
    "[\n",
    "  \"( ( ( ) ) )\", <br>\n",
    "  \"( ( ) ( ) )\", <br>\n",
    "  \"( ( ) ) ( )\", <br>\n",
    "  \"( ) ( ( ) )\", <br>\n",
    "  \"( ) ( ) ( )\" \n",
    "]"
   ]
  },
  {
   "cell_type": "code",
   "execution_count": 24,
   "metadata": {},
   "outputs": [],
   "source": [
    "\n",
    "class Solution(object):\n",
    "    def generateParenthesis(self, n):\n",
    "        \"\"\"\n",
    "        :type n: int\n",
    "        :rtype: List[str]\n",
    "        \"\"\"\n",
    "        right = 0\n",
    "        left = 0\n",
    "\n",
    "        # Start as (\n",
    "        d = deque()\n",
    "        \n",
    "        d.append((\"(\",1,0))\n",
    "        result = []\n",
    "        \n",
    "        # Loop until we don't have any options\n",
    "        \n",
    "        while len(d) > 0:\n",
    "            tmp = d.popleft()\n",
    "            \n",
    "            # Left -> Number of left parenthesis\n",
    "            left = tmp[1]\n",
    "            \n",
    "            # Right -> Number of right parenthesis            \n",
    "            right = tmp[2]\n",
    "            \n",
    "            # until left parenthesis < n and \n",
    "            # left parenthesis >= right parentheis\n",
    "            if left < n and left >= right:\n",
    "                # Both \"(\" and \")\" are possible\n",
    "                if left > right:\n",
    "                    for i, opt in enumerate(['(',\")\"]):\n",
    "                        if i == 0:\n",
    "                            left += 1\n",
    "                        else:\n",
    "                            right += 1\n",
    "                        parenthesis = tmp[0] + opt\n",
    "                        \n",
    "                        d.append((parenthesis, left, right))\n",
    "                        if i == 0:\n",
    "                            left -= 1\n",
    "                        if i == 1:\n",
    "                            right -= 1\n",
    "                # Only \"(\" is possible\n",
    "                            \n",
    "                elif left == right:\n",
    "                    left += 1\n",
    "                    parenthesis = tmp[0] + \"(\"                                        \n",
    "                    d.append((parenthesis, left, right))\n",
    "            \n",
    "            else:\n",
    "                result.append(tmp[0] + ')'* (left-right))\n",
    "        return result"
   ]
  },
  {
   "cell_type": "code",
   "execution_count": 26,
   "metadata": {},
   "outputs": [
    {
     "data": {
      "text/plain": [
       "['((()))', '(()())', '()(())', '(())()', '()()()']"
      ]
     },
     "execution_count": 26,
     "metadata": {},
     "output_type": "execute_result"
    }
   ],
   "source": [
    "sol = Solution()\n",
    "sol.generateParenthesis(3)"
   ]
  }
 ],
 "metadata": {
  "kernelspec": {
   "display_name": "twitter",
   "language": "python",
   "name": "twitter"
  },
  "language_info": {
   "codemirror_mode": {
    "name": "ipython",
    "version": 3
   },
   "file_extension": ".py",
   "mimetype": "text/x-python",
   "name": "python",
   "nbconvert_exporter": "python",
   "pygments_lexer": "ipython3",
   "version": "3.8.3"
  }
 },
 "nbformat": 4,
 "nbformat_minor": 2
}
