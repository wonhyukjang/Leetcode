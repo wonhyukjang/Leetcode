{
 "cells": [
  {
   "cell_type": "code",
   "execution_count": 28,
   "metadata": {},
   "outputs": [],
   "source": [
    "# Definition for a binary tree node.\n",
    "class TreeNode(object):\n",
    "    def __init__(self, val=0, left=None, right=None):\n",
    "        self.val = val\n",
    "        self.left = left\n",
    "        self.right = right\n",
    "class Solution(object):\n",
    "    def invertTree(self, root):\n",
    "        \"\"\"\n",
    "        :type root: TreeNode\n",
    "        :rtype: TreeNode\n",
    "        \"\"\"\n",
    "        def helper(root):\n",
    "            # Base Case\n",
    "            if root == None:\n",
    "                return\n",
    "\n",
    "            left = root.left\n",
    "            right = root.right\n",
    "            if left != None:\n",
    "                root.right = left\n",
    "            else:\n",
    "                root.right = None\n",
    "\n",
    "            if right != None:\n",
    "                root.left = right\n",
    "            else:\n",
    "                root.left = None\n",
    "\n",
    "            if left:\n",
    "                helper(root.right)\n",
    "            if right:\n",
    "                helper(root.left)\n",
    "        helper(root)\n",
    "        return root"
   ]
  },
  {
   "cell_type": "code",
   "execution_count": null,
   "metadata": {},
   "outputs": [],
   "source": [
    "# Definition for a binary tree node.\n",
    "class TreeNode(object):\n",
    "    def __init__(self, val=0, left=None, right=None):\n",
    "        self.val = val\n",
    "        self.left = left\n",
    "        self.right = right\n",
    "        \n",
    "class Solution(object):\n",
    "    def invertTree(self, root):\n",
    "        \"\"\"\n",
    "        :type root: TreeNode\n",
    "        :rtype: TreeNode\n",
    "        \"\"\"\n",
    "        def helper(root):\n",
    "            if root != None:\n",
    "                if left != None:\n",
    "                    root.right = root.left\n",
    "                else:\n",
    "                    root.right = None\n",
    "                \n",
    "                if right != None:\n",
    "                    root.left = root.right\n",
    "                else:\n",
    "                    root.left = None\n",
    "\n",
    "                if root.left:\n",
    "                    helper(root.right)\n",
    "                if root.right:\n",
    "                    helper(root.left)\n",
    "            else:\n",
    "                return \n",
    "        helper(root)\n",
    "        return root"
   ]
  },
  {
   "cell_type": "code",
   "execution_count": 26,
   "metadata": {},
   "outputs": [],
   "source": [
    "node3 = TreeNode(4, None, None)\n",
    "node2 = TreeNode(3, node3, None)\n",
    "node1 = TreeNode(2, node2, None)\n"
   ]
  },
  {
   "cell_type": "code",
   "execution_count": 27,
   "metadata": {},
   "outputs": [
    {
     "data": {
      "text/plain": [
       "<__main__.TreeNode at 0x104c325f8>"
      ]
     },
     "execution_count": 27,
     "metadata": {},
     "output_type": "execute_result"
    }
   ],
   "source": [
    "sol = Solution()\n",
    "sol.invertTree(node1)"
   ]
  },
  {
   "cell_type": "code",
   "execution_count": null,
   "metadata": {},
   "outputs": [],
   "source": []
  },
  {
   "cell_type": "code",
   "execution_count": null,
   "metadata": {},
   "outputs": [],
   "source": []
  }
 ],
 "metadata": {
  "kernelspec": {
   "display_name": "Python 3",
   "language": "python",
   "name": "python3"
  },
  "language_info": {
   "codemirror_mode": {
    "name": "ipython",
    "version": 3
   },
   "file_extension": ".py",
   "mimetype": "text/x-python",
   "name": "python",
   "nbconvert_exporter": "python",
   "pygments_lexer": "ipython3",
   "version": "3.5.4"
  }
 },
 "nbformat": 4,
 "nbformat_minor": 2
}
