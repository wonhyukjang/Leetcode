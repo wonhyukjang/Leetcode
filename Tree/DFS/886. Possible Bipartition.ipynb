{
 "cells": [
  {
   "cell_type": "markdown",
   "metadata": {},
   "source": [
    "# 886. Possible Bipartition"
   ]
  },
  {
   "cell_type": "markdown",
   "metadata": {},
   "source": [
    "Given a set of N people (numbered 1, 2, ..., N), we would like to split everyone into two groups of any size.\n",
    "\n",
    "Each person may dislike some other people, and they should not go into the same group. \n",
    "\n",
    "Formally, if dislikes[i] = [a, b], it means it is not allowed to put the people numbered a and b into the same group.\n",
    "\n",
    "Return true if and only if it is possible to split everyone into two groups in this way."
   ]
  },
  {
   "cell_type": "markdown",
   "metadata": {},
   "source": [
    "##### Example 1:\n",
    "\n",
    "\n"
   ]
  },
  {
   "cell_type": "markdown",
   "metadata": {},
   "source": [
    "Input: N = 4, dislikes = [[1,2],[1,3],[2,4]] <br/>\n",
    "Output: true <br/>\n",
    "Explanation: group1 [1,4], group2 [2,3]\n",
    "\n"
   ]
  },
  {
   "cell_type": "markdown",
   "metadata": {},
   "source": [
    "##### Example 2:\n",
    "\n",
    "\n"
   ]
  },
  {
   "cell_type": "markdown",
   "metadata": {},
   "source": [
    "Input: N = 3, dislikes = [[1,2],[1,3],[2,3]] <br/>\n",
    "Output: false"
   ]
  },
  {
   "cell_type": "markdown",
   "metadata": {},
   "source": [
    "##### Example 3:\n",
    "\n",
    "\n"
   ]
  },
  {
   "cell_type": "markdown",
   "metadata": {},
   "source": [
    "Input: N = 5, dislikes = [[1,2],[2,3],[3,4],[4,5],[1,5]]<br/>\n",
    "Output: false\n",
    " "
   ]
  },
  {
   "cell_type": "markdown",
   "metadata": {},
   "source": [
    "# DFS"
   ]
  },
  {
   "cell_type": "code",
   "execution_count": 15,
   "metadata": {},
   "outputs": [],
   "source": [
    "class Solution:\n",
    "    def possibleBipartition(self, N, dislikes):\n",
    "        if N == 1 or not dislikes:\n",
    "            return True\n",
    "        adj = collections.defaultdict(list)\n",
    "        colorArr = [0 for _ in range(N+1)]\n",
    "        \n",
    "        for a, b in dislikes:\n",
    "            adj[a].append(b)\n",
    "            adj[b].append(a)\n",
    "        \n",
    "        def dfs(node, color):\n",
    "            colorArr[node] = color\n",
    "            \n",
    "            for itm in adj[node]:\n",
    "                if colorArr[itm] == colorArr[node]:\n",
    "                    return False\n",
    "                if colorArr[itm] == 0 and not dfs(itm, -color):\n",
    "                    return False\n",
    "            return True\n",
    "        \n",
    "        for person_id in range(1, N+1):            \n",
    "            if colorArr[person_id] == 0 and (not dfs(person_id, 1)):\n",
    "                return False \n",
    "\n",
    "        return True"
   ]
  },
  {
   "cell_type": "code",
   "execution_count": 21,
   "metadata": {},
   "outputs": [],
   "source": [
    "class Solution:\n",
    "    def possibleBipartition(self, N, dislikes):\n",
    "        if N == 1 or dislikes == None:\n",
    "            return True\n",
    "        adj = collections.defaultdict(list)\n",
    "        \n",
    "        for a,b in dislikes:\n",
    "            adj[a].append(b)\n",
    "            adj[b].append(a)\n",
    "            \n",
    "        colorArr = [0 for _ in range(N+1)]\n",
    "        \n",
    "        def dfs(N, color):\n",
    "            colorArr[N] = color\n",
    "            \n",
    "            for itm in adj[N]:\n",
    "                if colorArr[N] == colorArr[itm]:\n",
    "                    return False\n",
    "                if colorArr[itm] == 0 and not dfs(itm, -color):\n",
    "                    return False\n",
    "            return True\n",
    "        \n",
    "        # Also Handle when 2 disjoint tree\n",
    "        for i in range(1, N+1):\n",
    "            if colorArr[i] == 0 and not dfs(i,1):\n",
    "                return False\n",
    "        return True"
   ]
  },
  {
   "cell_type": "code",
   "execution_count": 22,
   "metadata": {},
   "outputs": [
    {
     "data": {
      "text/plain": [
       "False"
      ]
     },
     "execution_count": 22,
     "metadata": {},
     "output_type": "execute_result"
    }
   ],
   "source": [
    "sol = Solution()\n",
    "sol.possibleBipartition(4,[[1,2],[1,3],[2,3]])"
   ]
  },
  {
   "cell_type": "code",
   "execution_count": 23,
   "metadata": {},
   "outputs": [
    {
     "data": {
      "text/plain": [
       "True"
      ]
     },
     "execution_count": 23,
     "metadata": {},
     "output_type": "execute_result"
    }
   ],
   "source": [
    "sol = Solution()\n",
    "sol.possibleBipartition(4,[[1,2],[1,3],[2,4]])"
   ]
  },
  {
   "cell_type": "markdown",
   "metadata": {},
   "source": [
    "# Analysis"
   ]
  },
  {
   "cell_type": "markdown",
   "metadata": {},
   "source": [
    "### Time Complexity: O(n) \n",
    "#### (Loop through each node once)\n",
    "### Space Complexity: O(n)\n",
    "#### (Color Array or Dictionary)"
   ]
  },
  {
   "cell_type": "code",
   "execution_count": null,
   "metadata": {},
   "outputs": [],
   "source": []
  }
 ],
 "metadata": {
  "kernelspec": {
   "display_name": "twitter",
   "language": "python",
   "name": "twitter"
  },
  "language_info": {
   "codemirror_mode": {
    "name": "ipython",
    "version": 3
   },
   "file_extension": ".py",
   "mimetype": "text/x-python",
   "name": "python",
   "nbconvert_exporter": "python",
   "pygments_lexer": "ipython3",
   "version": "3.8.3"
  }
 },
 "nbformat": 4,
 "nbformat_minor": 2
}
