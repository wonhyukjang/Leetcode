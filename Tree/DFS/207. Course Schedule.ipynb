{
 "cells": [
  {
   "cell_type": "markdown",
   "metadata": {},
   "source": [
    "# 207. Course Schedule\n"
   ]
  },
  {
   "cell_type": "markdown",
   "metadata": {},
   "source": [
    "There are a total of numCourses courses you have to take, labeled from 0 to numCourses-1.\n",
    "\n",
    "Some courses may have prerequisites, for example to take course 0 you have to first take course 1, which is expressed as a pair: [0,1]\n",
    "\n",
    "Given the total number of courses and a list of prerequisite pairs, is it possible for you to finish all courses?"
   ]
  },
  {
   "cell_type": "markdown",
   "metadata": {},
   "source": [
    "##### Example 1:\n",
    "\n"
   ]
  },
  {
   "cell_type": "markdown",
   "metadata": {},
   "source": [
    "Input: numCourses = 2, prerequisites = [[1,0]] <br/>\n",
    "Output: true <br/>\n",
    "Explanation: There are a total of 2 courses to take. <br/>\n",
    "             To take course 1 you should have finished course 0. So it is possible."
   ]
  },
  {
   "cell_type": "markdown",
   "metadata": {},
   "source": [
    "##### Example 2:\n",
    "\n"
   ]
  },
  {
   "cell_type": "markdown",
   "metadata": {},
   "source": [
    "Input: numCourses = 2, prerequisites = [[1,0],[0,1]] <br/>\n",
    "Output: false <br/>\n",
    "Explanation: There are a total of 2 courses to take. <br/>\n",
    "             To take course 1 you should have finished course 0, and to take course 0 you should <br/>\n",
    "             also have finished course 1. So it is impossible. <br/>\n"
   ]
  },
  {
   "cell_type": "markdown",
   "metadata": {},
   "source": [
    "##### Constraints:\n",
    "\n"
   ]
  },
  {
   "cell_type": "markdown",
   "metadata": {},
   "source": [
    " 1. The input prerequisites is a graph represented by a list of edges, not adjacency matrices. Read more about how a graph is represented.\n",
    " 2. You may assume that there are no duplicate edges in the input prerequisites.\n",
    " 3. 1 <= numCourses <= 10^5"
   ]
  },
  {
   "cell_type": "markdown",
   "metadata": {},
   "source": [
    "# DFS"
   ]
  },
  {
   "cell_type": "code",
   "execution_count": 124,
   "metadata": {},
   "outputs": [],
   "source": [
    "import collections \n",
    "\n",
    "class Solution(object):\n",
    "    def canFinish(self, numCourses, prerequisites):\n",
    "        \"\"\"\n",
    "        :type numCourses: int\n",
    "        :type prerequisites: List[List[int]]\n",
    "        :rtype: bool\n",
    "        \"\"\"\n",
    "        self.dic = collections.defaultdict(list)\n",
    "        \n",
    "        for classs in prerequisites:\n",
    "            x,y = classs\n",
    "            self.dic[y].append(x)        \n",
    "        visited = []\n",
    "        flag = 0\n",
    "        \n",
    "        for itm in self.dic:\n",
    "            if not self.dfs(itm, [itm],1, numCourses):\n",
    "                return False\n",
    "        return True\n",
    "    \n",
    "    def dfs(self, current, visited, level, numCourses):\n",
    "        if level > numCourses:\n",
    "            return False\n",
    "\n",
    "\n",
    "        if current in self.dic:\n",
    "            nextList = self.dic[current]    \n",
    "            if nextList:                \n",
    "                flag = 0\n",
    "                for newClass in nextList:\n",
    "                    visited.append(newClass)\n",
    "                    if not self.dfs(newClass, visited, level + 1, numCourses):\n",
    "                        return False\n",
    "                return True\n",
    "            else:\n",
    "                return True\n",
    "        else:            \n",
    "            return True                "
   ]
  },
  {
   "cell_type": "code",
   "execution_count": 125,
   "metadata": {},
   "outputs": [
    {
     "data": {
      "text/plain": [
       "False"
      ]
     },
     "execution_count": 125,
     "metadata": {},
     "output_type": "execute_result"
    }
   ],
   "source": [
    "sol = Solution()\n",
    "sol.canFinish(2,[[0,1],[1,0]])"
   ]
  },
  {
   "cell_type": "code",
   "execution_count": 126,
   "metadata": {},
   "outputs": [
    {
     "data": {
      "text/plain": [
       "True"
      ]
     },
     "execution_count": 126,
     "metadata": {},
     "output_type": "execute_result"
    }
   ],
   "source": [
    "sol = Solution()\n",
    "sol.canFinish(2,[[0,1]])"
   ]
  },
  {
   "cell_type": "code",
   "execution_count": 127,
   "metadata": {},
   "outputs": [
    {
     "data": {
      "text/plain": [
       "False"
      ]
     },
     "execution_count": 127,
     "metadata": {},
     "output_type": "execute_result"
    }
   ],
   "source": [
    "sol = Solution()\n",
    "sol.canFinish(3,[[1,0],[2,0],[0,2]])"
   ]
  },
  {
   "cell_type": "code",
   "execution_count": null,
   "metadata": {},
   "outputs": [],
   "source": []
  },
  {
   "cell_type": "code",
   "execution_count": null,
   "metadata": {},
   "outputs": [],
   "source": []
  }
 ],
 "metadata": {
  "kernelspec": {
   "display_name": "twitter",
   "language": "python",
   "name": "twitter"
  },
  "language_info": {
   "codemirror_mode": {
    "name": "ipython",
    "version": 3
   },
   "file_extension": ".py",
   "mimetype": "text/x-python",
   "name": "python",
   "nbconvert_exporter": "python",
   "pygments_lexer": "ipython3",
   "version": "3.8.3"
  }
 },
 "nbformat": 4,
 "nbformat_minor": 2
}
