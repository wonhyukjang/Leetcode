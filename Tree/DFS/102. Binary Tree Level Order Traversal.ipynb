{
 "cells": [
  {
   "cell_type": "markdown",
   "metadata": {},
   "source": [
    "# 102. Binary Tree Level Order Traversal\n"
   ]
  },
  {
   "cell_type": "markdown",
   "metadata": {},
   "source": [
    "Given a binary tree, return the level order traversal of its nodes' values. (ie, from left to right, level by level).\n",
    "\n",
    "For example:\n",
    "Given binary tree [3,9,20,null,null,15,7], <br/>\n",
    "    3 <br/>\n",
    "   / \\ <br/>\n",
    "  9  20 <br/>\n",
    "    /  \\ <br/>\n",
    "   15   7 <br/>\n",
    "return its level order traversal as: <br/>\n",
    "[\n",
    "  [3],\n",
    "  [9,20],\n",
    "  [15,7]\n",
    "]"
   ]
  },
  {
   "cell_type": "markdown",
   "metadata": {},
   "source": [
    "# BFS"
   ]
  },
  {
   "cell_type": "code",
   "execution_count": 1,
   "metadata": {},
   "outputs": [],
   "source": [
    "# Definition for a binary tree node.\n",
    "# class TreeNode(object):\n",
    "#     def __init__(self, val=0, left=None, right=None):\n",
    "#         self.val = val\n",
    "#         self.left = left\n",
    "#         self.right = right\n",
    "from collections import deque\n",
    "class Solution(object):\n",
    "    def levelOrder(self, root):\n",
    "        \"\"\"\n",
    "        :type root: TreeNode\n",
    "        :rtype: List[List[int]]\n",
    "        \"\"\"\n",
    "        d = deque()\n",
    "        result = []\n",
    "        \n",
    "        if root:\n",
    "            d.append((root, 1))\n",
    "            \n",
    "        while len(d) > 0:\n",
    "            dummy = d.popleft()\n",
    "            if dummy[1] > len(result):\n",
    "                result.append([])\n",
    "            \n",
    "            result[dummy[1] - 1].append(dummy[0].val)\n",
    "            \n",
    "            if dummy[0].left:\n",
    "                d.append((dummy[0].left, dummy[1] + 1))\n",
    "            if dummy[0].right:\n",
    "                d.append((dummy[0].right, dummy[1] + 1))\n",
    "        return result\n",
    "    "
   ]
  },
  {
   "cell_type": "markdown",
   "metadata": {},
   "source": [
    "# DFS"
   ]
  },
  {
   "cell_type": "code",
   "execution_count": 2,
   "metadata": {},
   "outputs": [],
   "source": [
    "# Definition for a binary tree node.\n",
    "# class TreeNode(object):\n",
    "#     def __init__(self, val=0, left=None, right=None):\n",
    "#         self.val = val\n",
    "#         self.left = left\n",
    "#         self.right = right\n",
    "class Solution(object):\n",
    "    def levelOrder(self, root):\n",
    "        \"\"\"\n",
    "        :type root: TreeNode\n",
    "        :rtype: List[List[int]]\n",
    "        \"\"\"\n",
    "        \n",
    "        def levelOrderHelper(root, level, result):\n",
    "            if root == None:\n",
    "                return \n",
    "            else:\n",
    "                if len(result) < level:\n",
    "                    result.append([])\n",
    "                result[level].append(root.val)\n",
    "                if root.left:\n",
    "                    levelOrderHelper(root.left, level + 1, result)\n",
    "                if root.right:\n",
    "                    levelOrderHelper(root.right, level + 1, result)\n",
    "                \n",
    "        result = []\n",
    "        levelOrderHelper(root, 0, result)\n",
    "        return result"
   ]
  },
  {
   "cell_type": "code",
   "execution_count": null,
   "metadata": {},
   "outputs": [],
   "source": [
    "class TreeNode(object):\n",
    "    def __init__(self, val = 0, left = None, right = None):\n",
    "        self.val = val\n",
    "        self.left = left\n",
    "        self.right = right\n",
    "class Solution(object):\n",
    "    def levelOrder(self, root):\n",
    "        result = []\n",
    "        self.dfs(root, 0, result)\n",
    "        return result\n",
    "        \n",
    "    def dfs(self, root, level, result):\n",
    "        if root == None:\n",
    "            return \n",
    "        if len(result) < level + 1:\n",
    "            result.append([])\n",
    "        result[level].append(root.val)\n",
    "        self.levelOrder(root.left, level + 1, result)\n",
    "        self.levelOrder(root.right, level + 1, result)"
   ]
  },
  {
   "cell_type": "markdown",
   "metadata": {},
   "source": [
    "# Analysis"
   ]
  },
  {
   "cell_type": "markdown",
   "metadata": {},
   "source": [
    "### Time Complexity: O(n)\n",
    "### Space Complexity: O(n)"
   ]
  },
  {
   "cell_type": "code",
   "execution_count": null,
   "metadata": {},
   "outputs": [],
   "source": []
  }
 ],
 "metadata": {
  "kernelspec": {
   "display_name": "Python 3",
   "language": "python",
   "name": "python3"
  },
  "language_info": {
   "codemirror_mode": {
    "name": "ipython",
    "version": 3
   },
   "file_extension": ".py",
   "mimetype": "text/x-python",
   "name": "python",
   "nbconvert_exporter": "python",
   "pygments_lexer": "ipython3",
   "version": "3.5.4"
  }
 },
 "nbformat": 4,
 "nbformat_minor": 2
}
