{
 "cells": [
  {
   "cell_type": "markdown",
   "metadata": {},
   "source": [
    "# 230. Kth Smallest Element in a BST\n"
   ]
  },
  {
   "cell_type": "markdown",
   "metadata": {},
   "source": [
    "# Given a binary search tree, write a function kthSmallest to find the kth smallest element in it.\n",
    "\n",
    " \n",
    "\n",
    "Example 1:\n",
    "\n",
    "Input: root = [3,1,4,null,2], k = 1 <br/>\n",
    "   3 <br/>\n",
    "  / \\ <br/>\n",
    " 1   4 <br/>\n",
    "  \\\n",
    "   2 <br/>\n",
    "   \n",
    "Output: 1 <br/>\n",
    "Example 2: <br/>\n",
    "\n",
    "Input: root = [5,3,6,2,4,null,null,1], k = 3<br/>\n",
    "       5 <br/>\n",
    "      / \\ <br/>\n",
    "     3   6 <br/>\n",
    "    / \\ <br/>\n",
    "   2   4 <br/>\n",
    "  / <br/>\n",
    " 1 <br/>\n",
    " \n",
    "Output: 3 <br/>\n",
    "Follow up:\n",
    "What if the BST is modified (insert/delete operations) often and you need to find the kth smallest frequently? How would you optimize the kthSmallest routine?\n",
    "\n",
    " \n",
    "\n",
    "Constraints:\n",
    "\n",
    "The number of elements of the BST is between 1 to 10^4.\n",
    "You may assume k is always valid, 1 ≤ k ≤ BST's total elements."
   ]
  },
  {
   "cell_type": "code",
   "execution_count": 1,
   "metadata": {},
   "outputs": [],
   "source": [
    "# Definition for a binary tree node.\n",
    "class TreeNode:\n",
    "    def __init__(self, val=0, left=None, right=None):\n",
    "        self.val = val\n",
    "        self.left = left\n",
    "        self.right = right\n",
    "        \n",
    "class Solution:\n",
    "    def kthSmallest(self, root, k):\n",
    "        self.arr = []\n",
    "        self.result = None\n",
    "        self.dfs(root, self.arr, k)\n",
    "        return self.result if self.result else 0\n",
    "\n",
    "    def dfs(self, root, arr, k):\n",
    "        if root == None:\n",
    "            return\n",
    "        if root.left:\n",
    "            self.dfs(root.left, arr, k)\n",
    "        arr.append(root.val)\n",
    "\n",
    "        if len(arr) == k:\n",
    "            self.result = arr[-1]\n",
    "            \n",
    "        if root.right:\n",
    "            self.dfs(root.right, arr, k)\n",
    "        "
   ]
  },
  {
   "cell_type": "code",
   "execution_count": 41,
   "metadata": {},
   "outputs": [],
   "source": [
    "node = TreeNode(3)\n",
    "node.left = TreeNode(1)\n",
    "node.left.right = TreeNode(2)\n",
    "node.right = TreeNode(4)"
   ]
  },
  {
   "cell_type": "code",
   "execution_count": 42,
   "metadata": {},
   "outputs": [
    {
     "data": {
      "text/plain": [
       "0"
      ]
     },
     "execution_count": 42,
     "metadata": {},
     "output_type": "execute_result"
    }
   ],
   "source": [
    "sol = Solution()\n",
    "sol.kthSmallest(node, 5)"
   ]
  },
  {
   "cell_type": "code",
   "execution_count": null,
   "metadata": {},
   "outputs": [],
   "source": []
  }
 ],
 "metadata": {
  "kernelspec": {
   "display_name": "Python 3",
   "language": "python",
   "name": "python3"
  },
  "language_info": {
   "codemirror_mode": {
    "name": "ipython",
    "version": 3
   },
   "file_extension": ".py",
   "mimetype": "text/x-python",
   "name": "python",
   "nbconvert_exporter": "python",
   "pygments_lexer": "ipython3",
   "version": "3.5.4"
  }
 },
 "nbformat": 4,
 "nbformat_minor": 2
}
