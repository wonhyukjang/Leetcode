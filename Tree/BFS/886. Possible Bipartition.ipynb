{
 "cells": [
  {
   "cell_type": "markdown",
   "metadata": {},
   "source": [
    "# 886. Possible Bipartition"
   ]
  },
  {
   "cell_type": "markdown",
   "metadata": {},
   "source": [
    "Given a set of N people (numbered 1, 2, ..., N), we would like to split everyone into two groups of any size.\n",
    "\n",
    "Each person may dislike some other people, and they should not go into the same group. \n",
    "\n",
    "Formally, if dislikes[i] = [a, b], it means it is not allowed to put the people numbered a and b into the same group.\n",
    "\n",
    "Return true if and only if it is possible to split everyone into two groups in this way."
   ]
  },
  {
   "cell_type": "markdown",
   "metadata": {},
   "source": [
    "##### Example 1:\n",
    "\n"
   ]
  },
  {
   "cell_type": "markdown",
   "metadata": {},
   "source": [
    "Input: N = 4, dislikes = [[1,2],[1,3],[2,4]] <br/>\n",
    "Output: true <br/>\n",
    "Explanation: group1 [1,4], group2 [2,3]\n"
   ]
  },
  {
   "cell_type": "markdown",
   "metadata": {},
   "source": [
    "##### Example 2:\n",
    "\n"
   ]
  },
  {
   "cell_type": "markdown",
   "metadata": {},
   "source": [
    "Input: N = 3, dislikes = [[1,2],[1,3],[2,3]] <br/>\n",
    "Output: false"
   ]
  },
  {
   "cell_type": "markdown",
   "metadata": {},
   "source": [
    "##### Example 3:\n",
    "\n"
   ]
  },
  {
   "cell_type": "markdown",
   "metadata": {},
   "source": [
    "Input: N = 5, dislikes = [[1,2],[2,3],[3,4],[4,5],[1,5]]<br/>\n",
    "Output: false\n",
    " "
   ]
  },
  {
   "cell_type": "markdown",
   "metadata": {},
   "source": [
    "# BFS"
   ]
  },
  {
   "cell_type": "code",
   "execution_count": 35,
   "metadata": {},
   "outputs": [],
   "source": [
    "import collections\n",
    "class Solution(object):\n",
    "    def possibleBipartition(self, N, dislikes):\n",
    "        \"\"\"\n",
    "        :type N: int\n",
    "        :type dislikes: List[List[int]]\n",
    "        :rtype: bool\n",
    "        \"\"\"\n",
    "        if not dislikes:\n",
    "            return True\n",
    "        \n",
    "        adj = collections.defaultdict(list)\n",
    "        \n",
    "        for d in dislikes:\n",
    "            adj[d[0]].append(d[1])\n",
    "            adj[d[1]].append(d[0])\n",
    "            \n",
    "        color = {}\n",
    "        \n",
    "        dq = deque()\n",
    "        \n",
    "        for i in range(1, N+1):\n",
    "            if i not in color and adj[i]:\n",
    "                color[i] = 1\n",
    "                dq.append(i)\n",
    "            while dq:\n",
    "                tmp = dq.popleft()\n",
    "                for itm in adj[tmp]:\n",
    "                    if itm not in color:\n",
    "                        color[itm] = 1 - color[tmp]\n",
    "                        dq.append((itm))\n",
    "                    elif color[itm] == color[tmp]:\n",
    "                        return False\n",
    "        return True\n",
    "                "
   ]
  },
  {
   "cell_type": "code",
   "execution_count": 33,
   "metadata": {},
   "outputs": [
    {
     "name": "stdout",
     "output_type": "stream",
     "text": [
      "{1: 1, 2: 0, 3: 0}\n"
     ]
    },
    {
     "data": {
      "text/plain": [
       "False"
      ]
     },
     "execution_count": 33,
     "metadata": {},
     "output_type": "execute_result"
    }
   ],
   "source": [
    "sol = Solution()\n",
    "sol.possibleBipartition(4,[[1,2],[1,3],[2,3]])"
   ]
  },
  {
   "cell_type": "markdown",
   "metadata": {},
   "source": [
    "# Analysis"
   ]
  },
  {
   "cell_type": "markdown",
   "metadata": {},
   "source": [
    "### Time Complexity: O(n + Number of node)\n",
    "### Space Complexity: O(n + Number of node)"
   ]
  }
 ],
 "metadata": {
  "kernelspec": {
   "display_name": "Python 3",
   "language": "python",
   "name": "python3"
  },
  "language_info": {
   "codemirror_mode": {
    "name": "ipython",
    "version": 3
   },
   "file_extension": ".py",
   "mimetype": "text/x-python",
   "name": "python",
   "nbconvert_exporter": "python",
   "pygments_lexer": "ipython3",
   "version": "3.5.4"
  }
 },
 "nbformat": 4,
 "nbformat_minor": 2
}
