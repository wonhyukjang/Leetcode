{
 "cells": [
  {
   "cell_type": "markdown",
   "metadata": {},
   "source": [
    "#  Binary Tree Zigzag Level Order Traversal\n",
    "\n",
    "Given a binary tree, return the zigzag level order traversal of its nodes' values. (ie, from left to right, then right to left for the next level and alternate between).\n",
    "\n",
    "For example:<br>\n",
    "Given binary tree [3,9,20,null,null,15,7],\n"
   ]
  },
  {
   "cell_type": "markdown",
   "metadata": {},
   "source": [
    "    3\n",
    "   / \\\n",
    "  9  20\n",
    "    /  \\\n",
    "   15   7\n"
   ]
  },
  {
   "cell_type": "markdown",
   "metadata": {},
   "source": [
    "return its zigzag level order traversal as:<br>\n",
    "[<br>\n",
    "  [3],<br>\n",
    "  [20,9],<br>\n",
    "  [15,7]<br>\n",
    "]"
   ]
  },
  {
   "cell_type": "code",
   "execution_count": 2,
   "metadata": {},
   "outputs": [],
   "source": [
    "# Definition for a binary tree node.\n",
    "# class TreeNode(object):\n",
    "#     def __init__(self, val=0, left=None, right=None):\n",
    "#         self.val = val\n",
    "#         self.left = left\n",
    "#         self.right = right\n",
    "class Solution(object):\n",
    "    def zigzagLevelOrder(self, root):\n",
    "        \"\"\"\n",
    "        :type root: TreeNode\n",
    "        :rtype: List[List[int]]\n",
    "        \"\"\"\n",
    "        stack = []\n",
    "        result = []\n",
    "        \n",
    "        def bfs(root, num):\n",
    "            if root:\n",
    "                if root.right:\n",
    "                    stack.append((root.right, num + 1))      \n",
    "                if root.left:\n",
    "                    stack.append((root.left, num + 1))                        \n",
    "            else:\n",
    "                return \n",
    "                \n",
    "        if root:\n",
    "            stack.append((root, 0))\n",
    "            \n",
    "            while stack:\n",
    "                tmp, num = stack.pop(0)\n",
    "                \n",
    "                if num == 0:\n",
    "                    result.append([tmp.val])\n",
    "                else:\n",
    "                    try:\n",
    "                        if num % 2 == 0:\n",
    "                            result[num] = [tmp.val] + result[num]                            \n",
    "                        else:\n",
    "                            result[num].append(tmp.val)\n",
    "                            \n",
    "                    except:\n",
    "                        result.append([tmp.val])\n",
    "                        \n",
    "                bfs(tmp, num)\n",
    "                \n",
    "        else:\n",
    "            return []\n",
    "        return result"
   ]
  },
  {
   "cell_type": "markdown",
   "metadata": {},
   "source": [
    "# Complexity Analysis\n",
    "### Time Complexity: O(n)\n",
    "### Space Complexity: O(n)"
   ]
  },
  {
   "cell_type": "code",
   "execution_count": null,
   "metadata": {},
   "outputs": [],
   "source": []
  }
 ],
 "metadata": {
  "kernelspec": {
   "display_name": "Python 3",
   "language": "python",
   "name": "python3"
  },
  "language_info": {
   "codemirror_mode": {
    "name": "ipython",
    "version": 3
   },
   "file_extension": ".py",
   "mimetype": "text/x-python",
   "name": "python",
   "nbconvert_exporter": "python",
   "pygments_lexer": "ipython3",
   "version": "3.5.4"
  }
 },
 "nbformat": 4,
 "nbformat_minor": 2
}
