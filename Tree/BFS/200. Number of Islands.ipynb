{
 "cells": [
  {
   "cell_type": "markdown",
   "metadata": {},
   "source": [
    "# 200. Number of Islands\n"
   ]
  },
  {
   "cell_type": "markdown",
   "metadata": {},
   "source": [
    "Given a 2d grid map of '1's (land) and '0's (water), count the number of islands. An island is surrounded by water and is formed by connecting adjacent lands horizontally or vertically. You may assume all four edges of the grid are all surrounded by water.\n",
    "\n"
   ]
  },
  {
   "cell_type": "markdown",
   "metadata": {},
   "source": [
    "<b>Example 1:</b>\n",
    "\n",
    "<b>Input: </b> \n",
    "\n",
    "grid = \n",
    "[ <br>\n",
    "  [\"1\",\"1\",\"1\",\"1\",\"0\"], <br>\n",
    "  [\"1\",\"1\",\"0\",\"1\",\"0\"],<br>\n",
    "  [\"1\",\"1\",\"0\",\"0\",\"0\"],<br>\n",
    "  [\"0\",\"0\",\"0\",\"0\",\"0\"]<br>\n",
    "]<br>\n",
    "<b>Output:</b> 1"
   ]
  },
  {
   "cell_type": "markdown",
   "metadata": {},
   "source": [
    "<b>Example 2:</b>\n",
    "\n"
   ]
  },
  {
   "cell_type": "markdown",
   "metadata": {},
   "source": [
    "<b>Input:</b><br>\n",
    "grid = \n",
    "[<br>\n",
    "  [\"1\",\"1\",\"0\",\"0\",\"0\"],<br>\n",
    "  [\"1\",\"1\",\"0\",\"0\",\"0\"],<br>\n",
    "  [\"0\",\"0\",\"1\",\"0\",\"0\"],<br>\n",
    "  [\"0\",\"0\",\"0\",\"1\",\"1\"]<br>\n",
    "]<br>\n",
    "<b>Output:</b> 3"
   ]
  },
  {
   "cell_type": "code",
   "execution_count": 1,
   "metadata": {},
   "outputs": [],
   "source": [
    "from collections import deque\n",
    "\n",
    "class Solution(object):\n",
    "    def numIslands(self, grid):\n",
    "        \"\"\"\n",
    "        :type grid: List[List[str]]\n",
    "        :rtype: int\n",
    "        \"\"\"\n",
    "        move = [(0,1),(1,0),(0,-1),(-1,0)]\n",
    "        numIslands = 0\n",
    "        visited = []\n",
    "        d = deque()\n",
    "        numIsland = 0\n",
    "        for row in range(len(grid)):\n",
    "            for col in range(len(grid[0])):\n",
    "                if grid[row][col] == '1':\n",
    "                    d.append((row,col))\n",
    "                    grid[row][col] = '0'\n",
    "                    while len(d) > 0:\n",
    "                        tmp = d.popleft()\n",
    "                        for cord in move:\n",
    "                            tmpRow = tmp[0] + cord[0]\n",
    "                            tmpCol = tmp[1] + cord[1]\n",
    "                            if tmpRow >= 0 and tmpRow < len(grid) and tmpCol >= 0 and tmpCol < len(grid[0]):\n",
    "                                if grid[tmpRow][tmpCol] == \"1\":\n",
    "                                    grid[tmpRow][tmpCol] = \"0\"                                    \n",
    "                                    d.append((tmpRow,tmpCol))\n",
    "                    numIsland += 1\n",
    "        return numIsland"
   ]
  },
  {
   "cell_type": "markdown",
   "metadata": {},
   "source": [
    "<b>Complexity Analysis</b>\n",
    "\n",
    "<b>Time complexity:</b> O(M×N) where M is the number of rows and N is the number of columns. Note that Union operation takes essentially constant time when UnionFind is implemented with both path compression and union by rank.\n",
    "\n",
    "<b>Space complexity:</b> O(M×N) as required by UnionFind data structure."
   ]
  },
  {
   "cell_type": "code",
   "execution_count": null,
   "metadata": {},
   "outputs": [],
   "source": []
  }
 ],
 "metadata": {
  "kernelspec": {
   "display_name": "twitter",
   "language": "python",
   "name": "twitter"
  },
  "language_info": {
   "codemirror_mode": {
    "name": "ipython",
    "version": 3
   },
   "file_extension": ".py",
   "mimetype": "text/x-python",
   "name": "python",
   "nbconvert_exporter": "python",
   "pygments_lexer": "ipython3",
   "version": "3.6.10"
  }
 },
 "nbformat": 4,
 "nbformat_minor": 2
}
