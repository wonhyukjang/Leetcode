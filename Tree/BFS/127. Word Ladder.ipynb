{
 "cells": [
  {
   "cell_type": "markdown",
   "metadata": {},
   "source": [
    "# 127. Word Ladder"
   ]
  },
  {
   "cell_type": "markdown",
   "metadata": {},
   "source": [
    "Given two words (beginWord and endWord), and a dictionary's word list, find the length of shortest transformation sequence from beginWord to endWord, such that:\n",
    "\n",
    "Only one letter can be changed at a time.\n",
    "Each transformed word must exist in the word list.\n",
    "Note:\n",
    "\n",
    "Return 0 if there is no such transformation sequence.\n",
    "All words have the same length.\n",
    "All words contain only lowercase alphabetic characters.\n",
    "You may assume no duplicates in the word list.\n",
    "You may assume beginWord and endWord are non-empty and are not the same.\n",
    "Example 1:\n",
    "\n",
    "Input:\n",
    "beginWord = \"hit\",\n",
    "endWord = \"cog\",\n",
    "wordList = [\"hot\",\"dot\",\"dog\",\"lot\",\"log\",\"cog\"]\n",
    "\n",
    "Output: 5\n",
    "\n",
    "Explanation: As one shortest transformation is \"hit\" -> \"hot\" -> \"dot\" -> \"dog\" -> \"cog\",\n",
    "return its length 5.\n",
    "Example 2:\n",
    "\n",
    "Input:\n",
    "beginWord = \"hit\"\n",
    "endWord = \"cog\"\n",
    "wordList = [\"hot\",\"dot\",\"dog\",\"lot\",\"log\"]\n",
    "\n",
    "Output: 0\n",
    "\n",
    "Explanation: The endWord \"cog\" is not in wordList, therefore no possible transformation."
   ]
  },
  {
   "cell_type": "code",
   "execution_count": 2,
   "metadata": {},
   "outputs": [],
   "source": [
    "from collections import deque\n",
    "\n",
    "\n",
    "class Solution(object):\n",
    "    def ladderLength(self, beginWord, endWord, wordList):\n",
    "        \"\"\"\n",
    "        :type beginWord: str\n",
    "        :type endWord: str\n",
    "        :type wordList: List[str]\n",
    "        :rtype: int\n",
    "        \"\"\"\n",
    "        \n",
    "        dic = {}\n",
    "        d = deque()\n",
    "        count = deque()\n",
    "        visited = []\n",
    "        \n",
    "        if endWord not in wordList:\n",
    "            return 0\n",
    "        \n",
    "        for word in wordList:\n",
    "            for i in range(len(word)):\n",
    "                token = word[0:i] + \"*\" + word[i+1:]\n",
    "                if token in dic:\n",
    "                    dic[token].append(word)\n",
    "                else:\n",
    "                    dic[token] = [word]\n",
    "                    \n",
    "            \n",
    "        start = beginWord\n",
    "        \n",
    "        for i in range(len(start)):\n",
    "            token = beginWord[0:i] + \"*\" + beginWord[i+1:]\n",
    "            if token in dic:\n",
    "                d.append(token)\n",
    "                count.append(1)\n",
    "        \n",
    "        while len(d) > 0:\n",
    "            tok = d.popleft()\n",
    "            ct = count.popleft()\n",
    "            if tok in dic:\n",
    "                if endWord in dic[tok]:\n",
    "                    return ct + 1\n",
    "                \n",
    "            for x in dic[tok]:\n",
    "                for i in range(len(x)):\n",
    "                    token = x[0:i] + \"*\" + x[i+1:]\n",
    "                    if token in dic and token not in d and token not in visited:\n",
    "                        d.append(token)\n",
    "                        count.append(ct + 1)\n",
    "                        visited.append(token)\n",
    "\n",
    "                        \n",
    "        return 0                "
   ]
  },
  {
   "cell_type": "code",
   "execution_count": 3,
   "metadata": {},
   "outputs": [
    {
     "data": {
      "text/plain": [
       "0"
      ]
     },
     "execution_count": 3,
     "metadata": {},
     "output_type": "execute_result"
    }
   ],
   "source": [
    "sol = Solution()\n",
    "sol.ladderLength(\"hot\",\"dog\",[\"hot\",\"dog\"])"
   ]
  },
  {
   "cell_type": "code",
   "execution_count": 4,
   "metadata": {},
   "outputs": [
    {
     "data": {
      "text/plain": [
       "5"
      ]
     },
     "execution_count": 4,
     "metadata": {},
     "output_type": "execute_result"
    }
   ],
   "source": [
    "sol = Solution()\n",
    "sol.ladderLength(\"hit\",\"cog\",[\"hot\",\"dot\",\"dog\",\"lot\",\"log\",\"cog\"])"
   ]
  },
  {
   "cell_type": "markdown",
   "metadata": {},
   "source": [
    "# Analysis"
   ]
  },
  {
   "cell_type": "markdown",
   "metadata": {},
   "source": [
    "### Time Complexity: O(nm)\n",
    "### Space Complexity: O(nm)"
   ]
  }
 ],
 "metadata": {
  "kernelspec": {
   "display_name": "Python 3",
   "language": "python",
   "name": "python3"
  },
  "language_info": {
   "codemirror_mode": {
    "name": "ipython",
    "version": 3
   },
   "file_extension": ".py",
   "mimetype": "text/x-python",
   "name": "python",
   "nbconvert_exporter": "python",
   "pygments_lexer": "ipython3",
   "version": "3.5.4"
  }
 },
 "nbformat": 4,
 "nbformat_minor": 2
}
