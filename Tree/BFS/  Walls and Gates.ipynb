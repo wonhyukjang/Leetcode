{
 "cells": [
  {
   "cell_type": "markdown",
   "metadata": {},
   "source": [
    "#  Walls and Gates\n",
    "\n"
   ]
  },
  {
   "cell_type": "markdown",
   "metadata": {},
   "source": [
    "You are given a m x n 2D grid initialized with these three possible values.\n",
    "\n",
    "<li>-1 - A wall or an obstacle.\n",
    "<li>0 - A gate.\n",
    "<li>INF - Infinity means an empty room. We use the value 2147483647 to represent INF as you may assume that the distance to a gate is less than 2147483647.<br>\n",
    "    \n",
    "Fill each empty room with the distance to its nearest gate. If it is impossible to reach a gate, it should be filled with INF.\n",
    "\n"
   ]
  },
  {
   "cell_type": "markdown",
   "metadata": {},
   "source": [
    "<b>Example: </b>\n",
    "\n",
    "Given the 2D grid:\n",
    "\n"
   ]
  },
  {
   "cell_type": "markdown",
   "metadata": {},
   "source": [
    "INF  -1  0  INF <br>\n",
    "INF INF INF  -1 <br>\n",
    "INF  -1 INF  -1 <br>\n",
    "  0  -1 INF INF <br>\n",
    "  \n",
    "After running your function, the 2D grid should be: <br>\n",
    "\n",
    "  3  -1   0   1 <br>\n",
    "  2   2   1  -1 <br>\n",
    "  1  -1   2  -1 <br>\n",
    "  0  -1   3   4<br>"
   ]
  },
  {
   "cell_type": "code",
   "execution_count": 2,
   "metadata": {},
   "outputs": [],
   "source": [
    "class Solution:\n",
    "    def wallsAndGates(self, rooms):\n",
    "        \"\"\"\n",
    "        Do not return anything, modify rooms in-place instead.\n",
    "        \"\"\"\n",
    "        if len(rooms) == 0 :\n",
    "            return rooms\n",
    "        len_row = len(rooms)\n",
    "        len_col = len(rooms[0])\n",
    "        q = collections.deque()\n",
    "        directions = [[-1, 0], [0, 1], [1, 0], [0, -1]]\n",
    "        \n",
    "        # IF SEEN in side for col loop, it resets \n",
    "        seen = set()\n",
    "        start = set()\n",
    "        \n",
    "        for row in range(len_row):\n",
    "            for col in range(len_col):\n",
    "                if rooms[row][col] == 0:\n",
    "                    q.append((row, col, 0))\n",
    "                    \n",
    "        while q:\n",
    "            r, c, count = q.popleft()\n",
    "            \n",
    "            for dirc in directions:\n",
    "                new_r, new_c = r + dirc[0], c + dirc[1]\n",
    "                \n",
    "                if 0 <= new_r < len_row and 0 <= new_c < len_col:\n",
    "                    if rooms[new_r][new_c] == 2147483647:\n",
    "                        rooms[new_r][new_c] = count + 1\n",
    "                        q.append((new_r, new_c, count + 1))\n",
    "        return rooms\n",
    "    \n",
    "    "
   ]
  },
  {
   "cell_type": "markdown",
   "metadata": {},
   "source": [
    "# Analysis"
   ]
  },
  {
   "cell_type": "markdown",
   "metadata": {},
   "source": [
    "### Time Complexity: O(rc)\n",
    "### Space Complexity: O(empty rooms)"
   ]
  }
 ],
 "metadata": {
  "kernelspec": {
   "display_name": "Python 3",
   "language": "python",
   "name": "python3"
  },
  "language_info": {
   "codemirror_mode": {
    "name": "ipython",
    "version": 3
   },
   "file_extension": ".py",
   "mimetype": "text/x-python",
   "name": "python",
   "nbconvert_exporter": "python",
   "pygments_lexer": "ipython3",
   "version": "3.5.4"
  }
 },
 "nbformat": 4,
 "nbformat_minor": 2
}
