{
 "cells": [
  {
   "cell_type": "markdown",
   "metadata": {},
   "source": [
    "# 118. Pascal's Triangle"
   ]
  },
  {
   "cell_type": "markdown",
   "metadata": {},
   "source": [
    "Given a non-negative integer numRows, generate the first numRows of Pascal's triangle.\n",
    "\n",
    "\n",
    "In Pascal's triangle, each number is the sum of the two numbers directly above it.\n"
   ]
  },
  {
   "cell_type": "markdown",
   "metadata": {},
   "source": [
    "##### Example:\n",
    "\n",
    "Input: 5\n",
    "Output: <br/>\n",
    "[\n",
    " \n",
    "        [1], \n",
    "       [1,1], \n",
    "      [1,2,1],\n",
    "     [1,3,3,1],\n",
    "    [1,4,6,4,1]\n",
    "]\n",
    "\n"
   ]
  },
  {
   "cell_type": "code",
   "execution_count": 2,
   "metadata": {},
   "outputs": [],
   "source": [
    "class Solution(object):\n",
    "    def generate(self, numRows):\n",
    "        \"\"\"\n",
    "        :type numRows: int\n",
    "        :rtype: List[List[int]]\n",
    "        \"\"\"\n",
    "        arr = []\n",
    "        if numRows == 0:\n",
    "            arr.append([])\n",
    "            return arr\n",
    "        elif numRows == 1:\n",
    "            arr.append([1])\n",
    "            return arr\n",
    "        elif numRows == 2:\n",
    "            arr.append([1])\n",
    "            arr.append([1,1])\n",
    "            return arr\n",
    "        else:\n",
    "            arr.append([1])\n",
    "            arr.append([1,1])\n",
    "            \n",
    "            while len(arr) < numRows:\n",
    "                dummy = []\n",
    "                for i in range(len(arr[-1]) - 1):\n",
    "                    dummy.append(arr[-1][i] + arr[-1][i+1])\n",
    "                dummy.insert(0,1)\n",
    "                dummy.insert(len(arr[-1]),1)\n",
    "                arr.append(dummy)\n",
    "            return arr\n",
    "            "
   ]
  },
  {
   "cell_type": "code",
   "execution_count": 3,
   "metadata": {},
   "outputs": [
    {
     "data": {
      "text/plain": [
       "[[1], [1, 1], [1, 2, 1], [1, 3, 3, 1], [1, 4, 6, 4, 1]]"
      ]
     },
     "execution_count": 3,
     "metadata": {},
     "output_type": "execute_result"
    }
   ],
   "source": [
    "sol = Solution()\n",
    "sol.generate(5)"
   ]
  },
  {
   "cell_type": "markdown",
   "metadata": {
    "collapsed": true
   },
   "source": [
    "# Analysis"
   ]
  },
  {
   "cell_type": "markdown",
   "metadata": {},
   "source": [
    "### Time Complexity: O(numRows^2)\n",
    "### Space Complexity: O(numRows^2)"
   ]
  },
  {
   "cell_type": "code",
   "execution_count": null,
   "metadata": {},
   "outputs": [],
   "source": []
  }
 ],
 "metadata": {
  "kernelspec": {
   "display_name": "Python 3",
   "language": "python",
   "name": "python3"
  },
  "language_info": {
   "codemirror_mode": {
    "name": "ipython",
    "version": 3
   },
   "file_extension": ".py",
   "mimetype": "text/x-python",
   "name": "python",
   "nbconvert_exporter": "python",
   "pygments_lexer": "ipython3",
   "version": "3.5.4"
  }
 },
 "nbformat": 4,
 "nbformat_minor": 2
}
