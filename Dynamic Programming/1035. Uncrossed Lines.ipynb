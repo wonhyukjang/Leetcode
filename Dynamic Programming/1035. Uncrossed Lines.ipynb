{
 "cells": [
  {
   "cell_type": "markdown",
   "metadata": {},
   "source": [
    "# 1035. Uncrossed Lines\n"
   ]
  },
  {
   "cell_type": "markdown",
   "metadata": {},
   "source": [
    "# We write the integers of A and B (in the order they are given) on two separate horizontal lines.\n",
    "\n",
    "Now, we may draw connecting lines: a straight line connecting two numbers A[i] and B[j] such that:\n",
    "\n",
    "A[i] == B[j]; <br/>\n",
    "\n",
    "The line we draw does not intersect any other connecting (non-horizontal) line.\n",
    "Note that a connecting lines cannot intersect even at the endpoints: each number can only belong to one connecting line.\n",
    "\n",
    "Return the maximum number of connecting lines we can draw in this way.\n",
    "\n",
    " \n",
    "\n",
    "Example 1:\n",
    "\n",
    "Input: A = [1,4,2], B = [1,2,4]<br/>\n",
    "Output: 2<br/>\n",
    "Explanation: We can draw 2 uncrossed lines as in the diagram.<br/>\n",
    "We cannot draw 3 uncrossed lines, because the line from A[1]=4 to B[2]=4 will intersect <br/>\n",
    "the line from A[2]=2 to B[1]=2.<br/>\n",
    "\n",
    "Example 2:\n",
    "\n",
    "Input: A = [2,5,1,2,5], B = [10,5,2,1,5,2]\n",
    "Output: 3\n",
    "Example 3:\n",
    "\n",
    "Input: A = [1,3,7,1,7,5], B = [1,9,2,5,1]\n",
    "Output: 2\n",
    "\n"
   ]
  },
  {
   "cell_type": "code",
   "execution_count": 1,
   "metadata": {},
   "outputs": [],
   "source": [
    "class Solution(object):\n",
    "    def maxUncrossedLines(self, A, B):\n",
    "        \"\"\"\n",
    "        :type A: List[int]\n",
    "        :type B: List[int]\n",
    "        :rtype: int\n",
    "        \"\"\"\n",
    "        row = len(A)\n",
    "        col = len(B)\n",
    "        if row == 0 or col == 0:\n",
    "            return 0\n",
    "        \n",
    "        arr = []\n",
    "        for i in range(row):\n",
    "            tmp = []\n",
    "            for j in range(col):\n",
    "                tmp.append(0)\n",
    "            arr.append(tmp)\n",
    "        if row > 0 and col > 0:\n",
    "            if A[0] == B[0]:\n",
    "                arr[0][0] = 1\n",
    "\n",
    "        for i in range(row):\n",
    "            if A[i] == B[0]:\n",
    "                arr[i][0] = 1\n",
    "            if arr[i-1][0] == 1:\n",
    "                arr[i][0] = 1\n",
    "                \n",
    "        for i in range(col):\n",
    "            if B[i] == A[0]:\n",
    "                arr[0][i] = 1\n",
    "            if arr[0][i-1] == 1:\n",
    "                arr[0][i] = 1                \n",
    "#         showArr(arr)\n",
    "        for i in range(1,row):\n",
    "            for j in range(1,col):\n",
    "                if A[i] == B[j]:\n",
    "                    arr[i][j] = max(arr[i-1][j], arr[i][j-1], arr[i-1][j-1]  + 1)\n",
    "                else:\n",
    "                    arr[i][j] = max(arr[i-1][j], arr[i][j-1], arr[i-1][j-1])\n",
    "#         showArr(arr)\n",
    "        return arr[-1][-1]\n",
    "    \n",
    "                    \n",
    "                "
   ]
  },
  {
   "cell_type": "code",
   "execution_count": 2,
   "metadata": {},
   "outputs": [],
   "source": [
    "def showArr(arr):\n",
    "    for i in range(len(arr)):\n",
    "        for j in range(len(arr[0])):\n",
    "            print(arr[i][j], end=\" \")\n",
    "        print(\"\\n\")\n",
    "    print(\"\\n\")\n",
    "\n",
    "    "
   ]
  },
  {
   "cell_type": "code",
   "execution_count": 3,
   "metadata": {},
   "outputs": [
    {
     "data": {
      "text/plain": [
       "2"
      ]
     },
     "execution_count": 3,
     "metadata": {},
     "output_type": "execute_result"
    }
   ],
   "source": [
    "sol = Solution()\n",
    "sol.maxUncrossedLines([1,4,2],[1,2,4])"
   ]
  },
  {
   "cell_type": "code",
   "execution_count": 4,
   "metadata": {},
   "outputs": [
    {
     "data": {
      "text/plain": [
       "3"
      ]
     },
     "execution_count": 4,
     "metadata": {},
     "output_type": "execute_result"
    }
   ],
   "source": [
    "sol = Solution()\n",
    "sol.maxUncrossedLines([2,5,1,2,5],[10,5,2,1,5,2])"
   ]
  },
  {
   "cell_type": "code",
   "execution_count": 5,
   "metadata": {},
   "outputs": [
    {
     "data": {
      "text/plain": [
       "2"
      ]
     },
     "execution_count": 5,
     "metadata": {},
     "output_type": "execute_result"
    }
   ],
   "source": [
    "sol = Solution()\n",
    "sol.maxUncrossedLines([1,3,7,1,7,5],[1,9,2,5,1])"
   ]
  },
  {
   "cell_type": "code",
   "execution_count": 6,
   "metadata": {},
   "outputs": [
    {
     "data": {
      "text/plain": [
       "1"
      ]
     },
     "execution_count": 6,
     "metadata": {},
     "output_type": "execute_result"
    }
   ],
   "source": [
    "sol = Solution()\n",
    "sol.maxUncrossedLines([3,2],[2,2,2,3])"
   ]
  },
  {
   "cell_type": "markdown",
   "metadata": {},
   "source": [
    "# Analysis"
   ]
  },
  {
   "cell_type": "markdown",
   "metadata": {},
   "source": [
    "### Time Complexity: O(nm)\n",
    "### Space Complexity: O(nm)"
   ]
  },
  {
   "cell_type": "code",
   "execution_count": null,
   "metadata": {},
   "outputs": [],
   "source": []
  }
 ],
 "metadata": {
  "kernelspec": {
   "display_name": "Python 3",
   "language": "python",
   "name": "python3"
  },
  "language_info": {
   "codemirror_mode": {
    "name": "ipython",
    "version": 3
   },
   "file_extension": ".py",
   "mimetype": "text/x-python",
   "name": "python",
   "nbconvert_exporter": "python",
   "pygments_lexer": "ipython3",
   "version": "3.5.4"
  }
 },
 "nbformat": 4,
 "nbformat_minor": 2
}
