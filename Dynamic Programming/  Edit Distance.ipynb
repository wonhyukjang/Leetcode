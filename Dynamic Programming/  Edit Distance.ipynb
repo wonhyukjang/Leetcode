{
 "cells": [
  {
   "cell_type": "markdown",
   "metadata": {},
   "source": [
    "#   Edit Distance"
   ]
  },
  {
   "cell_type": "markdown",
   "metadata": {},
   "source": [
    "Given two words word1 and word2, find the minimum number of operations required to convert word1 to word2. <br>\n",
    "\n",
    "You have the following 3 operations permitted on a word: <br>\n",
    "\n",
    "1. Insert a character <br>\n",
    "2. Delete a character <br>\n",
    "3. Replace a character"
   ]
  },
  {
   "cell_type": "markdown",
   "metadata": {},
   "source": [
    "##### Example 1:\n",
    "\n"
   ]
  },
  {
   "cell_type": "markdown",
   "metadata": {},
   "source": [
    "<b>Input:</b> word1 = \"horse\", word2 = \"ros\" <br>\n",
    "<b>Output:</b> 3 <br>\n",
    "<b>Explanation:</b> <br>\n",
    "horse -> rorse (replace 'h' with 'r') <br>\n",
    "rorse -> rose (remove 'r')<br>\n",
    "rose -> ros (remove 'e')<br>\n"
   ]
  },
  {
   "cell_type": "markdown",
   "metadata": {},
   "source": [
    "##### Example 2:\n",
    "\n"
   ]
  },
  {
   "cell_type": "markdown",
   "metadata": {},
   "source": [
    "<b>Input</b>: word1 = \"intention\", word2 = \"execution\"<br>\n",
    "<b>Output</b>: 5<br>\n",
    "<b>Explanation</b>: <br>\n",
    "intention -> inention (remove 't')<br>\n",
    "inention -> enention (replace 'i' with 'e')<br>\n",
    "enention -> exention (replace 'n' with 'x')<br>\n",
    "exention -> exection (replace 'n' with 'c')<br>\n",
    "exection -> execution (insert 'u')<br>\n"
   ]
  },
  {
   "cell_type": "code",
   "execution_count": 1,
   "metadata": {},
   "outputs": [],
   "source": [
    "class Solution:\n",
    "    def minDistance(self, word1, word2):\n",
    "        \"\"\"Dynamic programming solution\"\"\"\n",
    "        m = len(word1)\n",
    "        n = len(word2)\n",
    "        table = [[0] * (n + 1) for _ in range(m + 1)]\n",
    "\n",
    "        for i in range(m + 1):\n",
    "            table[i][0] = i\n",
    "        for j in range(n + 1):\n",
    "            table[0][j] = j\n",
    "\n",
    "        for i in range(1, m + 1):\n",
    "            for j in range(1, n + 1):\n",
    "                if word1[i - 1] == word2[j - 1]:\n",
    "                    table[i][j] = table[i - 1][j - 1]\n",
    "                else:\n",
    "                    table[i][j] = 1 + min(table[i - 1][j], table[i][j - 1], table[i - 1][j - 1])\n",
    "        showArr(table)\n",
    "        return table[-1][-1]"
   ]
  },
  {
   "cell_type": "code",
   "execution_count": 2,
   "metadata": {},
   "outputs": [],
   "source": [
    "def showArr(arr):\n",
    "    for i in range(len(arr)):\n",
    "        for j in range(len(arr[0])):\n",
    "            print('{:>4s}'.format(str(arr[i][j])), end=\"\")            \n",
    "        print(\"\\n\")\n",
    "    print(\"\\n\")"
   ]
  },
  {
   "cell_type": "code",
   "execution_count": 3,
   "metadata": {},
   "outputs": [
    {
     "name": "stdout",
     "output_type": "stream",
     "text": [
      "   0   1   2   3   4\n",
      "\n",
      "   1   1   2   3   4\n",
      "\n",
      "   2   2   2   2   3\n",
      "\n",
      "   3   3   2   3   3\n",
      "\n",
      "   4   4   3   3   3\n",
      "\n",
      "   5   5   4   4   4\n",
      "\n",
      "\n",
      "\n"
     ]
    },
    {
     "data": {
      "text/plain": [
       "4"
      ]
     },
     "execution_count": 3,
     "metadata": {},
     "output_type": "execute_result"
    }
   ],
   "source": [
    "sol = Solution()\n",
    "sol.minDistance(\"horse\",\"tros\")"
   ]
  },
  {
   "cell_type": "code",
   "execution_count": 4,
   "metadata": {},
   "outputs": [
    {
     "name": "stdout",
     "output_type": "stream",
     "text": [
      "   0   1   2   3\n",
      "\n",
      "   1   0   1   2\n",
      "\n",
      "   2   1   0   1\n",
      "\n",
      "   3   2   1   1\n",
      "\n",
      "\n",
      "\n"
     ]
    },
    {
     "data": {
      "text/plain": [
       "1"
      ]
     },
     "execution_count": 4,
     "metadata": {},
     "output_type": "execute_result"
    }
   ],
   "source": [
    "sol = Solution()\n",
    "sol.minDistance(\"abc\",\"abd\")"
   ]
  },
  {
   "cell_type": "code",
   "execution_count": null,
   "metadata": {},
   "outputs": [],
   "source": []
  },
  {
   "cell_type": "code",
   "execution_count": 5,
   "metadata": {},
   "outputs": [
    {
     "name": "stdout",
     "output_type": "stream",
     "text": [
      "   0   1   2   3   4   5   6   7   8   9\n",
      "\n",
      "   1   1   2   3   4   5   6   6   7   8\n",
      "\n",
      "   2   2   2   3   4   5   6   7   7   7\n",
      "\n",
      "   3   3   3   3   4   5   5   6   7   8\n",
      "\n",
      "   4   3   4   3   4   5   6   6   7   8\n",
      "\n",
      "   5   4   4   4   4   5   6   7   7   7\n",
      "\n",
      "   6   5   5   5   5   5   5   6   7   8\n",
      "\n",
      "   7   6   6   6   6   6   6   5   6   7\n",
      "\n",
      "   8   7   7   7   7   7   7   6   5   6\n",
      "\n",
      "   9   8   8   8   8   8   8   7   6   5\n",
      "\n",
      "\n",
      "\n"
     ]
    },
    {
     "data": {
      "text/plain": [
       "5"
      ]
     },
     "execution_count": 5,
     "metadata": {},
     "output_type": "execute_result"
    }
   ],
   "source": [
    "sol = Solution()\n",
    "sol.minDistance(\"intention\",\"execution\")"
   ]
  },
  {
   "cell_type": "code",
   "execution_count": 6,
   "metadata": {},
   "outputs": [
    {
     "name": "stdout",
     "output_type": "stream",
     "text": [
      "   0   1   2   3   4   5   6   7   8   9  10  11  12\n",
      "\n",
      "   1   0   1   2   3   4   5   6   7   8   9  10  11\n",
      "\n",
      "   2   1   0   1   2   3   4   5   6   7   8   9  10\n",
      "\n",
      "   3   2   1   0   1   2   3   4   5   6   7   8   9\n",
      "\n",
      "   4   3   2   1   1   2   3   3   4   5   6   7   8\n",
      "\n",
      "   5   4   3   2   2   2   2   3   3   4   5   6   7\n",
      "\n",
      "   6   5   4   3   2   3   3   3   4   3   4   5   6\n",
      "\n",
      "   7   6   5   4   3   3   4   4   4   4   3   4   5\n",
      "\n",
      "   8   7   6   5   4   4   4   5   5   5   4   4   5\n",
      "\n",
      "   9   8   7   6   5   5   4   5   5   6   5   5   5\n",
      "\n",
      "  10   9   8   7   6   6   5   5   6   6   6   6   6\n",
      "\n",
      "  11  10   9   8   7   7   6   6   6   7   7   7   7\n",
      "\n",
      "  12  11  10   9   8   8   7   7   7   7   8   8   8\n",
      "\n",
      "  13  12  11  10   9   9   8   8   8   8   8   9   9\n",
      "\n",
      "  14  13  12  11  10  10   9   9   9   9   9   9  10\n",
      "\n",
      "  15  14  13  12  11  10  10  10  10  10  10  10  10\n",
      "\n",
      "  16  15  14  13  12  11  10  11  10  11  11  11  11\n",
      "\n",
      "  17  16  15  14  13  12  11  10  11  11  12  12  12\n",
      "\n",
      "  18  17  16  15  14  13  12  11  10  11  12  13  13\n",
      "\n",
      "  19  18  17  16  15  14  13  12  11  10  11  12  13\n",
      "\n",
      "  20  19  18  17  16  15  14  13  12  11  10  11  12\n",
      "\n",
      "  21  20  19  18  17  16  15  14  13  12  11  10  11\n",
      "\n",
      "  22  21  20  19  18  17  16  15  14  13  12  11  10\n",
      "\n",
      "\n",
      "\n"
     ]
    },
    {
     "data": {
      "text/plain": [
       "10"
      ]
     },
     "execution_count": 6,
     "metadata": {},
     "output_type": "execute_result"
    }
   ],
   "source": [
    "sol = Solution()\n",
    "sol.minDistance(\"zoologicoarchaeologist\",\"zoogeologist\")"
   ]
  },
  {
   "cell_type": "code",
   "execution_count": 7,
   "metadata": {},
   "outputs": [
    {
     "name": "stdout",
     "output_type": "stream",
     "text": [
      "   0   1   2   3   4   5   6   7   8   9  10  11  12  13  14  15  16  17  18  19  20\n",
      "\n",
      "   1   1   2   3   4   5   6   7   8   9  10  11  12  13  13  14  15  16  17  18  19\n",
      "\n",
      "   2   2   2   3   4   5   6   7   8   9  10  11  12  13  14  14  15  16  17  18  19\n",
      "\n",
      "   3   3   3   3   4   5   6   7   8   9  10  11  12  13  14  15  15  16  17  18  19\n",
      "\n",
      "   4   3   4   4   4   5   6   7   8   9  10  11  12  13  14  15  16  16  17  18  19\n",
      "\n",
      "   5   4   4   5   5   5   5   6   7   8   9  10  11  12  13  14  15  16  17  18  19\n",
      "\n",
      "   6   5   5   5   6   6   6   6   7   8   8   9  10  11  12  13  14  15  16  17  18\n",
      "\n",
      "   7   6   6   6   6   7   7   7   7   8   9   9  10  11  12  13  14  15  16  17  18\n",
      "\n",
      "   8   7   7   7   7   7   8   8   8   8   8   9  10  10  11  12  13  14  15  16  17\n",
      "\n",
      "   9   8   8   8   8   8   8   9   9   9   9   9  10  11  11  12  13  14  15  16  17\n",
      "\n",
      "  10   9   8   9   9   9   9   9  10  10  10  10  10  11  12  12  13  14  14  15  16\n",
      "\n",
      "  11  10   9   8   9  10  10  10  10  11  11  11  11  11  12  13  13  14  15  15  16\n",
      "\n",
      "  12  11  10   9   8   9  10  11  11  10  11  12  12  12  12  13  14  14  15  16  16\n",
      "\n",
      "  13  12  11  10   9   8   9  10  11  11  11  12  13  13  13  13  14  14  15  16  17\n",
      "\n",
      "  14  13  12  11  10   9   8   9  10  11  12  12  13  14  14  14  14  15  15  16  17\n",
      "\n",
      "  15  14  13  12  11  10   9   8   9  10  11  12  13  14  15  14  15  15  16  16  17\n",
      "\n",
      "  16  15  14  13  12  11  10   9   8   9  10  11  12  13  14  15  14  15  16  17  17\n",
      "\n",
      "  17  16  15  14  13  12  11  10   9   8   9  10  11  12  13  14  15  15  16  17  18\n",
      "\n",
      "  18  17  16  15  14  13  12  11  10   9   8   9  10  11  12  13  14  15  16  17  18\n",
      "\n",
      "  19  18  17  16  15  14  13  12  11  10   9   8   9  10  11  12  13  14  15  16  17\n",
      "\n",
      "  20  19  18  17  16  15  14  13  12  11  10   9   8   9  10  11  12  13  14  15  16\n",
      "\n",
      "  21  20  19  18  17  16  15  14  13  12  11  10   9   8   9  10  11  12  13  14  15\n",
      "\n",
      "  22  21  20  19  18  17  16  15  14  13  12  11  10   9   8   9  10  11  12  13  14\n",
      "\n",
      "  23  22  21  20  19  18  17  16  15  14  13  12  11  10   9   8   9  10  11  12  13\n",
      "\n",
      "  24  23  22  21  20  19  18  17  16  15  14  13  12  11  10   9   8   9  10  11  12\n",
      "\n",
      "  25  24  23  22  21  20  19  18  17  16  15  14  13  12  11  10   9   9  10  11  12\n",
      "\n",
      "  26  25  24  23  22  21  20  19  18  17  16  15  14  13  12  11  10  10  10  11  12\n",
      "\n",
      "  27  26  25  24  23  22  21  20  19  18  17  16  15  14  13  12  11  11  10  10  11\n",
      "\n",
      "  28  27  26  25  24  23  22  21  20  19  18  17  16  15  14  13  12  12  11  11  11\n",
      "\n",
      "  29  28  27  26  25  24  23  22  21  20  19  18  17  16  15  14  13  13  12  12  12\n",
      "\n",
      "  30  29  28  27  26  25  24  23  22  21  20  19  18  17  16  15  14  14  13  13  13\n",
      "\n",
      "  31  30  29  28  27  26  25  24  23  22  21  20  19  18  17  16  15  15  14  14  14\n",
      "\n",
      "  32  31  30  29  28  27  26  25  24  23  22  21  20  19  18  17  16  16  15  15  15\n",
      "\n",
      "  33  32  31  30  29  28  27  26  25  24  23  22  21  20  19  18  17  17  16  15  16\n",
      "\n",
      "  34  33  32  31  30  29  28  27  26  25  24  23  22  21  20  19  18  18  17  16  16\n",
      "\n",
      "  35  34  33  32  31  30  29  28  27  26  25  24  23  22  21  20  19  18  18  17  17\n",
      "\n",
      "  36  35  34  33  32  31  30  29  28  27  26  25  24  23  22  21  20  19  19  18  18\n",
      "\n",
      "  37  36  35  34  33  32  31  30  29  28  27  26  25  24  23  22  21  20  20  19  19\n",
      "\n",
      "  38  37  36  35  34  33  32  31  30  29  28  27  26  25  24  23  22  21  21  20  20\n",
      "\n",
      "  39  38  37  36  35  34  33  32  31  30  29  28  27  26  25  24  23  22  22  21  21\n",
      "\n",
      "  40  39  38  37  36  35  34  33  32  31  30  29  28  27  26  25  24  23  23  22  22\n",
      "\n",
      "  41  40  39  38  37  36  35  34  33  32  31  30  29  28  27  26  25  24  24  23  23\n",
      "\n",
      "  42  41  40  39  38  37  36  35  34  33  32  31  30  29  28  27  26  25  25  24  24\n",
      "\n",
      "  43  42  41  40  39  38  37  36  35  34  33  32  31  30  29  28  27  26  26  25  25\n",
      "\n",
      "  44  43  42  41  40  39  38  37  36  35  34  33  32  31  30  29  28  27  27  26  26\n",
      "\n",
      "  45  44  43  42  41  40  39  38  37  36  35  34  33  32  31  30  29  28  28  27  27\n",
      "\n",
      "\n",
      "\n"
     ]
    },
    {
     "data": {
      "text/plain": [
       "27"
      ]
     },
     "execution_count": 7,
     "metadata": {},
     "output_type": "execute_result"
    }
   ],
   "source": [
    "sol = Solution()\n",
    "sol.minDistance(\"pneumonoultramicroscopicsilicovolcanoconiosis\",\"ultramicroscopically\")"
   ]
  },
  {
   "cell_type": "markdown",
   "metadata": {},
   "source": [
    "# Analysis"
   ]
  },
  {
   "cell_type": "markdown",
   "metadata": {},
   "source": [
    "### Time Complexity: O(nm)\n",
    "### Space Complexity: O(nm)"
   ]
  },
  {
   "cell_type": "code",
   "execution_count": null,
   "metadata": {},
   "outputs": [],
   "source": []
  }
 ],
 "metadata": {
  "kernelspec": {
   "display_name": "Python 3",
   "language": "python",
   "name": "python3"
  },
  "language_info": {
   "codemirror_mode": {
    "name": "ipython",
    "version": 3
   },
   "file_extension": ".py",
   "mimetype": "text/x-python",
   "name": "python",
   "nbconvert_exporter": "python",
   "pygments_lexer": "ipython3",
   "version": "3.5.4"
  }
 },
 "nbformat": 4,
 "nbformat_minor": 2
}
