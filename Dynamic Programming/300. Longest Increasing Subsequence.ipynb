{
 "cells": [
  {
   "cell_type": "markdown",
   "metadata": {},
   "source": [
    "# 300. Longest Inceasing Subsequence"
   ]
  },
  {
   "cell_type": "markdown",
   "metadata": {},
   "source": [
    "Given an unsorted array of integers, find the length of longest increasing subsequence.\n",
    "\n",
    "<b>Example:</b>\n",
    "\n",
    "<b>Input:</b> [10,9,2,5,3,7,101,18]<br>\n",
    "<b>Output:</b> 4 <br>\n",
    "<b>Explanation:</b> The longest increasing subsequence is [2,3,7,101], therefore the length is 4. <br>\n",
    "<b>Note:</b><br>\n",
    "\n",
    "<li>There may be more than one LIS combination, it is only necessary for you to return the length.\n",
    "Your algorithm should run in O(n2) complexity.</li>\n",
    "<li>Follow up: Could you improve it to O(n log n) time complexity?</li>"
   ]
  },
  {
   "cell_type": "code",
   "execution_count": 1,
   "metadata": {},
   "outputs": [],
   "source": [
    "class Solution(object):\n",
    "    def lengthOfLIS(self, nums):\n",
    "        \"\"\"\n",
    "        :type nums: List[int]\n",
    "        :rtype: int\n",
    "        \"\"\"\n",
    "        if not nums:\n",
    "            return 0\n",
    "        arr = [0 for _ in range(len(nums))]\n",
    "\n",
    "        arr[0] = 1\n",
    "        result = 1\n",
    "        \n",
    "        for i in range(1,len(nums)):\n",
    "            maxVal = 0\n",
    "            for j in range(i):\n",
    "                if nums[i] > nums[j]:\n",
    "                    maxVal = max(maxVal, arr[j])\n",
    "            arr[i] = maxVal + 1\n",
    "            result = max(result, arr[i])\n",
    "        # print(arr)\n",
    "        return result\n"
   ]
  },
  {
   "cell_type": "markdown",
   "metadata": {},
   "source": [
    "# Complexity Analysis\n",
    "### Time Complexity: O(n^2)\n",
    "### Space Complexity: O(n)"
   ]
  }
 ],
 "metadata": {
  "kernelspec": {
   "display_name": "Python 3",
   "language": "python",
   "name": "python3"
  },
  "language_info": {
   "codemirror_mode": {
    "name": "ipython",
    "version": 3
   },
   "file_extension": ".py",
   "mimetype": "text/x-python",
   "name": "python",
   "nbconvert_exporter": "python",
   "pygments_lexer": "ipython3",
   "version": "3.5.4"
  }
 },
 "nbformat": 4,
 "nbformat_minor": 2
}
