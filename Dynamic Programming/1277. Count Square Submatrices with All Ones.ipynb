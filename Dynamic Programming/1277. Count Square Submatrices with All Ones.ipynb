{
 "cells": [
  {
   "cell_type": "markdown",
   "metadata": {},
   "source": [
    "# 1277. Count Square Submatrices with All Ones"
   ]
  },
  {
   "cell_type": "markdown",
   "metadata": {},
   "source": [
    "Given a m * n matrix of ones and zeros, return how many square submatrices have all ones.\n",
    "\n",
    " \n",
    "\n",
    "Example 1:</br>\n",
    "\n",
    "Input: <br/>\n",
    "matrix =\n",
    "[ <br/>\n",
    "  [0,1,1,1],<br/>\n",
    "  [1,1,1,1],<br/>\n",
    "  [0,1,1,1]<br/>\n",
    "]<br/>\n",
    "Output: 15<br/>\n",
    "Explanation: <br/>\n",
    "There are 10 squares of side 1.<br/>\n",
    "There are 4 squares of side 2.<br/>\n",
    "There is  1 square of side 3.<br/>\n",
    "Total number of squares = 10 + 4 + 1 = 15.<br/>\n",
    "Example 2:<br/>\n",
    "\n",
    "Input: <br/>\n",
    "matrix = [ <br/>\n",
    "  [1,0,1],<br/>\n",
    "  [1,1,0],<br/>\n",
    "  [1,1,0]<br/>\n",
    "]<br/>\n",
    "Output: 7<br/>\n",
    "Explanation: <br/>\n",
    "There are 6 squares of side 1.  <br/>\n",
    "There is 1 square of side 2. <br/>\n",
    "Total number of squares = 6 + 1 = 7.<br/>\n",
    " \n",
    "\n",
    "Constraints:\n",
    "\n",
    "1 <= arr.length <= 300<br/>\n",
    "1 <= arr[0].length <= 300<br/>\n",
    "0 <= arr[i][j] <= 1<br/>"
   ]
  },
  {
   "cell_type": "markdown",
   "metadata": {},
   "source": [
    "# Solution : Dynamic Programming"
   ]
  },
  {
   "cell_type": "code",
   "execution_count": 45,
   "metadata": {},
   "outputs": [],
   "source": [
    "class Solution:\n",
    "    def countSquares(self, matrix):\n",
    "        if matrix == None or len(matrix) == 0:\n",
    "            return 0\n",
    "        row = len(matrix)\n",
    "        col = len(matrix[0])\n",
    "        \n",
    "        result = 0\n",
    "        \n",
    "        for r in range(row):\n",
    "            for c in range(col):\n",
    "                if r == 0 or c == 0:\n",
    "                    if matrix[r][c] == 1:\n",
    "                        result += 1\n",
    "                else:\n",
    "                    if matrix[r][c] == 1:\n",
    "                        matrix[r][c] = min(matrix[r-1][c-1], matrix[r-1][c], matrix[r][c-1]) + 1\n",
    "                        result += matrix[r][c]\n",
    "        return result"
   ]
  },
  {
   "cell_type": "code",
   "execution_count": 43,
   "metadata": {},
   "outputs": [],
   "source": [
    "class Solution:\n",
    "     def countSquares(self, matrix):\n",
    "         if matrix is None or len(matrix) == 0:\n",
    "             return 0\n",
    "         \n",
    "         rows = len(matrix)\n",
    "         cols = len(matrix[0])\n",
    "         \n",
    "         result = 0\n",
    "         \n",
    "         for r in range(rows):\n",
    "             for c in range(cols):\n",
    "                 if matrix[r][c] == 1:   \n",
    "                     if r == 0 or c == 0: # Cases with first row or first col\n",
    "                         result += 1      # The 1 cells are square on its own               \n",
    "                     else:                # Other cells\n",
    "                         cell_val = min(matrix[r-1][c-1], matrix[r][c-1], matrix[r-1][c]) + matrix[r][c]\n",
    "                         result += cell_val\n",
    "                         matrix[r][c] = cell_val #**memoize the updated result**\n",
    "         return result  "
   ]
  },
  {
   "cell_type": "code",
   "execution_count": 46,
   "metadata": {},
   "outputs": [
    {
     "name": "stdout",
     "output_type": "stream",
     "text": [
      "15\n"
     ]
    }
   ],
   "source": [
    "sol = Solution()\n",
    "sol.countSquares([\n",
    "  [0,1,1,1],\n",
    "  [1,1,1,1],\n",
    "  [0,1,1,1]\n",
    "])"
   ]
  },
  {
   "cell_type": "markdown",
   "metadata": {},
   "source": [
    "# Analysis"
   ]
  },
  {
   "cell_type": "markdown",
   "metadata": {},
   "source": [
    "### Time Complexity: O(mn)\n",
    "### Space Complexity: O(mn)"
   ]
  },
  {
   "cell_type": "code",
   "execution_count": null,
   "metadata": {},
   "outputs": [],
   "source": []
  }
 ],
 "metadata": {
  "kernelspec": {
   "display_name": "Python 3",
   "language": "python",
   "name": "python3"
  },
  "language_info": {
   "codemirror_mode": {
    "name": "ipython",
    "version": 3
   },
   "file_extension": ".py",
   "mimetype": "text/x-python",
   "name": "python",
   "nbconvert_exporter": "python",
   "pygments_lexer": "ipython3",
   "version": "3.5.4"
  }
 },
 "nbformat": 4,
 "nbformat_minor": 2
}
