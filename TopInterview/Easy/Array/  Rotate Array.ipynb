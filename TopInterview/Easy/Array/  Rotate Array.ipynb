{
 "cells": [
  {
   "cell_type": "markdown",
   "metadata": {},
   "source": [
    "#  Rotate Array\n",
    "\n"
   ]
  },
  {
   "cell_type": "markdown",
   "metadata": {},
   "source": [
    "Given an array, rotate the array to the right by k steps, where k is non-negative.\n",
    "\n",
    "Follow up:\n",
    "\n",
    "<li>Try to come up as many solutions as you can, there are at least 3 different ways to solve this problem.</li>\n",
    "<li>Could you do it in-place with O(1) extra space?</li>\n",
    " \n",
    "\n",
    "<b>Example 1:</b>\n",
    "\n",
    "<b>Input:</b> nums = [1,2,3,4,5,6,7], k = 3<br>\n",
    "<b>Output:</b> [5,6,7,1,2,3,4]<br>\n",
    "\n",
    "<b>Explanation:</b><br>\n",
    "rotate 1 steps to the right: [7,1,2,3,4,5,6]<br>\n",
    "rotate 2 steps to the right: [6,7,1,2,3,4,5]<br>\n",
    "rotate 3 steps to the right: [5,6,7,1,2,3,4]<br>\n",
    "\n",
    "<b>Example 2:</b>\n",
    "\n",
    "<b>Input:</b> nums = [-1,-100,3,99], k = 2<br>\n",
    "<b>Output:</b> [3,99,-1,-100]<br>\n",
    "\n",
    "<b>Explanation: </b><br>\n",
    "rotate 1 steps to the right: [99,-1,-100,3]<br>\n",
    "rotate 2 steps to the right: [3,99,-1,-100]<br>\n",
    " \n",
    "\n",
    "<b>Constraints:</b>\n",
    "\n",
    "<li>1 <= nums.length <= 2 * 10^4</li>\n",
    "<li>It's guaranteed that nums[i] fits in a 32 bit-signed integer.</li>\n",
    "<li>k >= 0</li>"
   ]
  },
  {
   "cell_type": "code",
   "execution_count": 3,
   "metadata": {},
   "outputs": [],
   "source": [
    "class Solution(object):\n",
    "    def rotate(self, nums, k):\n",
    "        \"\"\"\n",
    "        :type nums: List[int]\n",
    "        :type k: int\n",
    "        :rtype: None Do not return anything, modify nums in-place instead.\n",
    "        \"\"\"\n",
    "        size = len(nums)\n",
    "        idx =  size - k % size\n",
    "        i = 0\n",
    "        \n",
    "        while i < idx:\n",
    "            tmp = nums[0]\n",
    "            nums.remove(tmp)\n",
    "            nums.append(tmp)\n",
    "            idx -= 1"
   ]
  },
  {
   "cell_type": "code",
   "execution_count": null,
   "metadata": {},
   "outputs": [],
   "source": []
  }
 ],
 "metadata": {
  "kernelspec": {
   "display_name": "twitter",
   "language": "python",
   "name": "twitter"
  },
  "language_info": {
   "codemirror_mode": {
    "name": "ipython",
    "version": 3
   },
   "file_extension": ".py",
   "mimetype": "text/x-python",
   "name": "python",
   "nbconvert_exporter": "python",
   "pygments_lexer": "ipython3",
   "version": "3.6.10"
  }
 },
 "nbformat": 4,
 "nbformat_minor": 2
}
