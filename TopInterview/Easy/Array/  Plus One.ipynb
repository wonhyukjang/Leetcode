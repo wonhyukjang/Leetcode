{
 "cells": [
  {
   "cell_type": "markdown",
   "metadata": {},
   "source": [
    "#  Plus One\n",
    "\n"
   ]
  },
  {
   "cell_type": "markdown",
   "metadata": {},
   "source": [
    "Given a non-empty array of digits representing a non-negative integer, increment one to the integer.\n",
    "\n",
    "The digits are stored such that the most significant digit is at the head of the list, and each element in the array contains a single digit.\n",
    "\n",
    "You may assume the integer does not contain any leading zero, except the number 0 itself.\n",
    "\n",
    "<b>Example 1:</b>\n",
    "\n",
    "<b>Input:</b> [1,2,3]<br>\n",
    "<b>Output:</b> [1,2,4]<br>\n",
    "<b>Explanation:</b> The array represents the integer 123.<br>\n",
    "\n",
    "<b>Example 2:</b>\n",
    "\n",
    "<b>Input:</b> [4,3,2,1]<br>\n",
    "<b>Output:</b> [4,3,2,2]<br>\n",
    "Explanation: The array represents the integer 4321."
   ]
  },
  {
   "cell_type": "code",
   "execution_count": 1,
   "metadata": {},
   "outputs": [],
   "source": [
    "class Solution(object):\n",
    "    def plusOne(self, digits):\n",
    "        \"\"\"\n",
    "        :type digits: List[int]\n",
    "        :rtype: List[int]\n",
    "        \"\"\"\n",
    "        idx = len(digits) - 1\n",
    "        flag = 0\n",
    "        while idx >= 0:\n",
    "            if idx == len(digits) - 1:\n",
    "                beg = 1\n",
    "            \n",
    "            if digits[idx] + flag + beg >= 10:\n",
    "                dum = (digits[idx] + flag + beg) % 10\n",
    "                digits[idx] = dum\n",
    "                print(\"Update: \",digits[idx])\n",
    "                if idx == 0:\n",
    "                    digits = [0] + digits\n",
    "                    \n",
    "                else:\n",
    "                    idx -= 1\n",
    "                flag = 1\n",
    "                \n",
    "            else:\n",
    "                digits[idx] += 1\n",
    "                return digits\n",
    "                \n",
    "            beg = 0 \n",
    "        return digits"
   ]
  },
  {
   "cell_type": "code",
   "execution_count": null,
   "metadata": {},
   "outputs": [],
   "source": []
  }
 ],
 "metadata": {
  "kernelspec": {
   "display_name": "twitter",
   "language": "python",
   "name": "twitter"
  },
  "language_info": {
   "codemirror_mode": {
    "name": "ipython",
    "version": 3
   },
   "file_extension": ".py",
   "mimetype": "text/x-python",
   "name": "python",
   "nbconvert_exporter": "python",
   "pygments_lexer": "ipython3",
   "version": "3.6.10"
  }
 },
 "nbformat": 4,
 "nbformat_minor": 2
}
