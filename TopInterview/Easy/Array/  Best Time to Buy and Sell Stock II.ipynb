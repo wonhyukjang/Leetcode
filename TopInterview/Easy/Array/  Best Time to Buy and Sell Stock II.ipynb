{
 "cells": [
  {
   "cell_type": "markdown",
   "metadata": {},
   "source": [
    "#  Best Time to Buy and Sell Stock II\n",
    "\n"
   ]
  },
  {
   "cell_type": "markdown",
   "metadata": {},
   "source": [
    "Say you have an array prices for which the ith element is the price of a given stock on day i.\n",
    "\n",
    "Design an algorithm to find the maximum profit. You may complete as many transactions as you like (i.e., buy one and sell one share of the stock multiple times).\n",
    "\n",
    "<b>Note:</b> You may not engage in multiple transactions at the same time (i.e., you must sell the stock before you buy again).\n",
    "\n",
    "<b>Example 1:</b>\n",
    "\n",
    "<b>Input:</b> [7,1,5,3,6,4]<br>\n",
    "<b>Output:</b> 7<br>\n",
    "<b>Explanation:</b> Buy on day 2 (price = 1) and sell on day 3 (price = 5), profit = 5-1 = 4.<br>\n",
    "             Then buy on day 4 (price = 3) and sell on day 5 (price = 6), profit = 6-3 = 3.<br>\n",
    "             \n",
    "<b>Example 2:</b>\n",
    "\n",
    "<b>Input:</b> [1,2,3,4,5]<br>\n",
    "<b>Output:</b> 4<br>\n",
    "<b>Explanation:</b> Buy on day 1 (price = 1) and sell on day 5 (price = 5), profit = 5-1 = 4.<br>\n",
    "             Note that you cannot buy on day 1, buy on day 2 and sell them later, as you are<br>\n",
    "             engaging multiple transactions at the same time. You must sell before buying again.<br>\n",
    "             \n",
    "<b>Example 3:</b>\n",
    "\n",
    "<b>Input:</b> [7,6,4,3,1]<br>\n",
    "<b>Output:</b> 0<br>\n",
    "<b>Explanation:</b> In this case, no transaction is done, i.e. max profit = 0.<br>\n",
    " \n",
    "\n",
    "<b>Constraints:</b>\n",
    "\n",
    "1 <= prices.length <= 3 * 10 ^ 4<br>\n",
    "0 <= prices[i] <= 10 ^ 4<br>"
   ]
  },
  {
   "cell_type": "code",
   "execution_count": 2,
   "metadata": {},
   "outputs": [],
   "source": [
    "class Solution(object):\n",
    "    def maxProfit(self, prices):\n",
    "        \"\"\"\n",
    "        :type prices: List[int]\n",
    "        :rtype: int\n",
    "        \"\"\"\n",
    "        profit = 0\n",
    "        for i in range(1, len(prices)):\n",
    "            profit += max(prices[i]-prices[i-1], 0)\n",
    "        return profit"
   ]
  },
  {
   "cell_type": "code",
   "execution_count": null,
   "metadata": {},
   "outputs": [],
   "source": []
  }
 ],
 "metadata": {
  "kernelspec": {
   "display_name": "twitter",
   "language": "python",
   "name": "twitter"
  },
  "language_info": {
   "codemirror_mode": {
    "name": "ipython",
    "version": 3
   },
   "file_extension": ".py",
   "mimetype": "text/x-python",
   "name": "python",
   "nbconvert_exporter": "python",
   "pygments_lexer": "ipython3",
   "version": "3.6.10"
  }
 },
 "nbformat": 4,
 "nbformat_minor": 2
}
