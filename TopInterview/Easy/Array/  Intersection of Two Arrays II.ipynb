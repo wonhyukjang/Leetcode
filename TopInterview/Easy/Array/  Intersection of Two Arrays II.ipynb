{
 "cells": [
  {
   "cell_type": "markdown",
   "metadata": {},
   "source": [
    "#  Intersection of Two Arrays II\n",
    "\n"
   ]
  },
  {
   "cell_type": "markdown",
   "metadata": {},
   "source": [
    "Given two arrays, write a function to compute their intersection.\n",
    "\n",
    "<b>Example 1:</b>\n",
    "\n",
    "<b>Input:</b> nums1 = [1,2,2,1], nums2 = [2,2]<br>\n",
    "<b>Output:</b> [2,2]<br>\n",
    "\n",
    "<b>Example 2:</b>\n",
    "\n",
    "<b>Input:</b> nums1 = [4,9,5], nums2 = [9,4,9,8,4]<br>\n",
    "<b>Output:</b> [4,9]<br>\n",
    "\n",
    "<b>Note:</b>\n",
    "\n",
    "<li>Each element in the result should appear as many times as it shows in both arrays.</li>\n",
    "<li>The result can be in any order.</li>\n",
    "\n",
    "<b>Follow up:</b>\n",
    "\n",
    "<li>What if the given array is already sorted? How would you optimize your algorithm?</li>\n",
    "<li>What if nums1's size is small compared to nums2's size? Which algorithm is better?</li>\n",
    "<li>What if elements of nums2 are stored on disk, and the memory is limited such that you cannot load all elements </li>into the memory at once?"
   ]
  },
  {
   "cell_type": "code",
   "execution_count": 1,
   "metadata": {},
   "outputs": [],
   "source": [
    "class Solution(object):\n",
    "    def intersect(self, nums1, nums2):\n",
    "        \"\"\"\n",
    "        :type nums1: List[int]\n",
    "        :type nums2: List[int]\n",
    "        :rtype: List[int]\n",
    "        \"\"\"\n",
    "        dic = {}\n",
    "        result = []\n",
    "        flag = 0\n",
    "        if len(nums1) > len(nums2):\n",
    "            for num in nums2:\n",
    "                if num in dic:\n",
    "                    dic[num] += 1\n",
    "                else:\n",
    "                    dic[num] = 1\n",
    "            flag = 1\n",
    "            for num in nums1:\n",
    "                if num in dic:\n",
    "                    result.append(num)\n",
    "                    dic[num]-= 1\n",
    "                    if dic[num] == 0:\n",
    "                        del dic[num]\n",
    "\n",
    "        else:\n",
    "            for num in nums1:\n",
    "                if num in dic:\n",
    "                    dic[num] += 1\n",
    "                else:\n",
    "                    dic[num] = 1\n",
    "            flag = 2\n",
    "            for num in nums2:\n",
    "                if num in dic:\n",
    "                    result.append(num)\n",
    "                    dic[num] -= 1\n",
    "                    if dic[num] == 0:\n",
    "                        del dic[num]\n",
    "\n",
    "        return result\n",
    "        "
   ]
  },
  {
   "cell_type": "code",
   "execution_count": null,
   "metadata": {},
   "outputs": [],
   "source": []
  }
 ],
 "metadata": {
  "kernelspec": {
   "display_name": "twitter",
   "language": "python",
   "name": "twitter"
  },
  "language_info": {
   "codemirror_mode": {
    "name": "ipython",
    "version": 3
   },
   "file_extension": ".py",
   "mimetype": "text/x-python",
   "name": "python",
   "nbconvert_exporter": "python",
   "pygments_lexer": "ipython3",
   "version": "3.6.10"
  }
 },
 "nbformat": 4,
 "nbformat_minor": 2
}
