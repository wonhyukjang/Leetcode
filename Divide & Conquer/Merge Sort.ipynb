{
 "cells": [
  {
   "cell_type": "code",
   "execution_count": 14,
   "metadata": {},
   "outputs": [],
   "source": [
    "def merge(left, right):\n",
    "    dummy = []\n",
    "    left_ptr = 0\n",
    "    right_ptr = 0\n",
    "    \n",
    "    while left_ptr < len(left) and right_ptr < len(right):\n",
    "        if left[left_ptr] >= right[right_ptr]:\n",
    "            dummy.append(right[right_ptr])\n",
    "            right_ptr += 1\n",
    "        else:\n",
    "            dummy.append(left[left_ptr])\n",
    "            left_ptr += 1\n",
    "    dummy.extend(left[left_ptr:])\n",
    "    dummy.extend(right[right_ptr:])\n",
    "    return dummy\n",
    "\n",
    "            \n",
    "def mergeSort(arr):\n",
    "    if len(arr) <= 1:\n",
    "        return arr\n",
    "\n",
    "    pivot = len(arr) // 2\n",
    "\n",
    "    left = mergeSort(arr[:pivot])\n",
    "    right = mergeSort(arr[pivot:])\n",
    "    \n",
    "    return merge(left, right)\n",
    "\n"
   ]
  },
  {
   "cell_type": "code",
   "execution_count": 42,
   "metadata": {},
   "outputs": [
    {
     "data": {
      "text/plain": [
       "False"
      ]
     },
     "execution_count": 42,
     "metadata": {},
     "output_type": "execute_result"
    }
   ],
   "source": [
    "True > 3"
   ]
  },
  {
   "cell_type": "code",
   "execution_count": 15,
   "metadata": {},
   "outputs": [
    {
     "data": {
      "text/plain": [
       "[1, 2, 3]"
      ]
     },
     "execution_count": 15,
     "metadata": {},
     "output_type": "execute_result"
    }
   ],
   "source": [
    "mergeSort([2,3,1])"
   ]
  },
  {
   "cell_type": "code",
   "execution_count": 39,
   "metadata": {},
   "outputs": [],
   "source": [
    "class Solution(object):\n",
    "    def sortArray(self, nums):\n",
    "        \"\"\"\n",
    "        :type nums: List[int]\n",
    "        :rtype: List[int]\n",
    "        \"\"\"\n",
    "        import random\n",
    "        def quickSort(arr):\n",
    "            if len(arr) == 0:\n",
    "                return []\n",
    "            pivot = random.choice(arr)\n",
    "            left = quickSort([x for x in arr if x < pivot])\n",
    "            right = quickSort([x for x in arr if x > pivot])\n",
    "            pivotArr = [x for x in arr if x == pivot]\n",
    "            return left + pivotArr + right        \n",
    "        return quickSort(nums)"
   ]
  },
  {
   "cell_type": "code",
   "execution_count": 40,
   "metadata": {},
   "outputs": [
    {
     "data": {
      "text/plain": [
       "[1, 2, 3]"
      ]
     },
     "execution_count": 40,
     "metadata": {},
     "output_type": "execute_result"
    }
   ],
   "source": [
    "quickSort([2,3,1])"
   ]
  },
  {
   "cell_type": "markdown",
   "metadata": {},
   "source": [
    "# Analysis"
   ]
  },
  {
   "cell_type": "markdown",
   "metadata": {},
   "source": [
    "### Time Complexity: O(nlogn) / O(n^2) -> QuickSort\n",
    "### Space Complexity: O(n)\n",
    "\n"
   ]
  },
  {
   "cell_type": "code",
   "execution_count": null,
   "metadata": {},
   "outputs": [],
   "source": []
  }
 ],
 "metadata": {
  "kernelspec": {
   "display_name": "Python 3",
   "language": "python",
   "name": "python3"
  },
  "language_info": {
   "codemirror_mode": {
    "name": "ipython",
    "version": 3
   },
   "file_extension": ".py",
   "mimetype": "text/x-python",
   "name": "python",
   "nbconvert_exporter": "python",
   "pygments_lexer": "ipython3",
   "version": "3.5.4"
  }
 },
 "nbformat": 4,
 "nbformat_minor": 2
}
