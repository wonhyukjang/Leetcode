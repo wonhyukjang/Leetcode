{
 "cells": [
  {
   "cell_type": "markdown",
   "metadata": {},
   "source": [
    "# Divide and Conquer"
   ]
  },
  {
   "cell_type": "code",
   "execution_count": 2,
   "metadata": {},
   "outputs": [],
   "source": [
    "class Solution(object):\n",
    "    def largestRectangleArea(self, heights):\n",
    "        \"\"\"\n",
    "        :type heights: List[int]\n",
    "        :rtype: int\n",
    "        \"\"\"\n",
    "        def divideConquer(start, end, heights):\n",
    "            if start > end:\n",
    "                return 0\n",
    "            \n",
    "            \n",
    "            minIndex = start\n",
    "\n",
    "            for i in range(start, end + 1):\n",
    "                if heights[i] < heights[minIndex]:\n",
    "                    minIndex = i\n",
    "            return max(divideConquer(start, minIndex - 1, heights), divideConquer(minIndex + 1, end, heights), (end - start + 1) * heights[minIndex])\n",
    "        return divideConquer(0, len(heights) - 1, heights)\n",
    "    \n"
   ]
  },
  {
   "cell_type": "markdown",
   "metadata": {},
   "source": [
    "# Analysis"
   ]
  },
  {
   "cell_type": "markdown",
   "metadata": {},
   "source": [
    "### Time Complexity: O(n^2) avg -> O(nlogn)\n",
    "### Space Complexity: O(n)"
   ]
  },
  {
   "cell_type": "markdown",
   "metadata": {},
   "source": [
    "# Use Stack"
   ]
  },
  {
   "cell_type": "code",
   "execution_count": 3,
   "metadata": {},
   "outputs": [],
   "source": [
    "class Solution(object):\n",
    "    def largestRectangleArea(self, heights):\n",
    "        \"\"\"\n",
    "        :type heights: List[int]\n",
    "        :rtype: int\n",
    "        \"\"\"\n",
    "        if heights is None or len(heights) == 0:\n",
    "            return 0\n",
    "        \n",
    "        stack = []\n",
    "        answer = 0\n",
    "        \n",
    "        for i in range(len(heights)+1):  \n",
    "            if i == len(heights):\n",
    "                cur = -1\n",
    "            else:\n",
    "                cur = heights[i]\n",
    "                \n",
    "            while len(stack) != 0 and heights[stack[-1]] >= cur:\n",
    "                h = heights[stack.pop()]\n",
    "                if len(stack) == 0:\n",
    "                    w = i\n",
    "                else:\n",
    "                    w = i - stack[-1] - 1\n",
    "                answer = max(answer, h * w)\n",
    "            stack.append(i)\n",
    "        return answer\n"
   ]
  },
  {
   "cell_type": "markdown",
   "metadata": {},
   "source": [
    "# Analysis"
   ]
  },
  {
   "cell_type": "markdown",
   "metadata": {},
   "source": [
    "### Time Complexity: O(n)\n",
    "### Space Complexity: O(n)"
   ]
  },
  {
   "cell_type": "code",
   "execution_count": null,
   "metadata": {},
   "outputs": [],
   "source": []
  }
 ],
 "metadata": {
  "kernelspec": {
   "display_name": "twitter",
   "language": "python",
   "name": "twitter"
  },
  "language_info": {
   "codemirror_mode": {
    "name": "ipython",
    "version": 3
   },
   "file_extension": ".py",
   "mimetype": "text/x-python",
   "name": "python",
   "nbconvert_exporter": "python",
   "pygments_lexer": "ipython3",
   "version": "3.6.10"
  }
 },
 "nbformat": 4,
 "nbformat_minor": 2
}
