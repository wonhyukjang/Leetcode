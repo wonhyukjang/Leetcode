{
 "cells": [
  {
   "cell_type": "markdown",
   "metadata": {},
   "source": [
    "Given an array of size n, find the majority element. The majority element is the element that appears more than ⌊ n/2 ⌋ times.\n",
    "\n",
    "You may assume that the array is non-empty and the majority element always exist in the array."
   ]
  },
  {
   "cell_type": "code",
   "execution_count": 26,
   "metadata": {
    "collapsed": true
   },
   "outputs": [],
   "source": [
    "class Solution(object):\n",
    "    def majorityElement(self, nums):\n",
    "        def majority_element_rec(lo,hi):\n",
    "            if lo == hi:\n",
    "                return nums[lo]\n",
    "            mid = (hi + lo) // 2\n",
    "            left = majority_element_rec(lo,mid)\n",
    "            right = majority_element_rec(mid+1, hi)\n",
    "            \n",
    "            if left == right:\n",
    "                return left\n",
    "            else:\n",
    "                left_count = sum(1 for i in range(lo,hi+1) if nums[i] == left)\n",
    "                right_count = sum(1 for i in range(lo, hi+1) if nums[i] == right)\n",
    "                \n",
    "                return left if left_count > right_count else right\n",
    "            \n",
    "        return majority_element_rec(0,len(nums) - 1)"
   ]
  },
  {
   "cell_type": "code",
   "execution_count": 29,
   "metadata": {},
   "outputs": [
    {
     "data": {
      "text/plain": [
       "1"
      ]
     },
     "execution_count": 29,
     "metadata": {},
     "output_type": "execute_result"
    }
   ],
   "source": [
    "sol = Solution()\n",
    "sol.majorityElement([1,2,1,2,2,2,2,1,1,1,1,1,1,1,1,1,1])"
   ]
  }
 ],
 "metadata": {
  "kernelspec": {
   "display_name": "Python 3",
   "language": "python",
   "name": "python3"
  },
  "language_info": {
   "codemirror_mode": {
    "name": "ipython",
    "version": 3
   },
   "file_extension": ".py",
   "mimetype": "text/x-python",
   "name": "python",
   "nbconvert_exporter": "python",
   "pygments_lexer": "ipython3",
   "version": "3.5.4"
  }
 },
 "nbformat": 4,
 "nbformat_minor": 2
}
