{
 "cells": [
  {
   "cell_type": "markdown",
   "metadata": {},
   "source": [
    "#  Search a 2D Matrix II\n",
    "\n"
   ]
  },
  {
   "cell_type": "markdown",
   "metadata": {},
   "source": [
    "Write an efficient algorithm that searches for a value in an m x n matrix. This matrix has the following properties:\n",
    "\n",
    "1. Integers in each row are sorted in ascending from left to right.\n",
    "2. Integers in each column are sorted in ascending from top to bottom."
   ]
  },
  {
   "cell_type": "markdown",
   "metadata": {},
   "source": [
    "##### Example:\n",
    "\n"
   ]
  },
  {
   "cell_type": "markdown",
   "metadata": {},
   "source": [
    "Consider the following matrix:\n",
    "\n",
    "[ <br>\n",
    "  [1,   4,  7, 11, 15], <br>\n",
    "  [2,   5,  8, 12, 19], <br>\n",
    "  [3,   6,  9, 16, 22], <br>\n",
    "  [10, 13, 14, 17, 24], <br>\n",
    "  [18, 21, 23, 26, 30] <br>\n",
    "]"
   ]
  },
  {
   "cell_type": "markdown",
   "metadata": {},
   "source": [
    "# 1. Binary Search"
   ]
  },
  {
   "cell_type": "code",
   "execution_count": 1,
   "metadata": {},
   "outputs": [],
   "source": [
    "class Solution(object):\n",
    "    def searchMatrix(self, matrix, target):\n",
    "        \"\"\"\n",
    "        :type matrix: List[List[int]]\n",
    "        :type target: int\n",
    "        :rtype: bool\n",
    "        \"\"\"\n",
    "        def binarySearch(matrix,target):\n",
    "            start = 0\n",
    "            end = len(matrix) - 1\n",
    "            \n",
    "            while start <= end:\n",
    "                mid = (start + end) // 2\n",
    "                print(start, end)\n",
    "                if matrix[mid] > target:\n",
    "                    end = mid - 1\n",
    "                elif matrix[mid] < target:\n",
    "                    start = mid + 1\n",
    "                else:\n",
    "                    return True\n",
    "            return False\n",
    "        \n",
    "        for i in range(len(matrix)):\n",
    "            if binarySearch(matrix[i],target):\n",
    "                return True\n",
    "        return False\n",
    "            "
   ]
  },
  {
   "cell_type": "markdown",
   "metadata": {},
   "source": [
    "# 2. Better Solution"
   ]
  },
  {
   "cell_type": "markdown",
   "metadata": {},
   "source": [
    "Each pass, one step closer to either row or col <br>\n",
    "\n",
    "This is possible since it's sorted in both row and columnwise"
   ]
  },
  {
   "cell_type": "code",
   "execution_count": 4,
   "metadata": {},
   "outputs": [],
   "source": [
    "class Solution(object):\n",
    "    def searchMatrix(self, matrix, target):\n",
    "        \"\"\"\n",
    "        :type matrix: List[List[int]]\n",
    "        :type target: int\n",
    "        :rtype: bool\n",
    "        \"\"\"\n",
    "        if len(matrix) == 0:\n",
    "            return False\n",
    "        row = 0\n",
    "        col = len(matrix[0]) - 1\n",
    "        \n",
    "        while row < len(matrix) and col >= 0:\n",
    "            print(row, col)\n",
    "            if matrix[row][col] > target:\n",
    "                col -= 1\n",
    "            elif matrix[row][col] < target:\n",
    "                row += 1\n",
    "            else:\n",
    "                return True\n",
    "        return False\n",
    "        "
   ]
  },
  {
   "cell_type": "markdown",
   "metadata": {},
   "source": [
    "# 3. Divide and Conquer"
   ]
  },
  {
   "cell_type": "code",
   "execution_count": 12,
   "metadata": {},
   "outputs": [],
   "source": [
    "class Solution(object):\n",
    "    def searchMatrix(self, matrix, target):\n",
    "        \"\"\"\n",
    "        :type matrix: List[List[int]]\n",
    "        :type target: int\n",
    "        :rtype: bool\n",
    "        \"\"\"\n",
    "        if len(matrix) == 0:\n",
    "            return False\n",
    "        \n",
    "        row = len(matrix) \n",
    "        col = len(matrix[0]) \n",
    "        \n",
    "        def divideConquer(startRow, endRow, startCol, endCol):\n",
    "            \n",
    "            if startRow > endRow:\n",
    "                return False\n",
    "            if startCol > endCol:\n",
    "                return False\n",
    "            if startRow > row and startRow < 0:\n",
    "                return False\n",
    "            if endRow > row and endRow < 0:\n",
    "                return False\n",
    "            if startCol > col and startCol < 0:\n",
    "                return False\n",
    "            if endCol > col and endCol < 0:\n",
    "                return False\n",
    "\n",
    "            midRow = (startRow + endRow) // 2\n",
    "            midCol = (startCol + endCol) // 2\n",
    "\n",
    "            if matrix[midRow][midCol] > target:\n",
    "                return divideConquer(startRow, midRow, startCol, midCol-1) or \\\n",
    "                    divideConquer(startRow, midRow - 1, midCol, endCol) or \\\n",
    "                    divideConquer(midRow + 1, endRow, startCol, midCol)\n",
    "\n",
    "            elif matrix[midRow][midCol] < target:\n",
    "                return divideConquer(startRow, midRow, midCol+1, endCol) or \\\n",
    "                    divideConquer(midRow+1, endRow, startCol, midCol) or \\\n",
    "                    divideConquer(midRow + 1, endRow, midCol, endCol) \n",
    "            else:\n",
    "                return True\n",
    "        \n",
    "        return divideConquer(0,row - 1, 0, col - 1)\n",
    "                            "
   ]
  }
 ],
 "metadata": {
  "kernelspec": {
   "display_name": "twitter",
   "language": "python",
   "name": "twitter"
  },
  "language_info": {
   "codemirror_mode": {
    "name": "ipython",
    "version": 3
   },
   "file_extension": ".py",
   "mimetype": "text/x-python",
   "name": "python",
   "nbconvert_exporter": "python",
   "pygments_lexer": "ipython3",
   "version": "3.8.3"
  }
 },
 "nbformat": 4,
 "nbformat_minor": 2
}
