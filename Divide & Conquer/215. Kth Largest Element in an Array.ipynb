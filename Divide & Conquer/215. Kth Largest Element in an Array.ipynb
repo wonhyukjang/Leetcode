{
 "cells": [
  {
   "cell_type": "markdown",
   "metadata": {},
   "source": [
    "# 215. Kth Largest Element in an Array\n"
   ]
  },
  {
   "cell_type": "markdown",
   "metadata": {},
   "source": [
    "Find the kth largest element in an unsorted array. Note that it is the kth largest \n",
    "\n",
    "element in the sorted order, not the kth distinct element.\n",
    "\n"
   ]
  },
  {
   "cell_type": "markdown",
   "metadata": {},
   "source": [
    "##### Example 1:\n",
    "\n"
   ]
  },
  {
   "cell_type": "markdown",
   "metadata": {},
   "source": [
    "<b>Input:</b> [3,2,1,5,6,4] and k = 2 <br>\n",
    "<b>Output:</b> 5\n"
   ]
  },
  {
   "cell_type": "markdown",
   "metadata": {},
   "source": [
    "#####  Example 2:"
   ]
  },
  {
   "cell_type": "markdown",
   "metadata": {},
   "source": [
    "<b>Input:</b> [3,2,3,1,2,4,5,5,6] and k = 4 <br>\n",
    "<b>Output:</b> 4"
   ]
  },
  {
   "cell_type": "markdown",
   "metadata": {},
   "source": [
    "# Quick Select"
   ]
  },
  {
   "cell_type": "code",
   "execution_count": 2,
   "metadata": {},
   "outputs": [],
   "source": [
    "class Solution(object):\n",
    "    def findKthLargest(self, nums, k):\n",
    "        \"\"\"\n",
    "        :type nums: List[int]\n",
    "        :type k: int\n",
    "        :rtype: int\n",
    "        \"\"\"\n",
    "        import random\n",
    "        pivot = random.choice(nums)\n",
    "        \n",
    "        left = []\n",
    "        right = []\n",
    "        pivotCount = 0\n",
    "        \n",
    "        for i in range(len(nums)):\n",
    "            if pivotCount == 0:\n",
    "                if nums[i] == pivot:\n",
    "                    pivotCount += 1\n",
    "                    continue\n",
    "            if nums[i] < pivot:\n",
    "                left.append(nums[i])\n",
    "            elif nums[i] >= pivot:\n",
    "                right.append(nums[i])\n",
    "                \n",
    "        if len(left) == 0 and len(right) == 0:\n",
    "            return pivot\n",
    "        if len(right) + 1 == k:\n",
    "            return pivot\n",
    "        elif len(right) >= k:\n",
    "            return self.findKthLargest(right, k)\n",
    "        elif len(right) < k:\n",
    "            return self.findKthLargest(left, k - len(right) - 1)"
   ]
  },
  {
   "cell_type": "markdown",
   "metadata": {},
   "source": [
    "# Analysis"
   ]
  },
  {
   "cell_type": "markdown",
   "metadata": {},
   "source": [
    "### Time Complexity: O(n^2), O(n) for average case\n",
    "### Space Complexity: O(n)"
   ]
  },
  {
   "cell_type": "markdown",
   "metadata": {},
   "source": [
    "# Sorting"
   ]
  },
  {
   "cell_type": "code",
   "execution_count": 3,
   "metadata": {},
   "outputs": [],
   "source": [
    "class Solution(object):\n",
    "    def findKthLargest(self, nums, k):\n",
    "        \"\"\"\n",
    "        :type nums: List[int]\n",
    "        :type k: int\n",
    "        :rtype: int\n",
    "        \"\"\"\n",
    "        nums.sort()\n",
    "        return nums[-k]"
   ]
  },
  {
   "cell_type": "markdown",
   "metadata": {},
   "source": [
    "# Analysis"
   ]
  },
  {
   "cell_type": "markdown",
   "metadata": {},
   "source": [
    "### Time Complexity: O(nlogn)\n",
    "### Space Complexity: O(1)"
   ]
  },
  {
   "cell_type": "markdown",
   "metadata": {},
   "source": [
    "# Heap"
   ]
  },
  {
   "cell_type": "code",
   "execution_count": 32,
   "metadata": {},
   "outputs": [],
   "source": [
    "import heapq\n",
    "\n",
    "class Solution(object):\n",
    "    def findKthLargest(self, nums, k):\n",
    "        \"\"\"\n",
    "        :type nums: List[int]\n",
    "        :type k: int\n",
    "        :rtype: int\n",
    "        \"\"\"\n",
    "        hp = nums[:k]\n",
    "        rest = nums[k:]\n",
    "        \n",
    "        heapq.heapify(hp)\n",
    "        \n",
    "        for i in range(len(rest)):\n",
    "            if hp[0] < rest[i]:\n",
    "                heapq.heappop(hp)\n",
    "                heapq.heappush(hp,rest[i])\n",
    "                heapq.heapify(hp)\n",
    "                \n",
    "        return hp[0]\n"
   ]
  },
  {
   "cell_type": "code",
   "execution_count": 33,
   "metadata": {},
   "outputs": [
    {
     "name": "stdout",
     "output_type": "stream",
     "text": [
      "[4, 5]\n"
     ]
    }
   ],
   "source": [
    "sol = Solution()\n",
    "sol.findKthLargest([3,1,5,2,4],2)"
   ]
  },
  {
   "cell_type": "code",
   "execution_count": null,
   "metadata": {},
   "outputs": [],
   "source": []
  }
 ],
 "metadata": {
  "kernelspec": {
   "display_name": "twitter",
   "language": "python",
   "name": "twitter"
  },
  "language_info": {
   "codemirror_mode": {
    "name": "ipython",
    "version": 3
   },
   "file_extension": ".py",
   "mimetype": "text/x-python",
   "name": "python",
   "nbconvert_exporter": "python",
   "pygments_lexer": "ipython3",
   "version": "3.8.3"
  }
 },
 "nbformat": 4,
 "nbformat_minor": 2
}
