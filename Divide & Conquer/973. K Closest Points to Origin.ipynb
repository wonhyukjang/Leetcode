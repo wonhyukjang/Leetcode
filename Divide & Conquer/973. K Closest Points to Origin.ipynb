{
 "cells": [
  {
   "cell_type": "markdown",
   "metadata": {},
   "source": [
    "# 973. K Closest Points to Origin\n"
   ]
  },
  {
   "cell_type": "markdown",
   "metadata": {},
   "source": [
    "We have a list of points on the plane.  Find the K closest points to the origin (0, 0).\n",
    "\n",
    "(Here, the distance between two points on a plane is the Euclidean distance.)\n",
    "\n",
    "You may return the answer in any order.  The answer is guaranteed to be unique (except for the order that it is in.)"
   ]
  },
  {
   "cell_type": "markdown",
   "metadata": {},
   "source": [
    "##### Example 1:\n",
    "\n"
   ]
  },
  {
   "cell_type": "markdown",
   "metadata": {},
   "source": [
    "Input: points = [[1,3],[-2,2]], K = 1 <br>\n",
    "Output: [[-2,2]] <br>\n",
    "Explanation: <br>\n",
    "The distance between (1, 3) and the origin is sqrt(10). <br>\n",
    "The distance between (-2, 2) and the origin is sqrt(8). <br>\n",
    "Since sqrt(8) < sqrt(10), (-2, 2) is closer to the origin. <br>\n",
    "We only want the closest K = 1 points from the origin, so the answer is just [[-2,2]].\n"
   ]
  },
  {
   "cell_type": "markdown",
   "metadata": {},
   "source": [
    "##### Example 2:"
   ]
  },
  {
   "cell_type": "markdown",
   "metadata": {},
   "source": [
    "Input: points = [[3,3],[5,-1],[-2,4]], K = 2 <br>\n",
    "Output: [[3,3],[-2,4]] <br>\n",
    "(The answer [[-2,4],[3,3]] would also be accepted.)\n"
   ]
  },
  {
   "cell_type": "markdown",
   "metadata": {},
   "source": [
    "# Divide and Conquer"
   ]
  },
  {
   "cell_type": "code",
   "execution_count": 9,
   "metadata": {},
   "outputs": [],
   "source": [
    "class Solution(object):\n",
    "    def kClosest(self, points, K):\n",
    "        \"\"\"\n",
    "        :type points: List[List[int]]\n",
    "        :type K: int\n",
    "        :rtype: List[List[int]]\n",
    "        \"\"\"\n",
    "        def divideConquer(Point, K):\n",
    "            ## Base case\n",
    "            if K == 0:\n",
    "                return []\n",
    "            if len(Point) <= K:\n",
    "                return [point[1] for point in Point]\n",
    "            \n",
    "            pivot, left, right = Point[0], [], []\n",
    "            \n",
    "            for point in Point:\n",
    "                if pivot[0] > point[0]:\n",
    "                    left.append(point)\n",
    "                elif pivot[0] < point[0]:\n",
    "                    right.append(point)\n",
    "                    \n",
    "            if len(left) >= K:\n",
    "                return divideConquer(left, K)\n",
    "            else:\n",
    "                return [point[1] for point in left] + [pivot[1]] + divideConquer(right, K - len(left) - 1)\n",
    "        arr = []\n",
    "        for point in points:\n",
    "            x,y = point\n",
    "            arr.append([x*x + y * y, point])\n",
    "\n",
    "        return divideConquer(arr, K)                "
   ]
  },
  {
   "cell_type": "code",
   "execution_count": 10,
   "metadata": {},
   "outputs": [
    {
     "data": {
      "text/plain": [
       "[[-2, 2]]"
      ]
     },
     "execution_count": 10,
     "metadata": {},
     "output_type": "execute_result"
    }
   ],
   "source": [
    "sol = Solution()\n",
    "sol.kClosest([[1,3],[-2,2]],1)"
   ]
  },
  {
   "cell_type": "markdown",
   "metadata": {},
   "source": [
    "# Analysis"
   ]
  },
  {
   "cell_type": "markdown",
   "metadata": {},
   "source": [
    "### Time Complexity: avg O(n) , Worst : O(n^2)\n",
    "### Space Complexity: O(n)\n",
    "divide and conquer, avg O(n), worst (n^2); O(n), can be further reduced using in-place\n",
    " "
   ]
  }
 ],
 "metadata": {
  "kernelspec": {
   "display_name": "Python 3",
   "language": "python",
   "name": "python3"
  },
  "language_info": {
   "codemirror_mode": {
    "name": "ipython",
    "version": 3
   },
   "file_extension": ".py",
   "mimetype": "text/x-python",
   "name": "python",
   "nbconvert_exporter": "python",
   "pygments_lexer": "ipython3",
   "version": "3.5.4"
  }
 },
 "nbformat": 4,
 "nbformat_minor": 2
}
