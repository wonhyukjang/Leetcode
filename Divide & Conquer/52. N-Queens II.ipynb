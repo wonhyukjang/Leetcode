{
 "cells": [
  {
   "cell_type": "markdown",
   "metadata": {},
   "source": [
    "# 52. N-Queens II\n"
   ]
  },
  {
   "cell_type": "markdown",
   "metadata": {},
   "source": [
    "The n-queens puzzle is the problem of placing n queens on an n×n chessboard such that no two queens attack each other.\n",
    "\n"
   ]
  },
  {
   "cell_type": "markdown",
   "metadata": {},
   "source": [
    "Given an integer n, return the number of distinct solutions to the n-queens puzzle.\n",
    "\n",
    "<b>Example:</b>\n",
    "\n",
    "<b>Input:</b> 4<br>\n",
    "<b>Output:</b> 2<br>\n",
    "<b>Explanation:</b> There are two distinct solutions to the 4-queens puzzle as shown below.<br>\n",
    "\n",
    "[\n",
    " [// Solution 1<br>\n",
    "  \".Q..\",  <br>\n",
    "  \"...Q\",<br>\n",
    "  \"Q...\",<br>\n",
    "  \"..Q.\"],<br>\n",
    "\n",
    " [// Solution 2<br>\n",
    "  \"..Q.\",   <br>\n",
    "  \"Q...\",<br>\n",
    "  \"...Q\",<br>\n",
    "  \".Q..\"]<br>\n",
    "]"
   ]
  },
  {
   "cell_type": "code",
   "execution_count": 5,
   "metadata": {},
   "outputs": [],
   "source": [
    "class Solution:\n",
    "    def totalNQueens(self, n):\n",
    "        \"\"\"\n",
    "        :type n: int\n",
    "        :rtype: int\n",
    "        \"\"\"\n",
    "        def is_not_under_attack(row, col):\n",
    "            return not (rows[col] or hills[row - col] or dales[row + col])\n",
    "        \n",
    "        def place_queen(row, col):\n",
    "            rows[col] = 1\n",
    "            hills[row - col] = 1  # \"hill\" diagonals\n",
    "            dales[row + col] = 1  # \"dale\" diagonals\n",
    "        \n",
    "        def remove_queen(row, col):\n",
    "            rows[col] = 0\n",
    "            hills[row - col] = 0  # \"hill\" diagonals\n",
    "            dales[row + col] = 0  # \"dale\" diagonals\n",
    "        \n",
    "        def backtrack(row = 0, count = 0):\n",
    "            for col in range(n):\n",
    "                if is_not_under_attack(row, col):\n",
    "                    place_queen(row, col)\n",
    "                    if row + 1 == n:\n",
    "                        count += 1\n",
    "                    else:\n",
    "                        count = backtrack(row + 1, count)\n",
    "                    remove_queen(row, col)\n",
    "            return count\n",
    "        \n",
    "        rows = [0] * n\n",
    "        hills = [0] * (2 * n - 1)  # \"hill\" diagonals\n",
    "        dales = [0] * (2 * n - 1)  # \"dale\" diagonals\n",
    "        return backtrack()"
   ]
  },
  {
   "cell_type": "code",
   "execution_count": 11,
   "metadata": {},
   "outputs": [
    {
     "data": {
      "text/plain": [
       "0"
      ]
     },
     "execution_count": 11,
     "metadata": {},
     "output_type": "execute_result"
    }
   ],
   "source": [
    "int(6 / -132)"
   ]
  },
  {
   "cell_type": "code",
   "execution_count": 6,
   "metadata": {
    "scrolled": true
   },
   "outputs": [
    {
     "data": {
      "text/plain": [
       "10"
      ]
     },
     "execution_count": 6,
     "metadata": {},
     "output_type": "execute_result"
    }
   ],
   "source": [
    "sol = Solution()\n",
    "sol.totalNQueens(5)"
   ]
  }
 ],
 "metadata": {
  "kernelspec": {
   "display_name": "twitter",
   "language": "python",
   "name": "twitter"
  },
  "language_info": {
   "codemirror_mode": {
    "name": "ipython",
    "version": 3
   },
   "file_extension": ".py",
   "mimetype": "text/x-python",
   "name": "python",
   "nbconvert_exporter": "python",
   "pygments_lexer": "ipython3",
   "version": "3.6.10"
  }
 },
 "nbformat": 4,
 "nbformat_minor": 2
}
