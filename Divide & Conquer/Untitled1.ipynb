{
 "cells": [
  {
   "cell_type": "code",
   "execution_count": 77,
   "metadata": {},
   "outputs": [],
   "source": [
    "class Solution(object):\n",
    "    def combine(self, n, k):\n",
    "        \"\"\"\n",
    "        :type n: int\n",
    "        :type k: int\n",
    "        :rtype: List[List[int]]\n",
    "        \"\"\"\n",
    "        result = []\n",
    "        \n",
    "        def makeCombine(n, k, arr,result):\n",
    "            if len(arr) == 0:\n",
    "                return []\n",
    "            if k == 1:\n",
    "                return arr\n",
    "            \n",
    "            for num in arr:\n",
    "                newArr = makeCombine(n-1, k-1, [x for x in arr if x > num],result)\n",
    "#                 print(num,newArr)\n",
    "                if len(newArr) > 0:\n",
    "                    for t in newArr:\n",
    "                        result.append([num] + [t])\n",
    "                        print(result)\n",
    "#                 print(num,newArr)\n",
    "#                 dummy = [num] + makeCombine(n - 1, k - 1, [x for x in arr if x != num])\n",
    "#                 print(dummy)\n",
    "#             for num in arr:\n",
    "#                 print([x for x in arr if x != num])\n",
    "#                 print(num)\n",
    "#                 newArr = makeCombine(n - 1, k - 1, [x for x in arr if x != num])\n",
    "#                 print(newArr)\n",
    "#                 if len(newArr) > 0:\n",
    "#                     for i in range(len(newArr)):\n",
    "#                         result.append([num] + [newArr[i]])\n",
    "#                 dummy = [num] + makeCombine(n - 1, k - 1, [x for x in arr if x != num])\n",
    "#                 print(dummy)\n",
    "#                 result.append(dummy)\n",
    "        makeCombine(n,k, [i for i in range(1, n+1)],result)\n",
    "        return result\n",
    "    \n",
    "    "
   ]
  },
  {
   "cell_type": "code",
   "execution_count": 78,
   "metadata": {},
   "outputs": [
    {
     "name": "stdout",
     "output_type": "stream",
     "text": [
      "1 [2, 3, 4]\n",
      "[[1, 2]]\n",
      "[[1, 2], [1, 3]]\n",
      "[[1, 2], [1, 3], [1, 4]]\n",
      "2 [3, 4]\n",
      "[[1, 2], [1, 3], [1, 4], [2, 3]]\n",
      "[[1, 2], [1, 3], [1, 4], [2, 3], [2, 4]]\n",
      "3 [4]\n",
      "[[1, 2], [1, 3], [1, 4], [2, 3], [2, 4], [3, 4]]\n",
      "4 []\n"
     ]
    },
    {
     "data": {
      "text/plain": [
       "[[1, 2], [1, 3], [1, 4], [2, 3], [2, 4], [3, 4]]"
      ]
     },
     "execution_count": 78,
     "metadata": {},
     "output_type": "execute_result"
    }
   ],
   "source": [
    "sol = Solution()\n",
    "sol.combine(4,2)"
   ]
  },
  {
   "cell_type": "code",
   "execution_count": null,
   "metadata": {},
   "outputs": [],
   "source": []
  }
 ],
 "metadata": {
  "kernelspec": {
   "display_name": "twitter",
   "language": "python",
   "name": "twitter"
  },
  "language_info": {
   "codemirror_mode": {
    "name": "ipython",
    "version": 3
   },
   "file_extension": ".py",
   "mimetype": "text/x-python",
   "name": "python",
   "nbconvert_exporter": "python",
   "pygments_lexer": "ipython3",
   "version": "3.6.10"
  }
 },
 "nbformat": 4,
 "nbformat_minor": 2
}
