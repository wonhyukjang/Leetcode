{
 "cells": [
  {
   "cell_type": "markdown",
   "metadata": {},
   "source": [
    "#   Linked List Cycle\n",
    "\n"
   ]
  },
  {
   "cell_type": "markdown",
   "metadata": {},
   "source": [
    "Given a linked list, determine if it has a cycle in it.\n",
    "\n",
    "To represent a cycle in the given linked list, we use an integer pos which represents the position (0-indexed) in the linked list where tail connects to. If pos is -1, then there is no cycle in the linked list."
   ]
  },
  {
   "cell_type": "markdown",
   "metadata": {},
   "source": [
    "##### Example 1:\n",
    "\n"
   ]
  },
  {
   "cell_type": "markdown",
   "metadata": {},
   "source": [
    "<b>Input:</b> head = [3,2,0,-4], pos = 1<br>\n",
    "<b>Output:</b> true<br>\n",
    "<b>Explanation:</b> There is a cycle in the linked list, where tail connects to the second node.\n"
   ]
  },
  {
   "cell_type": "markdown",
   "metadata": {},
   "source": [
    "##### Example 2:\n",
    "\n"
   ]
  },
  {
   "cell_type": "markdown",
   "metadata": {},
   "source": [
    "<b>Input:</b> head = [1,2], pos = 0<br>\n",
    "<b>Output:</b> true<br>\n",
    "<b>Explanation:</b> There is a cycle in the linked list, where tail connects to the first node.\n"
   ]
  },
  {
   "cell_type": "markdown",
   "metadata": {},
   "source": [
    "##### Example 3:\n",
    "\n"
   ]
  },
  {
   "cell_type": "markdown",
   "metadata": {},
   "source": [
    "<b>Input:</b> head = [1], pos = -1<br>\n",
    "<b>Output:</b> false<br>\n",
    "<b>Explanation:</b> There is no cycle in the linked list.\n"
   ]
  },
  {
   "cell_type": "code",
   "execution_count": 5,
   "metadata": {},
   "outputs": [],
   "source": [
    "# Definition for singly-linked list.\n",
    "# class ListNode(object):\n",
    "#     def __init__(self, x):\n",
    "#         self.val = x\n",
    "#         self.next = None\n",
    "\n",
    "class Solution(object):\n",
    "    def hasCycle(self, head):\n",
    "        \"\"\"\n",
    "        :type head: ListNode\n",
    "        :rtype: bool\n",
    "        \"\"\"\n",
    "        if head:\n",
    "            fast = slow = head\n",
    "        else:\n",
    "            return False\n",
    "        \n",
    "        while slow and fast:\n",
    "            # fast.next and fast.next.next should be both included\n",
    "            if slow.next and fast.next and fast.next.next:\n",
    "                if fast.next.next.val == slow.next.val:\n",
    "                    return True\n",
    "                else:\n",
    "                    fast = fast.next.next\n",
    "                    slow = slow.next\n",
    "            else:\n",
    "                return False\n",
    "            "
   ]
  },
  {
   "cell_type": "markdown",
   "metadata": {},
   "source": [
    "# Analysis"
   ]
  },
  {
   "cell_type": "markdown",
   "metadata": {},
   "source": [
    "Time complexity : $O(n)$. <br>\n",
    "Let us denote nn as the total number of nodes in the linked list. To analyze its time complexity, we consider the following two cases separately.\n",
    "\n",
    "1. List has no cycle:\n",
    "The fast pointer reaches the end first and the run time depends on the list's length, which is $O(n)$.\n",
    "\n",
    "2. List has a cycle:\n",
    "We break down the movement of the slow pointer into two steps, the non-cyclic part and the cyclic part:\n",
    "\n",
    "1. The slow pointer takes \"non-cyclic length\" steps to enter the cycle. At this point, the fast pointer has already reached the cycle. Number of iterations = non-cyclic length = N\n",
    "\n",
    "2. Both pointers are now in the cycle. Consider two runners running in a cycle - the fast runner moves 2 steps while the slow runner moves 1 steps at a time. Since the speed difference is 1, it takes $\\dfrac{\\text{distance between the 2 runners}}{\\text{difference of speed}} $\n",
    "difference of speed\n",
    "distance between the 2 runners\n",
    "​\t\n",
    "  loops for the fast runner to catch up with the slow runner. As the distance is at most \"$\\text{cyclic length K }$cyclic length K\" and the speed difference is 1, we conclude that\n",
    "\\text{Number of iterations} = $\\text{almost}$ Number of iterations=almost \"$\\text{cyclic length K}$cyclic length K\".\n",
    "\n",
    "Therefore, the worst case time complexity is $O(N+K)$, which is $O(n)$.\n",
    "\n",
    "Space complexity : $O(1)$. We only use two nodes (slow and fast) so the space complexity is $O(1)$."
   ]
  },
  {
   "cell_type": "code",
   "execution_count": null,
   "metadata": {},
   "outputs": [],
   "source": []
  }
 ],
 "metadata": {
  "kernelspec": {
   "display_name": "twitter",
   "language": "python",
   "name": "twitter"
  },
  "language_info": {
   "codemirror_mode": {
    "name": "ipython",
    "version": 3
   },
   "file_extension": ".py",
   "mimetype": "text/x-python",
   "name": "python",
   "nbconvert_exporter": "python",
   "pygments_lexer": "ipython3",
   "version": "3.6.10"
  }
 },
 "nbformat": 4,
 "nbformat_minor": 2
}
