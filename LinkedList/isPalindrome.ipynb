{
 "cells": [
  {
   "cell_type": "code",
   "execution_count": 1,
   "metadata": {},
   "outputs": [],
   "source": [
    "# Definition for singly-linked list.\n",
    "# class ListNode(object):\n",
    "#     def __init__(self, val=0, next=None):\n",
    "#         self.val = val\n",
    "#         self.next = next\n",
    "class Solution(object):\n",
    "    def isPalindrome(self, head):\n",
    "        \"\"\"\n",
    "        :type head: ListNode\n",
    "        :rtype: bool\n",
    "        \"\"\"\n",
    "        if head == None:\n",
    "            return True\n",
    "        \n",
    "        size = 0\n",
    "        \n",
    "        # Check the size of Linked List\n",
    "        dummy = head\n",
    "        \n",
    "        while dummy:\n",
    "            dummy = dummy.next\n",
    "            size += 1\n",
    "        firstHalf = findRest = head\n",
    "        rest = None\n",
    "        \n",
    "        # Seperate Half of the Linked List        \n",
    "        half = size // 2\n",
    "        idx = 0       \n",
    "        \n",
    "        while idx < half:\n",
    "            findRest = findRest.next\n",
    "            idx += 1\n",
    "            \n",
    "        if size % 2 == 0:\n",
    "            rest = findRest\n",
    "        else:\n",
    "            rest = findRest.next\n",
    "            \n",
    "        # Reverse the Rest half of the Linked List            \n",
    "        prev = None\n",
    "        cur = rest\n",
    "                        \n",
    "        while cur:\n",
    "            dummy = cur.next\n",
    "            cur.next = prev\n",
    "            prev = cur            \n",
    "            cur = dummy\n",
    "            \n",
    "        # Compare Two-Half List   \n",
    "        idx = 0\n",
    "        \n",
    "        while idx < half:\n",
    "            if firstHalf.val != prev.val:\n",
    "                return False\n",
    "            firstHalf = firstHalf.next\n",
    "            prev = prev.next\n",
    "            idx += 1\n",
    "        return True"
   ]
  },
  {
   "cell_type": "code",
   "execution_count": null,
   "metadata": {},
   "outputs": [],
   "source": []
  }
 ],
 "metadata": {
  "kernelspec": {
   "display_name": "twitter",
   "language": "python",
   "name": "twitter"
  },
  "language_info": {
   "codemirror_mode": {
    "name": "ipython",
    "version": 3
   },
   "file_extension": ".py",
   "mimetype": "text/x-python",
   "name": "python",
   "nbconvert_exporter": "python",
   "pygments_lexer": "ipython3",
   "version": "3.6.10"
  }
 },
 "nbformat": 4,
 "nbformat_minor": 2
}
