{
 "cells": [
  {
   "cell_type": "markdown",
   "metadata": {},
   "source": [
    "#  Add Two Numbers\n",
    "\n"
   ]
  },
  {
   "cell_type": "markdown",
   "metadata": {},
   "source": [
    "You are given two non-empty linked lists representing two non-negative integers. The digits are stored in reverse order and each of their nodes contain a single digit. Add the two numbers and return it as a linked list.\n",
    "\n",
    "You may assume the two numbers do not contain any leading zero, except the number 0 itself.\n",
    "\n",
    "\n"
   ]
  },
  {
   "cell_type": "markdown",
   "metadata": {},
   "source": [
    "<b>Example:</b>\n",
    "\n",
    "<b>Input:</b> (2 -> 4 -> 3) + (5 -> 6 -> 4)<br>\n",
    "<b>Output:</b> 7 -> 0 -> 8<br>\n",
    "<b>Explanation:</b> 342 + 465 = 807."
   ]
  },
  {
   "cell_type": "code",
   "execution_count": 3,
   "metadata": {},
   "outputs": [],
   "source": [
    "# Definition for singly-linked list.\n",
    "# class ListNode(object):\n",
    "#     def __init__(self, val=0, next=None):\n",
    "#         self.val = val\n",
    "#         self.next = next\n",
    "class Solution(object):\n",
    "    def addTwoNumbers(self, l1, l2):\n",
    "        \"\"\"\n",
    "        :type l1: ListNode\n",
    "        :type l2: ListNode\n",
    "        :rtype: ListNode\n",
    "        \"\"\"\n",
    "        # l1, l2, result Pointer\n",
    "        startL1 = l1\n",
    "        startL2 = l2\n",
    "        newNode = result = ListNode(0)\n",
    "        \n",
    "        flag = 0\n",
    "        \n",
    "        while startL1 and startL2:\n",
    "            add = startL1.val + startL2.val            \n",
    "            # Add flag\n",
    "            if flag != 0:\n",
    "                add += flag\n",
    "                flag = 0\n",
    "                \n",
    "            # Check if sum bigger than 10                        \n",
    "            if add >= 10:\n",
    "                flag = add // 10                \n",
    "                add -= 10\n",
    "                \n",
    "            # Add node to the newNode after sum\n",
    "            dummy = ListNode(add)\n",
    "            newNode.next = dummy\n",
    "            newNode = newNode.next            \n",
    "            startL1 = startL1.next\n",
    "            startL2 = startL2.next\n",
    "        \n",
    "        # Handle 5 + 5 -> 0 1\n",
    "        if flag != 0:\n",
    "            newNode.next = ListNode(flag)\n",
    "            \n",
    "        # If startL1 is longer than startL2, continue addition\n",
    "        if startL1 != None:\n",
    "            while startL1:\n",
    "                add = startL1.val + flag\n",
    "                flag = 0\n",
    "                if add >= 10:\n",
    "                    flag = add // 10\n",
    "                    add -= 10\n",
    "                dummy = ListNode(add)\n",
    "                newNode.next = dummy\n",
    "                newNode = newNode.next\n",
    "                startL1 = startL1.next\n",
    "            if flag > 0:\n",
    "                dummy = ListNode(flag)\n",
    "                newNode.next = dummy                \n",
    "                \n",
    "        # If startL2 is longer than startL1, continue addition            \n",
    "        if startL2 != None:\n",
    "            while startL2:\n",
    "                add = startL2.val + flag\n",
    "                flag = 0\n",
    "                \n",
    "                if add >= 10:\n",
    "                    flag = add // 10\n",
    "                    add -= 10\n",
    "                    \n",
    "                dummy = ListNode(add)\n",
    "                newNode.next = dummy\n",
    "                newNode = newNode.next\n",
    "                startL2 = startL2.next    \n",
    "                \n",
    "            if flag > 0:\n",
    "                dummy = ListNode(flag)\n",
    "                newNode.next = dummy\n",
    "            \n",
    "        return result.next"
   ]
  },
  {
   "cell_type": "markdown",
   "metadata": {},
   "source": [
    "# Analysis"
   ]
  },
  {
   "cell_type": "markdown",
   "metadata": {},
   "source": [
    "### Time Complexity: O(n)\n",
    "### Space Complexity: O(1)"
   ]
  },
  {
   "cell_type": "code",
   "execution_count": null,
   "metadata": {},
   "outputs": [],
   "source": []
  }
 ],
 "metadata": {
  "kernelspec": {
   "display_name": "twitter",
   "language": "python",
   "name": "twitter"
  },
  "language_info": {
   "codemirror_mode": {
    "name": "ipython",
    "version": 3
   },
   "file_extension": ".py",
   "mimetype": "text/x-python",
   "name": "python",
   "nbconvert_exporter": "python",
   "pygments_lexer": "ipython3",
   "version": "3.6.10"
  }
 },
 "nbformat": 4,
 "nbformat_minor": 2
}
