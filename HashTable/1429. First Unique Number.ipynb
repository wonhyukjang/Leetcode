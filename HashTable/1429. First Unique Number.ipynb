{
 "cells": [
  {
   "cell_type": "markdown",
   "metadata": {},
   "source": [
    "# 1429. First Unique Number\n"
   ]
  },
  {
   "cell_type": "markdown",
   "metadata": {},
   "source": [
    "# You have a queue of integers, you need to retrieve the first unique integer in the queue.\n",
    "\n",
    "Implement the FirstUnique class:\n",
    "\n",
    "FirstUnique(int[] nums) Initializes the object with the numbers in the queue.\n",
    "int showFirstUnique() returns the value of the first unique integer of the queue, and returns -1 if there is no such integer.\n",
    "void add(int value) insert value to the queue.\n",
    " \n",
    "\n",
    "Example 1:\n",
    "\n",
    "Input: <br/>\n",
    "[\"FirstUnique\",\"showFirstUnique\",\"add\",\"showFirstUnique\",\"add\",\"showFirstUnique\",\"add\",\"showFirstUnique\"]<br/>\n",
    "[[[2,3,5]],[],[5],[],[2],[],[3],[]]<br/>\n",
    "Output: <br/>\n",
    "[null,2,null,2,null,3,null,-1]<br/>\n",
    "Explanation: <br/>\n",
    "FirstUnique firstUnique = new FirstUnique([2,3,5]);<br/>\n",
    "firstUnique.showFirstUnique(); // return 2<br/>\n",
    "firstUnique.add(5);            // the queue is now [2,3,5,5]<br/>\n",
    "firstUnique.showFirstUnique(); // return 2<br/>\n",
    "firstUnique.add(2);            // the queue is now [2,3,5,5,2]<br/>\n",
    "firstUnique.showFirstUnique(); // return 3<br/>\n",
    "firstUnique.add(3);            // the queue is now [2,3,5,5,2,3]<br/>\n",
    "firstUnique.showFirstUnique(); // return -1<br/>\n",
    "Example 2:<br/>\n",
    "\n",
    "Input: <br/>\n",
    "[\"FirstUnique\",\"showFirstUnique\",\"add\",\"add\",\"add\",\"add\",\"add\",\"showFirstUnique\"]\n",
    "[[[7,7,7,7,7,7]],[],[7],[3],[3],[7],[17],[]]<br/>\n",
    "Output: <br/>\n",
    "[null,-1,null,null,null,null,null,17]<br/>\n",
    "Explanation: <br/>\n",
    "FirstUnique firstUnique = new FirstUnique([7,7,7,7,7,7]);<br/>\n",
    "firstUnique.showFirstUnique(); // return -1<br/>\n",
    "firstUnique.add(7);            // the queue is now [7,7,7,7,7,7,7]<br/>\n",
    "firstUnique.add(3);            // the queue is now [7,7,7,7,7,7,7,3]<br/>\n",
    "firstUnique.add(3);            // the queue is now [7,7,7,7,7,7,7,3,3]<br/>\n",
    "firstUnique.add(7);            // the queue is now [7,7,7,7,7,7,7,3,3,7]<br/>\n",
    "firstUnique.add(17);           // the queue is now [7,7,7,7,7,7,7,3,3,7,17]<br/>\n",
    "firstUnique.showFirstUnique(); // return 17<br/>\n",
    "Example 3:<br/>\n",
    "\n",
    "Input: <br/>\n",
    "[\"FirstUnique\",\"showFirstUnique\",\"add\",\"showFirstUnique\"]\n",
    "[[[809]],[],[809],[]]<br/>\n",
    "Output: <br/>\n",
    "[null,809,null,-1]<br/>\n",
    "Explanation: <br/>\n",
    "FirstUnique firstUnique = new FirstUnique([809]);<br/>\n",
    "firstUnique.showFirstUnique(); // return 809<br/>\n",
    "firstUnique.add(809);          // the queue is now [809,809]<br/>\n",
    "firstUnique.showFirstUnique(); // return -1<br/>\n",
    " \n",
    "\n",
    "Constraints:<br/>\n",
    "\n",
    "1 <= nums.length <= 10^5<br/>\n",
    "1 <= nums[i] <= 10^8<br/>\n",
    "1 <= value <= 10^8<br/>\n",
    "At most 50000 calls will be made to showFirstUnique and add.<br/>\n"
   ]
  },
  {
   "cell_type": "code",
   "execution_count": 1,
   "metadata": {},
   "outputs": [],
   "source": [
    "from collections import OrderedDict\n",
    "\n",
    "class FirstUnique(object):\n",
    "\n",
    "    def __init__(self, nums):\n",
    "        \"\"\"\n",
    "        :type nums: List[int]\n",
    "        \"\"\"\n",
    "        self.dic = OrderedDict()\n",
    "        self.d = OrderedDict()\n",
    "        \n",
    "        for num in nums:\n",
    "            if num in self.dic:\n",
    "                self.dic[num] += 1\n",
    "            else:\n",
    "                self.dic[num] = 1\n",
    "                \n",
    "        for k,v in self.dic.items():\n",
    "            if v == 1:\n",
    "                self.d[k] = v\n",
    "\n",
    "    \n",
    "    def showFirstUnique(self):\n",
    "        \"\"\"\n",
    "        :rtype: int\n",
    "        \"\"\"\n",
    "        if self.d:\n",
    "            for k,v in self.d.items():\n",
    "                return k\n",
    "        return -1\n",
    "        \n",
    "\n",
    "    def add(self, value):\n",
    "        \"\"\"\n",
    "        :type value: int\n",
    "        :rtype: None\n",
    "        \"\"\"\n",
    "        try:\n",
    "            if self.dic[value]:\n",
    "                exist = 1\n",
    "            else:\n",
    "                exist = 0\n",
    "        except:\n",
    "            exist = 0\n",
    "        if exist == 0:\n",
    "            self.dic[value] = 1\n",
    "            self.d[value] = 1\n",
    "        else:\n",
    "            self.dic[value] += 1\n",
    "            valExist = self.d.get(value,0)\n",
    "            if valExist != 0:\n",
    "                del self.d[value]\n",
    "#         print(self.dic)\n",
    "#         print(self.d)\n",
    "\n",
    "\n",
    "# Your FirstUnique object will be instantiated and called as such:\n",
    "# obj = FirstUnique(nums)\n",
    "# param_1 = obj.showFirstUnique()\n",
    "# obj.add(value)"
   ]
  },
  {
   "cell_type": "code",
   "execution_count": 2,
   "metadata": {},
   "outputs": [
    {
     "data": {
      "text/plain": [
       "-1"
      ]
     },
     "execution_count": 2,
     "metadata": {},
     "output_type": "execute_result"
    }
   ],
   "source": [
    "obj = FirstUnique([1])\n",
    "obj.add(1)\n",
    "obj.add(1)\n",
    "\n",
    "\n",
    "obj.showFirstUnique()"
   ]
  },
  {
   "cell_type": "code",
   "execution_count": 3,
   "metadata": {},
   "outputs": [
    {
     "data": {
      "text/plain": [
       "3"
      ]
     },
     "execution_count": 3,
     "metadata": {},
     "output_type": "execute_result"
    }
   ],
   "source": [
    "obj = FirstUnique([7,7,1,1,4,3,2,4])\n",
    "param_1 = obj.showFirstUnique()\n",
    "obj.add(2)\n",
    "obj.showFirstUnique()"
   ]
  },
  {
   "cell_type": "code",
   "execution_count": 4,
   "metadata": {},
   "outputs": [
    {
     "data": {
      "text/plain": [
       "17"
      ]
     },
     "execution_count": 4,
     "metadata": {},
     "output_type": "execute_result"
    }
   ],
   "source": [
    "obj = FirstUnique([7,7,7,7,7,7,7,7])\n",
    "obj.add(7)\n",
    "obj.add(3)\n",
    "obj.add(3)\n",
    "obj.add(7)\n",
    "obj.add(17)\n",
    "\n",
    "\n",
    "obj.showFirstUnique()"
   ]
  },
  {
   "cell_type": "markdown",
   "metadata": {},
   "source": [
    "# Analysis"
   ]
  },
  {
   "cell_type": "markdown",
   "metadata": {},
   "source": [
    "### Time Complexity: O(n)\n",
    "### Space Complexity: O(1)"
   ]
  },
  {
   "cell_type": "code",
   "execution_count": null,
   "metadata": {},
   "outputs": [],
   "source": []
  }
 ],
 "metadata": {
  "kernelspec": {
   "display_name": "Python 3",
   "language": "python",
   "name": "python3"
  },
  "language_info": {
   "codemirror_mode": {
    "name": "ipython",
    "version": 3
   },
   "file_extension": ".py",
   "mimetype": "text/x-python",
   "name": "python",
   "nbconvert_exporter": "python",
   "pygments_lexer": "ipython3",
   "version": "3.5.4"
  }
 },
 "nbformat": 4,
 "nbformat_minor": 2
}
