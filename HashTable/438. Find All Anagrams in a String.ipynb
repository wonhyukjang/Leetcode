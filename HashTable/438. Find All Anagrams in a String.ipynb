{
 "cells": [
  {
   "cell_type": "markdown",
   "metadata": {},
   "source": [
    "# 438. Find All Anagrams in a String\n"
   ]
  },
  {
   "cell_type": "markdown",
   "metadata": {},
   "source": [
    "# Given a string s and a non-empty string p, find all the start indices of p's anagrams in s.\n",
    "\n",
    "##### Strings consists of lowercase English letters only and the length of both strings s and p will not be larger than 20,100.\n",
    "\n",
    "##### The order of output does not matter.\n",
    "\n",
    "### Example 1:\n",
    "\n",
    "#### Input:\n",
    "#### s: \"cbaebabacd\" p: \"abc\"\n",
    "\n",
    "#### Output:\n",
    "#### [0, 6]\n",
    "\n",
    "#### Explanation:\n",
    "The substring with start index = 0 is \"cba\", which is an anagram of \"abc\".\n",
    "The substring with start index = 6 is \"bac\", which is an anagram of \"abc\".\n",
    "### Example 2:\n",
    "\n",
    "#### Input:\n",
    "#### s: \"abab\" p: \"ab\"\n",
    "\n",
    "#### Output:\n",
    "#### [0, 1, 2]\n",
    "\n",
    "#### Explanation:\n",
    "The substring with start index = 0 is \"ab\", which is an anagram of \"ab\".\n",
    "The substring with start index = 1 is \"ba\", which is an anagram of \"ab\".\n",
    "The substring with start index = 2 is \"ab\", which is an anagram of \"ab\"."
   ]
  },
  {
   "cell_type": "code",
   "execution_count": 2,
   "metadata": {},
   "outputs": [],
   "source": [
    "dic = dict()"
   ]
  },
  {
   "cell_type": "code",
   "execution_count": 60,
   "metadata": {},
   "outputs": [],
   "source": [
    "class Solution(object):\n",
    "    def findAnagrams(self, s, p):\n",
    "        \"\"\"\n",
    "        :type s: str\n",
    "        :type p: str\n",
    "        :rtype: List[int]\n",
    "        \"\"\"\n",
    "        \n",
    "        p_dic = dict()\n",
    "        s_dic = dict()\n",
    "        \n",
    "        if len(s) < len(p) or len(s) == 0:\n",
    "            return [] \n",
    "                \n",
    "        for x in p:\n",
    "            if x in p_dic:\n",
    "                p_dic[x] += 1\n",
    "            else:\n",
    "                p_dic[x] = 1\n",
    "    \n",
    "        arr = []\n",
    "\n",
    "        for i in range(len(s)-len(p) + 1):\n",
    "            if i == 0:\n",
    "                for x in s[i: i + len(p)]:\n",
    "                    if x in s_dic:\n",
    "                        s_dic[x] += 1\n",
    "                    else:\n",
    "                        s_dic[x] = 1               \n",
    "            else:\n",
    "                # Delete starting element of previous substring\n",
    "                if s_dic[s[i-1]] > 1:\n",
    "                    s_dic[s[i-1]] -= 1\n",
    "                else:\n",
    "                    del s_dic[s[i-1]]\n",
    "                    \n",
    "                if s[i + len(p) - 1] in s_dic:\n",
    "                    s_dic[s[i + len(p) - 1]] += 1\n",
    "                else:                        \n",
    "                    s_dic[s[i + len(p) - 1]] = 1\n",
    "            if s_dic == p_dic:\n",
    "                arr.append(i)\n",
    "        return arr\n",
    "    "
   ]
  },
  {
   "cell_type": "code",
   "execution_count": 59,
   "metadata": {},
   "outputs": [
    {
     "name": "stdout",
     "output_type": "stream",
     "text": [
      "i th:  0\n",
      "{'a': 1, 'c': 1, 'b': 1} {'a': 1, 'c': 1, 'b': 1}\n",
      "i th:  1\n",
      "{'a': 1, 'e': 1, 'b': 1} {'a': 1, 'c': 1, 'b': 1}\n",
      "i th:  2\n",
      "{'a': 1, 'e': 1, 'b': 1} {'a': 1, 'c': 1, 'b': 1}\n",
      "i th:  3\n",
      "{'a': 1, 'e': 1, 'b': 1} {'a': 1, 'c': 1, 'b': 1}\n",
      "i th:  4\n",
      "{'a': 1, 'b': 2} {'a': 1, 'c': 1, 'b': 1}\n",
      "i th:  5\n",
      "{'a': 2, 'b': 1} {'a': 1, 'c': 1, 'b': 1}\n",
      "i th:  6\n",
      "{'a': 1, 'c': 1, 'b': 1} {'a': 1, 'c': 1, 'b': 1}\n",
      "i th:  7\n",
      "{'d': 1, 'a': 1, 'c': 1} {'a': 1, 'c': 1, 'b': 1}\n"
     ]
    },
    {
     "data": {
      "text/plain": [
       "[0, 6]"
      ]
     },
     "execution_count": 59,
     "metadata": {},
     "output_type": "execute_result"
    }
   ],
   "source": [
    "sol = Solution()\n",
    "sol.findAnagrams(\"cbaebabacd\",\"abc\")"
   ]
  },
  {
   "cell_type": "markdown",
   "metadata": {},
   "source": [
    "# Analysis"
   ]
  },
  {
   "cell_type": "markdown",
   "metadata": {},
   "source": [
    "### Time Complexity: O(m + n)\n",
    "### Space Complexity: O(m + n)"
   ]
  },
  {
   "cell_type": "code",
   "execution_count": null,
   "metadata": {},
   "outputs": [],
   "source": []
  }
 ],
 "metadata": {
  "kernelspec": {
   "display_name": "Python 3",
   "language": "python",
   "name": "python3"
  },
  "language_info": {
   "codemirror_mode": {
    "name": "ipython",
    "version": 3
   },
   "file_extension": ".py",
   "mimetype": "text/x-python",
   "name": "python",
   "nbconvert_exporter": "python",
   "pygments_lexer": "ipython3",
   "version": "3.5.4"
  }
 },
 "nbformat": 4,
 "nbformat_minor": 2
}
