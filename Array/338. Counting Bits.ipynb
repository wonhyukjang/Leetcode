{
 "cells": [
  {
   "cell_type": "markdown",
   "metadata": {},
   "source": [
    "#   338. Counting Bits"
   ]
  },
  {
   "cell_type": "markdown",
   "metadata": {},
   "source": [
    "Given a non negative integer number num. <br/>\n",
    "For every numbers i in the range 0 ≤ i ≤ num calculate the number of 1's in their binary representation and return them as an array.\n",
    "\n",
    "Example 1:\n",
    "\n",
    "Input: 2<br/>\n",
    "Output: [0,1,1]<br/>\n",
    "\n",
    "Example 2:\n",
    "\n",
    "Input: 5<br/>\n",
    "Output: [0,1,1,2,1,2]<br/>\n",
    "\n",
    "Follow up:\n",
    "\n",
    "It is very easy to come up with a solution with run time O(n*sizeof(integer)). But can you do it in linear time O(n) /possibly in a single pass?\n",
    "Space complexity should be O(n).\n",
    "Can you do it like a boss? Do it without using any builtin function like __builtin_popcount in c++ or in any other language."
   ]
  },
  {
   "cell_type": "code",
   "execution_count": 1,
   "metadata": {},
   "outputs": [],
   "source": [
    "class Solution(object):\n",
    "    def countBits(self, num):\n",
    "        \"\"\"\n",
    "        :type num: int\n",
    "        :rtype: List[int]\n",
    "        \"\"\"\n",
    "        dum = None\n",
    "        \n",
    "        # Base Case\n",
    "        if num < 0:\n",
    "            return [0]\n",
    "        \n",
    "        if num == 1:\n",
    "            return [0,1]\n",
    "        \n",
    "        result = [0,1]\n",
    "        \n",
    "        # i + 1 & i -> Check if it's power of 2 and save it to variable dum\n",
    "        # Convert result[10] to result[8] + result[2] \n",
    "        \n",
    "        for i in range(1, num):\n",
    "            if i + 1 & i == 0:\n",
    "                result.append(1)\n",
    "                dum = i + 1\n",
    "            else:                \n",
    "                result.append(result[dum] + result[i + 1 - dum])\n",
    "        return result\n",
    "                "
   ]
  },
  {
   "cell_type": "code",
   "execution_count": 2,
   "metadata": {},
   "outputs": [
    {
     "data": {
      "text/plain": [
       "[0, 1, 1]"
      ]
     },
     "execution_count": 2,
     "metadata": {},
     "output_type": "execute_result"
    }
   ],
   "source": [
    "sol = Solution()\n",
    "sol.countBits(2)"
   ]
  },
  {
   "cell_type": "code",
   "execution_count": 3,
   "metadata": {},
   "outputs": [
    {
     "data": {
      "text/plain": [
       "[0, 1, 1, 2, 1, 2]"
      ]
     },
     "execution_count": 3,
     "metadata": {},
     "output_type": "execute_result"
    }
   ],
   "source": [
    "sol = Solution()\n",
    "sol.countBits(5)"
   ]
  },
  {
   "cell_type": "markdown",
   "metadata": {},
   "source": [
    "# Analysis"
   ]
  },
  {
   "cell_type": "markdown",
   "metadata": {},
   "source": [
    "### Time Complexity: O(n)\n",
    "### Space Complexity: O(1)\n",
    "\n"
   ]
  }
 ],
 "metadata": {
  "kernelspec": {
   "display_name": "Python 3",
   "language": "python",
   "name": "python3"
  },
  "language_info": {
   "codemirror_mode": {
    "name": "ipython",
    "version": 3
   },
   "file_extension": ".py",
   "mimetype": "text/x-python",
   "name": "python",
   "nbconvert_exporter": "python",
   "pygments_lexer": "ipython3",
   "version": "3.5.4"
  }
 },
 "nbformat": 4,
 "nbformat_minor": 2
}
