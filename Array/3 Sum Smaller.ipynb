{
 "cells": [
  {
   "cell_type": "markdown",
   "metadata": {},
   "source": [
    "# 3 Sum Smaller"
   ]
  },
  {
   "cell_type": "markdown",
   "metadata": {},
   "source": [
    "Given an array of n integers nums and a target, find the number of index triplets i, j, k with 0 <= i < j < k < n that satisfy the condition nums[i] + nums[j] + nums[k] < target.<br>\n",
    "\n",
    "<b>Example:</b>\n",
    "\n",
    "<b>Input:</b> nums = [-2,0,1,3], and target = 2<br>\n",
    "<b>Output:</b> 2 <br>\n",
    "<b>Explanation:</b> Because there are two triplets which sums are less than 2:<br>\n",
    "             [-2,0,1]<br>\n",
    "             [-2,0,3]<br>\n",
    "<b>Follow up:</b> Could you solve it in O(n2) runtime?"
   ]
  },
  {
   "cell_type": "code",
   "execution_count": 1,
   "metadata": {},
   "outputs": [],
   "source": [
    "class Solution(object):\n",
    "    def threeSumSmaller(self, nums, target):\n",
    "        count = 0\n",
    "        nums.sort()\n",
    "        for i in range(len(nums)):\n",
    "            lo, hi = i + 1, len(nums) - 1\n",
    "            while lo < hi:\n",
    "                sums = nums[i] + nums[lo] + nums[hi]\n",
    "                if sums < target:\n",
    "                    count += (hi - lo)\n",
    "                    lo += 1\n",
    "                else:\n",
    "                    hi -= 1\n",
    "        return count"
   ]
  },
  {
   "cell_type": "markdown",
   "metadata": {},
   "source": [
    "# Complexity Analysis\n",
    "### Time Complexity: O(n^2)\n",
    "### Space Complexity: O(log(n))\n",
    "\n",
    "\n"
   ]
  }
 ],
 "metadata": {
  "kernelspec": {
   "display_name": "Python 3",
   "language": "python",
   "name": "python3"
  },
  "language_info": {
   "codemirror_mode": {
    "name": "ipython",
    "version": 3
   },
   "file_extension": ".py",
   "mimetype": "text/x-python",
   "name": "python",
   "nbconvert_exporter": "python",
   "pygments_lexer": "ipython3",
   "version": "3.5.4"
  }
 },
 "nbformat": 4,
 "nbformat_minor": 2
}
