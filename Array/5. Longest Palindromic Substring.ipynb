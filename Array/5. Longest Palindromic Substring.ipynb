{
 "cells": [
  {
   "cell_type": "markdown",
   "metadata": {},
   "source": [
    "# 5. Longest Palindromic Substring\n",
    "\n",
    "Given a string s, find the longest palindromic substring in s. You may assume that the maximum length of s is 1000.\n",
    "\n",
    "<b>Example 1:</b><br>\n",
    "\n",
    "<b>Input:</b>\"babad\"<br>\n",
    "<b>Output:</b> \"bab\"<br>\n",
    "<b>Note:</b> \"aba\" is also a valid answer.<br>\n",
    "\n",
    "<b>Example 2:</b>\n",
    "\n",
    "<b>Input:</b> \"cbbd\"<br>\n",
    "<b>Output:</b> \"bb\""
   ]
  },
  {
   "cell_type": "code",
   "execution_count": 37,
   "metadata": {},
   "outputs": [],
   "source": [
    "class Solution:\n",
    "    def longestPalindrome(self, s):\n",
    "        result = \"\"\n",
    "        for i in range(len(s)):\n",
    "            start,end = i, i+1\n",
    "            \n",
    "            while start >= 0 and end < len(s) and s[start] == s[end]:\n",
    "                if len(result) < (end - start + 1):\n",
    "                    result = s[start:end+1]\n",
    "                start -= 1\n",
    "                end += 1\n",
    "\n",
    "                    \n",
    "            start, end = i, i\n",
    "\n",
    "            \n",
    "            while start >= 0 and end < len(s) and s[start] == s[end]:\n",
    "                if len(result) < (end - start+ 1):\n",
    "                    result = s[start:end+1]\n",
    "\n",
    "\n",
    "                start -= 1\n",
    "                end += 1\n",
    "        return result"
   ]
  },
  {
   "cell_type": "code",
   "execution_count": 38,
   "metadata": {},
   "outputs": [
    {
     "data": {
      "text/plain": [
       "'bab'"
      ]
     },
     "execution_count": 38,
     "metadata": {},
     "output_type": "execute_result"
    }
   ],
   "source": [
    "sol = Solution()\n",
    "sol.longestPalindrome(\"babad\")"
   ]
  },
  {
   "cell_type": "markdown",
   "metadata": {},
   "source": [
    "# Complexity Analysis\n",
    "### Time Complexity: O(n^2)\n",
    "### Space Complexity: O(1)"
   ]
  },
  {
   "cell_type": "markdown",
   "metadata": {},
   "source": [
    "# Dynamic Programming"
   ]
  },
  {
   "cell_type": "code",
   "execution_count": 39,
   "metadata": {},
   "outputs": [],
   "source": [
    "class Solution:\n",
    "    def longestPalindrome(self, s):\n",
    "        n = len(s)\n",
    "        \n",
    "        # Form a bottom-up dp 2d array\n",
    "        # dp[i][j] will be 'true' if the string from index i to j is a palindrome. \n",
    "\n",
    " \n",
    "        dp = [[False] * n for _ in range(n)]\n",
    "        \n",
    "        \n",
    "        ans = ''\n",
    "\n",
    "        # every string with one character is a palindrome\n",
    "\n",
    "        for i in range(n):\n",
    "            dp[i][i] = True\n",
    "            ans = s[i]\n",
    "        \n",
    "        for start in range(n - 1, -1, -1):\n",
    "            for end in range(start + 1, n):\n",
    "                # palindrome condition\n",
    "                \n",
    "                if s[start] == s[end]:\n",
    "                    # if it's a two char. string or if the remaining string is a palindrome too\n",
    "                    \n",
    "                    if end - start == 1 or dp[start+1][end-1]:\n",
    "                        dp[start][end] = True                        \n",
    "                        if len(ans) < (end - start + 1):\n",
    "                            ans = s[start: end + 1]\n",
    "        return ans"
   ]
  },
  {
   "cell_type": "markdown",
   "metadata": {},
   "source": [
    "# Complexity Analysis\n",
    "### Time Complexity: O(n^2)\n",
    "### Space Complexity: O(n^2)"
   ]
  }
 ],
 "metadata": {
  "kernelspec": {
   "display_name": "Python 3",
   "language": "python",
   "name": "python3"
  },
  "language_info": {
   "codemirror_mode": {
    "name": "ipython",
    "version": 3
   },
   "file_extension": ".py",
   "mimetype": "text/x-python",
   "name": "python",
   "nbconvert_exporter": "python",
   "pygments_lexer": "ipython3",
   "version": "3.5.4"
  }
 },
 "nbformat": 4,
 "nbformat_minor": 2
}
