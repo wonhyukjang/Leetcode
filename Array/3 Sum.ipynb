{
 "cells": [
  {
   "cell_type": "markdown",
   "metadata": {},
   "source": [
    "# 3 Sum"
   ]
  },
  {
   "cell_type": "markdown",
   "metadata": {},
   "source": [
    "Given an array nums of n integers, are there elements a, b, c in nums such that a + b + c = 0? Find all unique triplets in the array which gives the sum of zero.\n",
    "\n",
    "<b>Note:</b>\n",
    "\n",
    "The solution set must not contain duplicate triplets.\n",
    "\n",
    "<b>Example:</b>\n",
    "\n",
    "Given array nums = [-1, 0, 1, 2, -1, -4],\n",
    "\n",
    "A solution set is:<br>\n",
    "[<br>\n",
    "  [-1, 0, 1],<br>\n",
    "  [-1, -1, 2]<br>\n",
    "]"
   ]
  },
  {
   "cell_type": "code",
   "execution_count": 18,
   "metadata": {},
   "outputs": [],
   "source": [
    "class Solution(object):\n",
    "    def threeSum(self, nums):\n",
    "        \"\"\"\n",
    "        :type nums: List[int]\n",
    "        :rtype: List[List[int]]\n",
    "        \"\"\"\n",
    "        nums.sort()\n",
    "        result = []\n",
    "        \n",
    "        for i in range(len(nums)):\n",
    "            first = nums[i]\n",
    "            lo = i + 1\n",
    "            hi = len(nums) - 1\n",
    "            \n",
    "            if nums[i] != nums[i-1] or i == 0:\n",
    "\n",
    "                while lo < hi:\n",
    "                    sums = nums[lo] + nums[hi] + first\n",
    "                    if sums > 0:\n",
    "                        hi -= 1\n",
    "                    elif sums < 0:\n",
    "                        lo += 1\n",
    "                    else:\n",
    "                        result.append([first, nums[lo],nums[hi]])\n",
    "                        hi -= 1\n",
    "                        lo += 1\n",
    "                        # [-2,0,0,2,2]\n",
    "                        while lo < hi and nums[lo] == nums[lo - 1]:\n",
    "                            lo += 1\n",
    "        return result\n",
    "            "
   ]
  },
  {
   "cell_type": "code",
   "execution_count": 19,
   "metadata": {},
   "outputs": [
    {
     "data": {
      "text/plain": [
       "[[-1, -1, 2], [-1, 0, 1]] "
      ]
     },
     "execution_count": 19,
     "metadata": {},
     "output_type": "execute_result"
    }
   ],
   "source": [
    "sol = Solution()\n",
    "sol.threeSum([-1, 0, 1, 2, -1, -4])"
   ]
  },
  {
   "cell_type": "markdown",
   "metadata": {},
   "source": [
    "# Complexity Analysis"
   ]
  },
  {
   "cell_type": "markdown",
   "metadata": {},
   "source": [
    "### Time Complexity: O(n^2)\n",
    "### Space Complexity: O(log(n))\n",
    "\n"
   ]
  },
  {
   "cell_type": "code",
   "execution_count": null,
   "metadata": {},
   "outputs": [],
   "source": []
  }
 ],
 "metadata": {
  "kernelspec": {
   "display_name": "Python 3",
   "language": "python",
   "name": "python3"
  },
  "language_info": {
   "codemirror_mode": {
    "name": "ipython",
    "version": 3
   },
   "file_extension": ".py",
   "mimetype": "text/x-python",
   "name": "python",
   "nbconvert_exporter": "python",
   "pygments_lexer": "ipython3",
   "version": "3.5.4"
  }
 },
 "nbformat": 4,
 "nbformat_minor": 2
}
